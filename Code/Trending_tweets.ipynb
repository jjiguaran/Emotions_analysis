{
 "cells": [
  {
   "cell_type": "code",
   "execution_count": 1,
   "id": "296e4525-ca27-4b27-b295-f6b274920df0",
   "metadata": {},
   "outputs": [],
   "source": [
    "import tweepy\n",
    "import pandas as pd\n",
    "import os\n",
    "import unidecode\n",
    "#import datetime\n",
    "from datetime import timedelta, datetime \n",
    "from dateutil.relativedelta import relativedelta\n",
    "import time"
   ]
  },
  {
   "cell_type": "code",
   "execution_count": 2,
   "id": "1e011249-09d9-48a5-a304-6280c77eb0b0",
   "metadata": {},
   "outputs": [],
   "source": [
    "client = tweepy.Client(bearer_token = \"AAAAAAAAAAAAAAAAAAAAAKKEcwEAAAAA1VgzT5upnu%2B5POQ3dbdUx0%2B5vfA%3DdslAW6ut31gZhQD9SjNKJ4scCFd8bHgbevp8eGcJprbd2LTrGf\", wait_on_rate_limit = True)"
   ]
  },
  {
   "cell_type": "code",
   "execution_count": 109,
   "id": "0857c154-a744-42a2-adea-b038d1aaf28f",
   "metadata": {},
   "outputs": [],
   "source": [
    "trendings_keywords = pd.read_csv('../Data/trendings.csv')"
   ]
  },
  {
   "cell_type": "code",
   "execution_count": 126,
   "id": "8c4824a4-9980-45bc-8d76-ac516b7c3a9d",
   "metadata": {
    "tags": []
   },
   "outputs": [],
   "source": [
    "def get_trendings(trending, start_date, number_days, minutes_spam ):\n",
    "    trending_words = '(' +trending+  ')'\n",
    "    df_list = []\n",
    "    end_date = start_date + relativedelta(days=number_days)\n",
    "    while start_date < end_date:\n",
    "        print(start_date)\n",
    "        upper_limit = start_date+ relativedelta(minutes=minutes_spam)\n",
    "        start= start_date.isoformat(\"T\") + \"Z\"\n",
    "        end = upper_limit.isoformat(\"T\") + \"Z\"\n",
    "        rsp = client.search_all_tweets(query = trending_words ,start_time = start, end_time = end, sort_order= 'relevancy',\n",
    "                                     tweet_fields = fields, max_results=500)\n",
    "        time.sleep(1)\n",
    "        tweets_df = pd.DataFrame(rsp.data, columns = fields)\n",
    "        tweets_df['date']= start\n",
    "        tweets_df = pd.concat([tweets_df.drop(['public_metrics'], axis=1), pd.json_normalize(tweets_df['public_metrics'])], axis=1)\n",
    "        df_list.append(tweets_df)\n",
    "        start_date = upper_limit\n",
    "    trendings_df = pd.concat(df_list)\n",
    "    trendings_df = trendings_df.reset_index(drop=True)\n",
    "    return(trendings_df)"
   ]
  },
  {
   "cell_type": "code",
   "execution_count": 123,
   "id": "caaec986-4318-41b6-8ef8-63c878e57e66",
   "metadata": {},
   "outputs": [
    {
     "name": "stdout",
     "output_type": "stream",
     "text": [
      "2022-05-22 00:00:00\n",
      "2022-05-22 00:10:00\n",
      "2022-05-22 00:20:00\n",
      "2022-05-22 00:30:00\n",
      "2022-05-22 00:40:00\n",
      "2022-05-22 00:50:00\n",
      "2022-05-22 01:00:00\n",
      "2022-05-22 01:10:00\n",
      "2022-05-22 01:20:00\n",
      "2022-05-22 01:30:00\n",
      "2022-05-22 01:40:00\n",
      "2022-05-22 01:50:00\n",
      "2022-05-22 02:00:00\n",
      "2022-05-22 02:10:00\n",
      "2022-05-22 02:20:00\n"
     ]
    }
   ],
   "source": [
    "fields = ['lang',\n",
    " 'public_metrics',\n",
    " 'author_id',\n",
    " 'id',\n",
    " 'created_at',\n",
    " 'text',\n",
    "         'conversation_id',\n",
    "         'geo',\n",
    "         'in_reply_to_user_id',\n",
    "         'referenced_tweets']\n",
    "start_date = datetime.strptime(trendings_keywords['date'][0], '%Y-%m-%d')\n",
    "trending = trendings_keywords['trending'][0]\n",
    "number_days = 0.1\n",
    "minutes_spam = 10\n",
    "trendings_df  = get_trendings(trending, start_date, number_days, minutes_spam )"
   ]
  }
 ],
 "metadata": {
  "kernelspec": {
   "display_name": "Python 3 (ipykernel)",
   "language": "python",
   "name": "python3"
  },
  "language_info": {
   "codemirror_mode": {
    "name": "ipython",
    "version": 3
   },
   "file_extension": ".py",
   "mimetype": "text/x-python",
   "name": "python",
   "nbconvert_exporter": "python",
   "pygments_lexer": "ipython3",
   "version": "3.9.7"
  }
 },
 "nbformat": 4,
 "nbformat_minor": 5
}
