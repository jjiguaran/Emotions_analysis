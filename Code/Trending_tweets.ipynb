{
 "cells": [
  {
   "cell_type": "code",
   "execution_count": 1,
   "id": "296e4525-ca27-4b27-b295-f6b274920df0",
   "metadata": {},
   "outputs": [],
   "source": [
    "import tweepy\n",
    "import pandas as pd\n",
    "import os\n",
    "import unidecode\n",
    "#import datetime\n",
    "from datetime import timedelta, datetime \n",
    "from dateutil.relativedelta import relativedelta\n",
    "import time"
   ]
  },
  {
   "cell_type": "code",
   "execution_count": 2,
   "id": "1e011249-09d9-48a5-a304-6280c77eb0b0",
   "metadata": {},
   "outputs": [],
   "source": [
    "client = tweepy.Client(bearer_token = \"AAAAAAAAAAAAAAAAAAAAAKKEcwEAAAAA1VgzT5upnu%2B5POQ3dbdUx0%2B5vfA%3DdslAW6ut31gZhQD9SjNKJ4scCFd8bHgbevp8eGcJprbd2LTrGf\", wait_on_rate_limit = True)"
   ]
  },
  {
   "cell_type": "code",
   "execution_count": 86,
   "id": "0857c154-a744-42a2-adea-b038d1aaf28f",
   "metadata": {},
   "outputs": [],
   "source": [
    "trendings_df = pd.read_csv('../Data/trendings.csv')"
   ]
  },
  {
   "cell_type": "code",
   "execution_count": 64,
   "id": "8578b990-1a50-4b44-aec3-885858ee1e91",
   "metadata": {},
   "outputs": [],
   "source": [
    "def get_tweets(trending, number_tweets, start, end, fields):\n",
    "    trending_words = '(' +trending+  ')'\n",
    "    searched_tweets = [tweet for tweet in tweepy.Paginator(client.search_all_tweets ,query = trending_words ,start_time = start, end_time = end, sort_order= 'relevancy',\n",
    "                                 tweet_fields = fields, max_results=500).flatten(limit=number_tweets)]\n",
    "    tweets_df = pd.DataFrame(searched_tweets, columns = fields)\n",
    "    tweets_df['date']= start\n",
    "    tweets_df = pd.concat([tweets_df.drop(['public_metrics'], axis=1), pd.json_normalize(tweets_df['public_metrics'])], axis=1)\n",
    "    return tweets_df"
   ]
  },
  {
   "cell_type": "code",
   "execution_count": 87,
   "id": "2de56d05-25a2-4290-acdc-fc87ad2cefe5",
   "metadata": {},
   "outputs": [],
   "source": [
    "number_tweets = 1\n",
    "fields = ['lang',\n",
    " 'public_metrics',\n",
    " 'author_id',\n",
    " 'id',\n",
    " 'created_at',\n",
    " 'edit_history_tweet_ids',\n",
    " 'source',\n",
    " 'text']\n",
    "df_list = []\n",
    "for i in range(len(trendings)):\n",
    "    trending = trendings_df['trending'][i]\n",
    "    start_date = datetime.strptime(trendings_df['date'][i], '%Y-%m-%d')\n",
    "    end_date = start_date + relativedelta(days=1)\n",
    "    start= start_date.isoformat(\"T\") + \"Z\"\n",
    "    end = end_date.isoformat(\"T\") + \"Z\"\n",
    "    start_date = datetime.strptime(trendings_df['date'][i], '%Y-%m-%d')\n",
    "    end_date = start_date + relativedelta(days=1)\n",
    "    df_list.append(get_tweets(trending, number_tweets, start, end, fields))\n",
    "emociones_df = pd.concat(df_list)"
   ]
  }
 ],
 "metadata": {
  "kernelspec": {
   "display_name": "Python 3 (ipykernel)",
   "language": "python",
   "name": "python3"
  },
  "language_info": {
   "codemirror_mode": {
    "name": "ipython",
    "version": 3
   },
   "file_extension": ".py",
   "mimetype": "text/x-python",
   "name": "python",
   "nbconvert_exporter": "python",
   "pygments_lexer": "ipython3",
   "version": "3.9.7"
  }
 },
 "nbformat": 4,
 "nbformat_minor": 5
}
