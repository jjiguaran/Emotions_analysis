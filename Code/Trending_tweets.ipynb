{
 "cells": [
  {
   "cell_type": "code",
   "execution_count": 1,
   "id": "296e4525-ca27-4b27-b295-f6b274920df0",
   "metadata": {},
   "outputs": [],
   "source": [
    "import tweepy\n",
    "import pandas as pd\n",
    "import os\n",
    "import unidecode\n",
    "#import datetime\n",
    "from datetime import timedelta, datetime \n",
    "from dateutil.relativedelta import relativedelta\n",
    "import time\n",
    "import datetime as dt \n",
    "import pymongo\n",
    "from pymongo import MongoClient\n",
    "import numpy as np\n",
    "pd.options.mode.chained_assignment = None "
   ]
  },
  {
   "cell_type": "code",
   "execution_count": 2,
   "id": "1e011249-09d9-48a5-a304-6280c77eb0b0",
   "metadata": {},
   "outputs": [],
   "source": [
    "client = tweepy.Client(bearer_token = \"AAAAAAAAAAAAAAAAAAAAAKKEcwEAAAAA1VgzT5upnu%2B5POQ3dbdUx0%2B5vfA%3DdslAW6ut31gZhQD9SjNKJ4scCFd8bHgbevp8eGcJprbd2LTrGf\", wait_on_rate_limit = True)"
   ]
  },
  {
   "cell_type": "code",
   "execution_count": 3,
   "id": "8c4824a4-9980-45bc-8d76-ac516b7c3a9d",
   "metadata": {
    "tags": []
   },
   "outputs": [],
   "source": [
    "def get_trendings(trending, start_date, number_days, minutes_spam ):\n",
    "    trending_words = '(' +trending+  ') -is:retweet'\n",
    "    df_list = []\n",
    "    end_date = start_date + relativedelta(days=number_days)\n",
    "    start_time = dt.datetime.now()\n",
    "    while start_date < end_date:\n",
    "        now = dt.datetime.now()\n",
    "        print('Extraction Date:', start_date, 'Trending:',trending, 'Start Time',start_time,  'Time extraction:',now, end=\"\\r\")\n",
    "        upper_limit = start_date+ relativedelta(minutes=minutes_spam)\n",
    "        start= start_date.isoformat(\"T\") + \"Z\"\n",
    "        end = upper_limit.isoformat(\"T\") + \"Z\"\n",
    "        rsp = client.search_all_tweets(query = trending_words ,start_time = start, end_time = end, sort_order= 'relevancy',\n",
    "                                     tweet_fields = fields, max_results=500)\n",
    "        time.sleep(3)\n",
    "        tweets_df = pd.DataFrame(rsp.data, columns = fields)\n",
    "        tweets_df['date']= start\n",
    "        tweets_df = pd.concat([tweets_df.drop(['public_metrics'], axis=1), pd.json_normalize(tweets_df['public_metrics'])], axis=1)\n",
    "        tweets_df = pd.concat([tweets_df.drop(['geo'], axis=1), pd.json_normalize(tweets_df['geo'])], axis=1)\n",
    "        df_list.append(tweets_df)\n",
    "        start_date = upper_limit\n",
    "    trendings_df = pd.concat(df_list)\n",
    "    trendings_df = trendings_df.reset_index(drop=True)\n",
    "    return(trendings_df)"
   ]
  },
  {
   "cell_type": "code",
   "execution_count": 5,
   "id": "75501949-6a1d-4327-851d-79de7c5e7151",
   "metadata": {
    "tags": []
   },
   "outputs": [],
   "source": [
    "fields = ['lang',\n",
    " 'public_metrics',\n",
    " 'author_id',\n",
    " 'id',\n",
    " 'created_at',\n",
    " 'text',\n",
    "         'conversation_id',\n",
    "         'geo',\n",
    "         'in_reply_to_user_id']\n",
    "trendings_keywords = pd.read_csv('../Data/trendings.csv')\n",
    "for i in range(len(trendings_keywords)):\n",
    "    start_date = trendings_keywords['date'][i]\n",
    "    newpath = '../Data/Trendings/'+ start_date + '/'\n",
    "    if not os.path.exists(newpath):\n",
    "        os.makedirs(newpath)\n",
    "    trending = trendings_keywords['trending'][i]\n",
    "    file_name = start_date + '__' +  trending + '.gzip'\n",
    "    if file_name not in os.listdir(newpath):\n",
    "        number_days = 1\n",
    "        minutes_spam = 10\n",
    "        start_date_format = datetime.strptime(start_date, '%Y-%m-%d')\n",
    "        try:\n",
    "            trendings_df  = get_trendings(trending, start_date_format, number_days, minutes_spam )\n",
    "        except:\n",
    "            trendings_df  = get_trendings(trending, start_date_format, number_days, minutes_spam )\n",
    "        trendings_df.to_parquet(newpath + file_name,\n",
    "                  compression='gzip')\n",
    "        trendings_keywords['Count'][i] = len(trendings_df)\n",
    "    trendings_keywords.to_csv('../Data/trendings.csv', index=False)"
   ]
  },
  {
   "cell_type": "code",
   "execution_count": null,
   "id": "541887b2-9b7b-4b99-ad79-e20201ca1a5a",
   "metadata": {},
   "outputs": [],
   "source": [
    "text\t"
   ]
  }
 ],
 "metadata": {
  "kernelspec": {
   "display_name": "Python 3 (ipykernel)",
   "language": "python",
   "name": "python3"
  },
  "language_info": {
   "codemirror_mode": {
    "name": "ipython",
    "version": 3
   },
   "file_extension": ".py",
   "mimetype": "text/x-python",
   "name": "python",
   "nbconvert_exporter": "python",
   "pygments_lexer": "ipython3",
   "version": "3.9.7"
  }
 },
 "nbformat": 4,
 "nbformat_minor": 5
}
