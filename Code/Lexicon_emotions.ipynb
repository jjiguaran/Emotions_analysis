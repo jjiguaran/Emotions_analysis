{
 "cells": [
  {
   "cell_type": "code",
   "execution_count": 1,
   "id": "5ba74ffe-b3ce-40b4-ace1-78e8390b038c",
   "metadata": {},
   "outputs": [],
   "source": [
    "import tweepy\n",
    "import pandas as pd\n",
    "import os\n",
    "import unidecode\n",
    "#import datetime\n",
    "from datetime import timedelta, datetime \n",
    "from dateutil.relativedelta import relativedelta\n",
    "import time\n",
    "import datetime as dt \n",
    "import pymongo\n",
    "from pymongo import MongoClient\n",
    "import numpy as np\n",
    "pd.options.mode.chained_assignment = None "
   ]
  },
  {
   "cell_type": "code",
   "execution_count": 6,
   "id": "a0d7bde0-91b4-466d-8408-3e27ed4dd502",
   "metadata": {},
   "outputs": [],
   "source": [
    "cleaned = pd.read_parquet('../Data/Full_dataset/data_filtered.gzip')"
   ]
  },
  {
   "cell_type": "code",
   "execution_count": 6,
   "id": "fe0e8f23-5fe1-40d6-9c7c-7862abdfc0c8",
   "metadata": {},
   "outputs": [],
   "source": [
    "total = len(cleaned)\n",
    "perc_sample = 0.01\n",
    "proportion = round(total*perc_sample)\n",
    "sampled_df = cleaned.sample(proportion, random_state=1)\n",
    "sampled_df = sampled_df.reset_index(drop=True)"
   ]
  },
  {
   "cell_type": "code",
   "execution_count": 2,
   "id": "9d339457-baba-46a0-9ed5-65c3f8a867df",
   "metadata": {
    "tags": []
   },
   "outputs": [],
   "source": [
    "sel = pd.read_csv('../Data/SEL/SEL_full.txt', delimiter='\\t', encoding= 'ISO-8859-1')\n",
    "sel  = sel.drop_duplicates(subset=['Palabra', 'Categoría'])\n",
    "sel_list = list(sel['Palabra'])"
   ]
  },
  {
   "cell_type": "code",
   "execution_count": 20,
   "id": "c49e9d95-ca5d-4e36-bbf7-bc045761d2ab",
   "metadata": {},
   "outputs": [],
   "source": [
    "emotions_dict = {}\n",
    "for i in sel['Categoría'].unique():\n",
    "    emotions_list = list(sel[sel['Categoría'] == i].sort_values(by= [' PFA'], ascending = False)[:20]['Palabra'])\n",
    "    emotions_dict[i] = emotions_list"
   ]
  },
  {
   "cell_type": "code",
   "execution_count": 23,
   "id": "72052243-0419-464d-9fa7-d653ae424665",
   "metadata": {},
   "outputs": [],
   "source": [
    "emotions_words = pd.DataFrame(emotions_dict)\n",
    "emotions_words.to_csv('../Data/Sidorov/top_emotions_words.csv', index = False)"
   ]
  },
  {
   "cell_type": "code",
   "execution_count": 16,
   "id": "e19209bb-d02d-4188-a70b-fd13409d059a",
   "metadata": {},
   "outputs": [],
   "source": [
    "alegria_list = sel[sel['Categoría'] == 'Alegría'].sort_values(by= [' PFA'], ascending = False)[:20]['Palabra']"
   ]
  },
  {
   "cell_type": "code",
   "execution_count": 298,
   "id": "7628fc11-582a-4e83-97a0-bb550ecb9a21",
   "metadata": {},
   "outputs": [
    {
     "name": "stderr",
     "output_type": "stream",
     "text": [
      "/tmp/ipykernel_5036/1904514863.py:1: FutureWarning: The default value of regex will change from True to False in a future version.\n",
      "  cleaned['tweet_split'] = cleaned['text'].str.replace('[^\\w\\s]','').str.lower()\n"
     ]
    }
   ],
   "source": [
    "cleaned['tweet_split'] = cleaned['text'].str.replace('[^\\w\\s]','').str.lower()\n",
    "cleaned['tweet_split'] = cleaned['tweet_split'].str.split()\n",
    "emociones = list(sel['Categoría'].unique())\n",
    "for i in emociones:\n",
    "    cleaned[i] = 0.0"
   ]
  },
  {
   "cell_type": "code",
   "execution_count": 318,
   "id": "c9eb38f4-82f5-46bb-9950-31f85bbbb6fc",
   "metadata": {},
   "outputs": [],
   "source": [
    "def emotional_values(df):\n",
    "    text_list = df['tweet_split']\n",
    "    text_length = df['Number_words']\n",
    "    emo_values = dict.fromkeys(emociones, 0)\n",
    "    for i in text_list:\n",
    "        if i in sel_list:\n",
    "            for j in sel[sel['Palabra'] == i]['Categoría']:\n",
    "                emo_values[j] += float(sel[(sel['Palabra'] == i) & (sel['Categoría'] == j)][' PFA'])/text_length\n",
    "    df[emociones] = [emo_values[i] for i in emociones]\n",
    "    return(df)"
   ]
  },
  {
   "cell_type": "code",
   "execution_count": 319,
   "id": "d0606890-43a1-4a30-a8fa-c59e781950c7",
   "metadata": {},
   "outputs": [
    {
     "name": "stdout",
     "output_type": "stream",
     "text": [
      "--- 746.3502352237701 seconds ---\n"
     ]
    }
   ],
   "source": [
    "start_time = time.time()\n",
    "cleaned_emotions = cleaned.apply(emotional_values, axis=1)\n",
    "print(\"--- %s seconds ---\" % (time.time() - start_time))"
   ]
  },
  {
   "cell_type": "code",
   "execution_count": 292,
   "id": "754a5104-17c1-4504-bcaa-213a8d8eb6aa",
   "metadata": {
    "tags": []
   },
   "outputs": [
    {
     "data": {
      "text/plain": [
       "['Alegría', 'Enojo', 'Miedo', 'Repulsión', 'Sorpresa', 'Tristeza']"
      ]
     },
     "execution_count": 292,
     "metadata": {},
     "output_type": "execute_result"
    }
   ],
   "source": [
    "emociones"
   ]
  },
  {
   "cell_type": "code",
   "execution_count": 332,
   "id": "7a8e5dce-162d-4819-8580-c8b00484d654",
   "metadata": {},
   "outputs": [],
   "source": [
    "cleaned_emotions['Emotion'] = cleaned_emotions[emociones].idxmax(axis=1)\n",
    "cleaned_emotions['Emotion_prob'] = cleaned_emotions[emociones].max(axis=1)\n",
    "cleaned_emotions['Emotion'] = np.where(cleaned_emotions['Emotion_prob'] == 0.0, 'Otra', cleaned_emotions['Emotion'])"
   ]
  },
  {
   "cell_type": "code",
   "execution_count": 356,
   "id": "02772065-7d1b-419a-8edc-367c1853f468",
   "metadata": {},
   "outputs": [
    {
     "data": {
      "text/plain": [
       "Otra         167752\n",
       "Alegría       63234\n",
       "Tristeza      24350\n",
       "Enojo         12195\n",
       "Miedo         10381\n",
       "Repulsión      6896\n",
       "Sorpresa       6027\n",
       "Name: Emotion, dtype: int64"
      ]
     },
     "execution_count": 356,
     "metadata": {},
     "output_type": "execute_result"
    }
   ],
   "source": [
    "cleaned_emotions.to_parquet('../Data/Full_dataset/data_filtered_emotions.gzip',\n",
    "          compression='gzip')\n",
    "cleaned_emotions['Emotion'].value_counts()"
   ]
  },
  {
   "cell_type": "code",
   "execution_count": 364,
   "id": "653f90fb-bf3c-4557-a60c-241406e81711",
   "metadata": {},
   "outputs": [],
   "source": [
    "emotions_df = []\n",
    "for i in emociones:\n",
    "    df = cleaned_emotions[cleaned_emotions['Emotion'] == i].sort_values(by=['Emotion_prob'], ascending=False)[['text', 'Emotion', 'Emotion_prob']].iloc[0:2000]\n",
    "    emotions_df.append(df)\n",
    "full_emotions_df = pd.concat(emotions_df)"
   ]
  },
  {
   "cell_type": "code",
   "execution_count": 367,
   "id": "584b4c6c-57e0-448d-9a4e-c68089742555",
   "metadata": {},
   "outputs": [],
   "source": [
    "full_emotions_df.to_parquet('../Data/Emotional_tweets/raw_emotional_tweets.gzip',\n",
    "          compression='gzip')"
   ]
  }
 ],
 "metadata": {
  "kernelspec": {
   "display_name": "Python 3 (ipykernel)",
   "language": "python",
   "name": "python3"
  },
  "language_info": {
   "codemirror_mode": {
    "name": "ipython",
    "version": 3
   },
   "file_extension": ".py",
   "mimetype": "text/x-python",
   "name": "python",
   "nbconvert_exporter": "python",
   "pygments_lexer": "ipython3",
   "version": "3.9.7"
  }
 },
 "nbformat": 4,
 "nbformat_minor": 5
}
