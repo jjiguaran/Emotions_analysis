{
 "cells": [
  {
   "cell_type": "code",
   "execution_count": 1,
   "id": "14f92a05-3653-4bc0-8dc5-e49d42cb7313",
   "metadata": {},
   "outputs": [],
   "source": [
    "import tweepy\n",
    "import pandas as pd\n",
    "import os\n",
    "import unidecode\n",
    "#import datetime\n",
    "from datetime import timedelta, datetime \n",
    "from dateutil.relativedelta import relativedelta\n",
    "import time\n",
    "import datetime as dt \n",
    "import pymongo\n",
    "from pymongo import MongoClient\n",
    "import numpy as np\n",
    "pd.options.mode.chained_assignment = None "
   ]
  },
  {
   "cell_type": "code",
   "execution_count": 28,
   "id": "2ae32f7c-735c-4b76-a565-f9d224cc86de",
   "metadata": {},
   "outputs": [
    {
     "data": {
      "text/plain": [
       "Neutro       91\n",
       "Derecha      42\n",
       "Izquierda    40\n",
       "Name: Sector, dtype: int64"
      ]
     },
     "execution_count": 28,
     "metadata": {},
     "output_type": "execute_result"
    }
   ],
   "source": [
    "trendings_keywords = pd.read_csv('../Data/trendings.csv')\n",
    "trendings_keywords['Sector'].value_counts()"
   ]
  },
  {
   "cell_type": "code",
   "execution_count": 10,
   "id": "c8d30e5d-09d6-45ae-b542-c3fd1eba7a24",
   "metadata": {},
   "outputs": [
    {
     "data": {
      "text/html": [
       "<div>\n",
       "<style scoped>\n",
       "    .dataframe tbody tr th:only-of-type {\n",
       "        vertical-align: middle;\n",
       "    }\n",
       "\n",
       "    .dataframe tbody tr th {\n",
       "        vertical-align: top;\n",
       "    }\n",
       "\n",
       "    .dataframe thead th {\n",
       "        text-align: right;\n",
       "    }\n",
       "</style>\n",
       "<table border=\"1\" class=\"dataframe\">\n",
       "  <thead>\n",
       "    <tr style=\"text-align: right;\">\n",
       "      <th></th>\n",
       "      <th>trending</th>\n",
       "      <th>Sector</th>\n",
       "    </tr>\n",
       "  </thead>\n",
       "  <tbody>\n",
       "    <tr>\n",
       "      <th>0</th>\n",
       "      <td>#NosUnimosONosJodemos</td>\n",
       "      <td>Derecha</td>\n",
       "    </tr>\n",
       "    <tr>\n",
       "      <th>1</th>\n",
       "      <td>#FedericoEsColombia</td>\n",
       "      <td>Derecha</td>\n",
       "    </tr>\n",
       "    <tr>\n",
       "      <th>2</th>\n",
       "      <td>#LoPeorDeEstasElecciones</td>\n",
       "      <td>Neutro</td>\n",
       "    </tr>\n",
       "    <tr>\n",
       "      <th>3</th>\n",
       "      <td>#MiVotoEsPetroYFrancia</td>\n",
       "      <td>Izquierda</td>\n",
       "    </tr>\n",
       "    <tr>\n",
       "      <th>4</th>\n",
       "      <td>#MiVotoEsPetroYFrancia</td>\n",
       "      <td>Izquierda</td>\n",
       "    </tr>\n",
       "    <tr>\n",
       "      <th>...</th>\n",
       "      <td>...</td>\n",
       "      <td>...</td>\n",
       "    </tr>\n",
       "    <tr>\n",
       "      <th>168</th>\n",
       "      <td>#DePetroEspero</td>\n",
       "      <td>Neutro</td>\n",
       "    </tr>\n",
       "    <tr>\n",
       "      <th>169</th>\n",
       "      <td>#PetroNecesita</td>\n",
       "      <td>Neutro</td>\n",
       "    </tr>\n",
       "    <tr>\n",
       "      <th>170</th>\n",
       "      <td>#EsMuyImportante</td>\n",
       "      <td>Neutro</td>\n",
       "    </tr>\n",
       "    <tr>\n",
       "      <th>171</th>\n",
       "      <td>#PetroBastaYa</td>\n",
       "      <td>Neutro</td>\n",
       "    </tr>\n",
       "    <tr>\n",
       "      <th>172</th>\n",
       "      <td>#LosImpuestosDePetro</td>\n",
       "      <td>Neutro</td>\n",
       "    </tr>\n",
       "  </tbody>\n",
       "</table>\n",
       "<p>173 rows × 2 columns</p>\n",
       "</div>"
      ],
      "text/plain": [
       "                     trending     Sector\n",
       "0       #NosUnimosONosJodemos    Derecha\n",
       "1         #FedericoEsColombia    Derecha\n",
       "2    #LoPeorDeEstasElecciones     Neutro\n",
       "3      #MiVotoEsPetroYFrancia  Izquierda\n",
       "4      #MiVotoEsPetroYFrancia  Izquierda\n",
       "..                        ...        ...\n",
       "168            #DePetroEspero     Neutro\n",
       "169            #PetroNecesita     Neutro\n",
       "170          #EsMuyImportante     Neutro\n",
       "171             #PetroBastaYa     Neutro\n",
       "172      #LosImpuestosDePetro     Neutro\n",
       "\n",
       "[173 rows x 2 columns]"
      ]
     },
     "execution_count": 10,
     "metadata": {},
     "output_type": "execute_result"
    }
   ],
   "source": [
    "trendings_keywords[['trending','Sector']]"
   ]
  },
  {
   "cell_type": "code",
   "execution_count": 57,
   "id": "7d476806-5447-4ca8-9892-28bd16e1d73f",
   "metadata": {},
   "outputs": [],
   "source": [
    "df_list = []\n",
    "for i in range(len(trendings_keywords)):\n",
    "    start_date = trendings_keywords['date'][i]\n",
    "    newpath = '../Data/Trendings/'+ start_date + '/'\n",
    "    trending = trendings_keywords['trending'][i]\n",
    "    file_name = start_date + '__' +  trending + '.gzip'\n",
    "    trendings_df = pd.read_parquet(newpath + file_name)\n",
    "    trendings_df['Trending'] =  trending \n",
    "    df_list.append(trendings_df)\n",
    "full_df = pd.concat(df_list)\n",
    "full_df = full_df.reset_index(drop=True)\n",
    "full_df.to_parquet('../Data/Full_dataset/full_data.gzip',\n",
    "          compression='gzip')"
   ]
  },
  {
   "cell_type": "code",
   "execution_count": 2,
   "id": "0f165e65-8f7a-4d3a-b533-e0e46785e259",
   "metadata": {},
   "outputs": [],
   "source": [
    "full_df = pd.read_parquet('../Data/Full_dataset/full_data.gzip')"
   ]
  },
  {
   "cell_type": "code",
   "execution_count": 92,
   "id": "a4f233ae-7dc2-4ed9-819a-d47b883c1594",
   "metadata": {},
   "outputs": [],
   "source": [
    "def cleaning(df, prop, words):\n",
    "    df['Number_words'] = df['text'].str.count(' ') + 1\n",
    "    df['Number_non_text'] = df['text'].str.count('#|@|http')\n",
    "    df['non_text_proportion'] = df['Number_non_text']/df['Number_words']\n",
    "    df = df[(df['non_text_proportion'] <= prop) & (df['Number_words'] > words)]\n",
    "    df = df.reset_index(drop=True)\n",
    "    return df"
   ]
  },
  {
   "cell_type": "code",
   "execution_count": 95,
   "id": "0ae9255e-31af-4048-89f9-df20fbad4728",
   "metadata": {},
   "outputs": [],
   "source": [
    "cleaned = cleaning(full_df, 0.2, 5)\n",
    "cleaned.to_parquet('../Data/Full_dataset/data_filtered.gzip',\n",
    "          compression='gzip')"
   ]
  },
  {
   "cell_type": "code",
   "execution_count": 6,
   "id": "47bc39ab-fb45-46ff-9240-8d9c55bf6e0e",
   "metadata": {},
   "outputs": [],
   "source": [
    "cleaned = pd.read_parquet('../Data/Full_dataset/data_filtered.gzip')"
   ]
  },
  {
   "cell_type": "code",
   "execution_count": 30,
   "id": "7d9ee3c0-f8a8-4f37-87b2-d078e565ae7e",
   "metadata": {},
   "outputs": [],
   "source": [
    "cleaned_political = cleaned.merge(trendings_keywords[['trending','Sector']].drop_duplicates(), how='left', left_on='Trending', right_on='trending')"
   ]
  },
  {
   "cell_type": "code",
   "execution_count": 31,
   "id": "27a0f972-5457-4bd9-a7ab-be0973e50dd4",
   "metadata": {},
   "outputs": [
    {
     "data": {
      "text/plain": [
       "Neutro       152594\n",
       "Izquierda     86006\n",
       "Derecha       52235\n",
       "Name: Sector, dtype: int64"
      ]
     },
     "execution_count": 31,
     "metadata": {},
     "output_type": "execute_result"
    }
   ],
   "source": [
    "cleaned_political['Sector'].value_counts()"
   ]
  }
 ],
 "metadata": {
  "kernelspec": {
   "display_name": "Python 3 (ipykernel)",
   "language": "python",
   "name": "python3"
  },
  "language_info": {
   "codemirror_mode": {
    "name": "ipython",
    "version": 3
   },
   "file_extension": ".py",
   "mimetype": "text/x-python",
   "name": "python",
   "nbconvert_exporter": "python",
   "pygments_lexer": "ipython3",
   "version": "3.9.7"
  }
 },
 "nbformat": 4,
 "nbformat_minor": 5
}
