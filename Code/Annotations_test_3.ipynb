{
 "cells": [
  {
   "cell_type": "code",
   "execution_count": 1,
   "id": "04687ff6-c30b-45f6-8057-3adbd3e202bf",
   "metadata": {},
   "outputs": [],
   "source": [
    "import pandas as pd\n",
    "pd.options.mode.chained_assignment = None\n",
    "from sklearn import preprocessing\n",
    "import numpy as np\n",
    "from statsmodels.stats import inter_rater as irr\n",
    "pd.options.display.max_colwidth = 240"
   ]
  },
  {
   "cell_type": "code",
   "execution_count": 2,
   "id": "667d7ec7-96a6-429a-963e-663593961500",
   "metadata": {},
   "outputs": [],
   "source": [
    "juanjo = pd.read_csv('../Data/Data_Annotated/latest_juanjo_annotations.csv', sep = '\\t')\n",
    "juanma = pd.read_csv('../Data/Data_Annotated/latest_juanma_annotations.csv', sep = '\\t')\n",
    "ger = pd.read_csv('../Data/Data_Annotated/latest_ger_annotations.csv', sep = '\\t')"
   ]
  },
  {
   "cell_type": "code",
   "execution_count": 3,
   "id": "48f60347-b832-479a-8d68-ce44146ead6b",
   "metadata": {},
   "outputs": [],
   "source": [
    "juanjo = juanjo.rename(columns = {'sentimento':'sentiment_juanjo', 'relevancia': 'relevancia_juanjo', 'emocion': 'emocion_juanjo', 'ironia': 'ironia_juanjo'})\n",
    "juanma = juanma.rename(columns = {'sentimento':'sentiment_juanma', 'relevancia': 'relevancia_juanma', 'emocion': 'emocion_juanma', 'ironia': 'ironia_juanma'})\n",
    "ger = ger.rename(columns = {'sentimento':'sentiment_ger', 'relevancia': 'relevancia_ger', 'emocion': 'emocion_ger', 'ironia': 'ironia_ger'})"
   ]
  },
  {
   "cell_type": "code",
   "execution_count": 15,
   "id": "c890b074-c201-4695-9f3b-b148fc204f38",
   "metadata": {},
   "outputs": [],
   "source": [
    "merged_df = pd.merge(pd.merge(juanjo[['text', 'tweet_id', 'sentiment_juanjo']],\n",
    "                     juanma[['tweet_id', 'sentiment_juanma']], on=['tweet_id']),\n",
    "                    ger[['tweet_id', 'sentiment_ger']], on=['tweet_id'])\n",
    "merged_relevancia = pd.merge(pd.merge(juanjo[['text', 'tweet_id', 'relevancia_juanjo']],\n",
    "                             juanma[['tweet_id', 'relevancia_juanma']], on=['tweet_id']),\n",
    "                            ger[['tweet_id', 'relevancia_ger']], on=['tweet_id'])\n",
    "merged_emocion = pd.merge(pd.merge(juanjo[['text', 'tweet_id', 'emocion_juanjo']],\n",
    "                          juanma[['tweet_id', 'emocion_juanma']], on=['tweet_id']),\n",
    "                         ger[['tweet_id', 'emocion_ger']], on=['tweet_id'])\n",
    "merged_ironia = pd.merge(pd.merge(juanjo[['text', 'tweet_id', 'ironia_juanjo']],\n",
    "                         juanma[['tweet_id', 'ironia_juanma']], on=['tweet_id']),\n",
    "                        ger[['tweet_id', 'ironia_ger']], on=['tweet_id'])"
   ]
  },
  {
   "cell_type": "code",
   "execution_count": 16,
   "id": "a44e69a5-9a20-45c3-ad0f-37d3ea5e3a97",
   "metadata": {},
   "outputs": [],
   "source": [
    "dict_emociones = {\n",
    "    'alegria' : ['Alegria', 'Confianza', 'Admiración','Agrado'],\n",
    "    'miedo' : ['Miedo', 'Incertidumbre'],\n",
    "    'sorpresa' : ['Sorpresa', 'Asombro'],\n",
    "    'tristeza' : ['Tristeza' , 'Decepción'],\n",
    "    'asco' : ['Asco', 'Desagrado'],\n",
    "    'ira' : ['Ira', 'Odio'],\n",
    "    'otra' : ['Otra'] }"
   ]
  },
  {
   "cell_type": "code",
   "execution_count": 17,
   "id": "2bc61df7-37a1-489d-b8a5-af2f6fe4fe43",
   "metadata": {},
   "outputs": [],
   "source": [
    "for i  in dict_emociones.keys():\n",
    "    merged_df[i + '_juanma'] = merged_df['sentiment_juanma'].str.contains('|'.join(dict_emociones[i]))\n",
    "    merged_df[i + '_juanjo'] = merged_df['sentiment_juanjo'].str.contains('|'.join(dict_emociones[i]))\n",
    "    merged_df[i + '_ger'] = merged_df['sentiment_ger'].str.contains('|'.join(dict_emociones[i]))"
   ]
  },
  {
   "cell_type": "code",
   "execution_count": 5,
   "id": "a66dbc25-dc76-489e-bde6-4392f56d5c81",
   "metadata": {},
   "outputs": [],
   "source": [
    "merged_df = merged_df.fillna(False)\n",
    "merged_df['labels'] = merged_df.apply(lambda x: ', '.join(x.index[x == True]), axis=1)"
   ]
  },
  {
   "cell_type": "code",
   "execution_count": 59,
   "id": "f7fa6b94-80c4-4bd0-b048-0a250d41624c",
   "metadata": {},
   "outputs": [],
   "source": [
    "df_list = []\n",
    "emotions_count = {}\n",
    "for i in dict_emociones.keys():\n",
    "    emotion_df = merged_df[(merged_df[i + '_juanma']== True) | \n",
    "                           (merged_df[i + '_juanjo']== True)| \n",
    "                           (merged_df[i + '_ger']== True)][['text', 'labels', 'tweet_id' , i + '_juanma', i +'_juanjo', i +'_ger', 'sentiment_juanma', 'sentiment_juanjo' , 'sentiment_ger']]\n",
    "    emotion_df = emotion_df.rename(columns= {i + '_juanma': 'juanma', i +'_juanjo': 'juanjo',  i +'_ger': 'ger'})\n",
    "    emotion_df['emocion'] = i\n",
    "    emotions_count[i] = len(emotion_df)\n",
    "    df_list.append(emotion_df)\n",
    "full_df = pd.concat(df_list, ignore_index=True)\n",
    "#full_df_disagreement = full_df[full_df['juanma'] != full_df['juanjo']]\n",
    "#full_df_agreement = full_df[full_df['juanma'] == full_df['juanjo']]"
   ]
  },
  {
   "cell_type": "code",
   "execution_count": 56,
   "id": "651db8ce-f359-4cc3-a3a1-6e63ca2f7733",
   "metadata": {},
   "outputs": [],
   "source": [
    "agreements = {}\n",
    "for i in dict_emociones.keys():\n",
    "    arr = np.array(merged_df[[i + '_juanjo',i + '_juanma', i + '_ger' ]])\n",
    "    agg = irr.aggregate_raters(arr)\n",
    "    agreements[i] = irr.fleiss_kappa(agg[0], method='fleiss')"
   ]
  },
  {
   "cell_type": "code",
   "execution_count": 57,
   "id": "d127947e-2df6-4996-8a50-6b957f3699d9",
   "metadata": {},
   "outputs": [
    {
     "data": {
      "text/plain": [
       "{'alegria': 0.7101458385717879,\n",
       " 'miedo': 0.4488669905998816,\n",
       " 'sorpresa': -0.012936610608019742,\n",
       " 'tristeza': 0.3410939691444601,\n",
       " 'asco': 0.6088536391755399,\n",
       " 'ira': 0.1456628477905069,\n",
       " 'otra': -0.006426735218517274}"
      ]
     },
     "execution_count": 57,
     "metadata": {},
     "output_type": "execute_result"
    }
   ],
   "source": [
    "agreements"
   ]
  },
  {
   "cell_type": "code",
   "execution_count": 60,
   "id": "57ef2cfa-9eff-4573-83b2-4cc62006120b",
   "metadata": {},
   "outputs": [],
   "source": [
    "total = sum(emotions_count.values())\n",
    "avgd_agreement = 0\n",
    "mean_agreement = 0\n",
    "for i in agreements.keys():\n",
    "    avgd_agreement+= agreements[i]*(emotions_count[i]/total)\n",
    "    mean_agreement+= agreements[i]\n",
    "mean_agreement = mean_agreement/len(agreements)"
   ]
  },
  {
   "cell_type": "code",
   "execution_count": 61,
   "id": "86920a01-5e54-4f49-afb0-84631d403cb8",
   "metadata": {},
   "outputs": [
    {
     "data": {
      "text/plain": [
       "0.5051707025502078"
      ]
     },
     "execution_count": 61,
     "metadata": {},
     "output_type": "execute_result"
    }
   ],
   "source": [
    "avgd_agreement"
   ]
  },
  {
   "cell_type": "code",
   "execution_count": 62,
   "id": "2be18ab6-aa51-45f6-b1b4-9348d2019a48",
   "metadata": {},
   "outputs": [
    {
     "data": {
      "text/plain": [
       "0.3193228484936627"
      ]
     },
     "execution_count": 62,
     "metadata": {},
     "output_type": "execute_result"
    }
   ],
   "source": [
    "mean_agreement"
   ]
  },
  {
   "cell_type": "code",
   "execution_count": 23,
   "id": "4085eb2b-7f77-4fdc-8ef0-d4d380888f5e",
   "metadata": {},
   "outputs": [],
   "source": [
    "merged_relevancia = merged_relevancia.fillna('No')\n",
    "merged_relevancia['relevancia_juanjo_bool'] = merged_relevancia['relevancia_juanjo'].map({'Si': True, 'No': False})\n",
    "merged_relevancia['relevancia_juanma_bool'] = merged_relevancia['relevancia_juanma'].map({'Si': True, 'No': False})\n",
    "merged_relevancia['relevancia_ger_bool'] = merged_relevancia['relevancia_ger'].map({'Si': True, 'No': False})"
   ]
  },
  {
   "cell_type": "code",
   "execution_count": 30,
   "id": "fb0e5741-5dd8-4bfa-8084-34baf6f26281",
   "metadata": {},
   "outputs": [
    {
     "data": {
      "text/plain": [
       "0.7906417112299454"
      ]
     },
     "execution_count": 30,
     "metadata": {},
     "output_type": "execute_result"
    }
   ],
   "source": [
    "arr = np.array(merged_relevancia[['relevancia_juanjo_bool', 'relevancia_juanma_bool', 'relevancia_ger_bool']])\n",
    "agg = irr.aggregate_raters(arr)\n",
    "irr.fleiss_kappa(agg[0], method='fleiss')"
   ]
  },
  {
   "cell_type": "code",
   "execution_count": 31,
   "id": "64da768d-765e-4f94-8200-611f7cbb0be6",
   "metadata": {},
   "outputs": [],
   "source": [
    "merged_emocion = merged_emocion.fillna('No')\n",
    "merged_emocion['emocion_juanjo_bool'] = merged_emocion['emocion_juanjo'].map({'Si': True, 'No': False})\n",
    "merged_emocion['emocion_juanma_bool'] = merged_emocion['emocion_juanma'].map({'Si': True, 'No': False})\n",
    "merged_emocion['emocion_ger_bool'] = merged_emocion['emocion_ger'].map({'Si': True, 'No': False})"
   ]
  },
  {
   "cell_type": "code",
   "execution_count": 32,
   "id": "cbbd58f7-4816-4cc2-9073-4443cf2f6609",
   "metadata": {},
   "outputs": [
    {
     "data": {
      "text/plain": [
       "0.49757449757449823"
      ]
     },
     "execution_count": 32,
     "metadata": {},
     "output_type": "execute_result"
    }
   ],
   "source": [
    "arr_num = np.array(merged_emocion[['emocion_juanjo_bool','emocion_juanma_bool', 'emocion_ger_bool' ]])\n",
    "agg_num = irr.aggregate_raters(arr_num)\n",
    "irr.fleiss_kappa(agg_num[0], method='fleiss')"
   ]
  },
  {
   "cell_type": "code",
   "execution_count": 33,
   "id": "fd91f6eb-4439-4587-ab9e-9b0e9899f9ff",
   "metadata": {},
   "outputs": [],
   "source": [
    "merged_ironia = merged_ironia.fillna('No')\n",
    "merged_ironia['ironia_juanjo_bool'] = merged_ironia['ironia_juanjo'].map({'Si': True, 'No': False})\n",
    "merged_ironia['ironia_juanma_bool'] = merged_ironia['ironia_juanma'].map({'Si': True, 'No': False})\n",
    "merged_ironia['ironia_ger_bool'] = merged_ironia['ironia_ger'].map({'Si': True, 'No': False})"
   ]
  },
  {
   "cell_type": "code",
   "execution_count": 34,
   "id": "bfe0ab3e-d862-4ff8-8a51-0da580e8223b",
   "metadata": {},
   "outputs": [
    {
     "data": {
      "text/plain": [
       "0.27140198511166136"
      ]
     },
     "execution_count": 34,
     "metadata": {},
     "output_type": "execute_result"
    }
   ],
   "source": [
    "arr_num = np.array(merged_ironia[['ironia_juanjo_bool', 'ironia_juanma_bool', 'ironia_ger_bool']])\n",
    "agg_num = irr.aggregate_raters(arr_num)\n",
    "irr.fleiss_kappa(agg_num[0], method='fleiss')"
   ]
  },
  {
   "cell_type": "code",
   "execution_count": 47,
   "id": "b7168e74-6f3f-4665-862f-8468b88a17a2",
   "metadata": {},
   "outputs": [],
   "source": [
    "dict_sentimientos = {\n",
    "    'positivo' : ['Alegria', 'Confianza', 'Admiración','Agrado'],\n",
    "    'negativo' : ['Miedo', 'Incertidumbre','Tristeza' , 'Decepción', 'Asco', 'Desagrado','Ira', 'Odio'],\n",
    "    'otra_sorpresa' : ['Sorpresa', 'Asombro', 'Otra'],\n",
    "     }"
   ]
  },
  {
   "cell_type": "code",
   "execution_count": 48,
   "id": "756f5d05-d63c-438b-9cb2-941e77e52a45",
   "metadata": {},
   "outputs": [],
   "source": [
    "for i  in dict_sentimientos.keys():\n",
    "    merged_df[i + '_juanma'] = merged_df['sentiment_juanma'].str.contains('|'.join(dict_sentimientos[i]))\n",
    "    merged_df[i + '_juanjo'] = merged_df['sentiment_juanjo'].str.contains('|'.join(dict_sentimientos[i]))\n",
    "    merged_df[i + '_ger'] = merged_df['sentiment_ger'].str.contains('|'.join(dict_sentimientos[i]))"
   ]
  },
  {
   "cell_type": "code",
   "execution_count": 65,
   "id": "2313f9b7-dc85-4601-81bf-290343fb956d",
   "metadata": {},
   "outputs": [],
   "source": [
    "agreements = {}\n",
    "for i in dict_sentimientos.keys():\n",
    "    arr = np.array(merged_df[[i + '_juanjo',i + '_juanma', i + '_ger' ]])\n",
    "    agg = irr.aggregate_raters(arr)\n",
    "    agreements[i] = irr.fleiss_kappa(agg[0], method='fleiss')"
   ]
  },
  {
   "cell_type": "code",
   "execution_count": 66,
   "id": "70608971-3ce6-46e8-babd-3830f681ce6a",
   "metadata": {},
   "outputs": [
    {
     "data": {
      "text/plain": [
       "{'positivo': 0.5897863164085473,\n",
       " 'negativo': 0.5606850095262633,\n",
       " 'otra_sorpresa': 0.6146653543307087}"
      ]
     },
     "execution_count": 66,
     "metadata": {},
     "output_type": "execute_result"
    }
   ],
   "source": [
    "agreements"
   ]
  },
  {
   "cell_type": "code",
   "execution_count": 67,
   "id": "052ed43a-4dee-4cf2-a266-079883991499",
   "metadata": {},
   "outputs": [],
   "source": [
    "df_list = []\n",
    "emotions_count = {}\n",
    "for i in dict_sentimientos.keys():\n",
    "    emotion_df = merged_df[(merged_df[i + '_juanma']== True) | \n",
    "                           (merged_df[i + '_juanjo']== True)| \n",
    "                           (merged_df[i + '_ger']== True)][['text', 'labels', 'tweet_id' , i + '_juanma', i +'_juanjo', i +'_ger', 'sentiment_juanma', 'sentiment_juanjo' , 'sentiment_ger']]\n",
    "    emotion_df = emotion_df.rename(columns= {i + '_juanma': 'juanma', i +'_juanjo': 'juanjo',  i +'_ger': 'ger'})\n",
    "    emotion_df['emocion'] = i\n",
    "    emotions_count[i] = len(emotion_df)\n",
    "    df_list.append(emotion_df)\n",
    "full_df = pd.concat(df_list, ignore_index=True)\n",
    "#full_df_disagreement = full_df[full_df['juanma'] != full_df['juanjo']]\n",
    "#full_df_agreement = full_df[full_df['juanma'] == full_df['juanjo']]"
   ]
  },
  {
   "cell_type": "code",
   "execution_count": 68,
   "id": "b5ec5e0f-d8fb-415b-89e2-9c840d9bf10b",
   "metadata": {},
   "outputs": [],
   "source": [
    "total = sum(emotions_count.values())\n",
    "avgd_agreement = 0\n",
    "mean_agreement = 0\n",
    "for i in agreements.keys():\n",
    "    avgd_agreement+= agreements[i]*(emotions_count[i]/total)\n",
    "    mean_agreement+= agreements[i]\n",
    "mean_agreement = mean_agreement/len(agreements)"
   ]
  },
  {
   "cell_type": "code",
   "execution_count": 69,
   "id": "ec498bc9-465a-46f3-af8b-b16971908e4a",
   "metadata": {},
   "outputs": [
    {
     "data": {
      "text/plain": [
       "0.5755635380638484"
      ]
     },
     "execution_count": 69,
     "metadata": {},
     "output_type": "execute_result"
    }
   ],
   "source": [
    "avgd_agreement"
   ]
  },
  {
   "cell_type": "code",
   "execution_count": 70,
   "id": "40d229be-372d-4b98-a2a1-7b1efc284b4b",
   "metadata": {},
   "outputs": [
    {
     "data": {
      "text/plain": [
       "0.5883788934218398"
      ]
     },
     "execution_count": 70,
     "metadata": {},
     "output_type": "execute_result"
    }
   ],
   "source": [
    "mean_agreement"
   ]
  }
 ],
 "metadata": {
  "kernelspec": {
   "display_name": "Python 3 (ipykernel)",
   "language": "python",
   "name": "python3"
  },
  "language_info": {
   "codemirror_mode": {
    "name": "ipython",
    "version": 3
   },
   "file_extension": ".py",
   "mimetype": "text/x-python",
   "name": "python",
   "nbconvert_exporter": "python",
   "pygments_lexer": "ipython3",
   "version": "3.9.7"
  }
 },
 "nbformat": 4,
 "nbformat_minor": 5
}
