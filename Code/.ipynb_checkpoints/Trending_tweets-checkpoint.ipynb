{
 "cells": [
  {
   "cell_type": "code",
   "execution_count": 24,
   "id": "296e4525-ca27-4b27-b295-f6b274920df0",
   "metadata": {},
   "outputs": [],
   "source": [
    "import tweepy\n",
    "import pandas as pd\n",
    "import os\n",
    "import unidecode\n",
    "#import datetime\n",
    "from datetime import timedelta, datetime \n",
    "from dateutil.relativedelta import relativedelta\n",
    "import time\n",
    "import datetime as dt \n",
    "import pymongo\n",
    "from pymongo import MongoClient\n",
    "import numpy as np\n",
    "pd.options.mode.chained_assignment = None "
   ]
  },
  {
   "cell_type": "code",
   "execution_count": 11,
   "id": "1e011249-09d9-48a5-a304-6280c77eb0b0",
   "metadata": {},
   "outputs": [],
   "source": [
    "client = tweepy.Client(bearer_token = \"AAAAAAAAAAAAAAAAAAAAAKKEcwEAAAAA1VgzT5upnu%2B5POQ3dbdUx0%2B5vfA%3DdslAW6ut31gZhQD9SjNKJ4scCFd8bHgbevp8eGcJprbd2LTrGf\", wait_on_rate_limit = True)"
   ]
  },
  {
   "cell_type": "code",
   "execution_count": 9,
   "id": "8c4824a4-9980-45bc-8d76-ac516b7c3a9d",
   "metadata": {
    "tags": []
   },
   "outputs": [],
   "source": [
    "def get_trendings(trending, start_date, number_days, minutes_spam ):\n",
    "    trending_words = '(' +trending+  ') -is:retweet'\n",
    "    df_list = []\n",
    "    end_date = start_date + relativedelta(days=number_days)\n",
    "    start_time = dt.datetime.now()\n",
    "    while start_date < end_date:\n",
    "        now = dt.datetime.now()\n",
    "        print('Extraction Date:', start_date, 'Trending:',trending, 'Start Time',start_time,  'Time extraction:',now, end=\"\\r\")\n",
    "        upper_limit = start_date+ relativedelta(minutes=minutes_spam)\n",
    "        start= start_date.isoformat(\"T\") + \"Z\"\n",
    "        end = upper_limit.isoformat(\"T\") + \"Z\"\n",
    "        rsp = client.search_all_tweets(query = trending_words ,start_time = start, end_time = end, sort_order= 'relevancy',\n",
    "                                     tweet_fields = fields, max_results=500)\n",
    "        time.sleep(1)\n",
    "        tweets_df = pd.DataFrame(rsp.data, columns = fields)\n",
    "        tweets_df['date']= start\n",
    "        tweets_df = pd.concat([tweets_df.drop(['public_metrics'], axis=1), pd.json_normalize(tweets_df['public_metrics'])], axis=1)\n",
    "        tweets_df = pd.concat([tweets_df.drop(['geo'], axis=1), pd.json_normalize(tweets_df['geo'])], axis=1)\n",
    "        df_list.append(tweets_df)\n",
    "        start_date = upper_limit\n",
    "    trendings_df = pd.concat(df_list)\n",
    "    trendings_df = trendings_df.reset_index(drop=True)\n",
    "    return(trendings_df)"
   ]
  },
  {
   "cell_type": "code",
   "execution_count": 45,
   "id": "75501949-6a1d-4327-851d-79de7c5e7151",
   "metadata": {
    "collapsed": true,
    "jupyter": {
     "outputs_hidden": true
    },
    "tags": []
   },
   "outputs": [
    {
     "name": "stdout",
     "output_type": "stream",
     "text": [
      "Extraction Date: 2022-05-25 02:20:00 Trending: #ElDebateDefinitivo Start Time 2022-10-21 17:57:42.764396 Time extraction: 2022-10-21 17:58:05.257402\r"
     ]
    },
    {
     "name": "stderr",
     "output_type": "stream",
     "text": [
      "Rate limit exceeded. Sleeping for 431 seconds.\n"
     ]
    },
    {
     "name": "stdout",
     "output_type": "stream",
     "text": [
      "Extraction Date: 2022-05-25 04:20:00 Trending: #AColombiaLePreocupa Start Time 2022-10-21 18:12:01.455340 Time extraction: 2022-10-21 18:12:41.237290577\r"
     ]
    },
    {
     "name": "stderr",
     "output_type": "stream",
     "text": [
      "Rate limit exceeded. Sleeping for 457 seconds.\n"
     ]
    },
    {
     "name": "stdout",
     "output_type": "stream",
     "text": [
      "Extraction Date: 2022-05-26 06:30:00 Trending: #FicoElGanador Start Time 2022-10-21 18:26:44.663396 Time extraction: 2022-10-21 18:27:40.31942142.720867\r"
     ]
    },
    {
     "name": "stderr",
     "output_type": "stream",
     "text": [
      "Rate limit exceeded. Sleeping for 460 seconds.\n"
     ]
    },
    {
     "ename": "KeyboardInterrupt",
     "evalue": "",
     "output_type": "error",
     "traceback": [
      "\u001b[0;31m---------------------------------------------------------------------------\u001b[0m",
      "\u001b[0;31mKeyboardInterrupt\u001b[0m                         Traceback (most recent call last)",
      "\u001b[0;32m/tmp/ipykernel_3470/2880689378.py\u001b[0m in \u001b[0;36m<module>\u001b[0;34m\u001b[0m\n\u001b[1;32m     20\u001b[0m         \u001b[0mminutes_spam\u001b[0m \u001b[0;34m=\u001b[0m \u001b[0;36m10\u001b[0m\u001b[0;34m\u001b[0m\u001b[0;34m\u001b[0m\u001b[0m\n\u001b[1;32m     21\u001b[0m         \u001b[0mstart_date_format\u001b[0m \u001b[0;34m=\u001b[0m \u001b[0mdatetime\u001b[0m\u001b[0;34m.\u001b[0m\u001b[0mstrptime\u001b[0m\u001b[0;34m(\u001b[0m\u001b[0mstart_date\u001b[0m\u001b[0;34m,\u001b[0m \u001b[0;34m'%Y-%m-%d'\u001b[0m\u001b[0;34m)\u001b[0m\u001b[0;34m\u001b[0m\u001b[0;34m\u001b[0m\u001b[0m\n\u001b[0;32m---> 22\u001b[0;31m         \u001b[0mtrendings_df\u001b[0m  \u001b[0;34m=\u001b[0m \u001b[0mget_trendings\u001b[0m\u001b[0;34m(\u001b[0m\u001b[0mtrending\u001b[0m\u001b[0;34m,\u001b[0m \u001b[0mstart_date_format\u001b[0m\u001b[0;34m,\u001b[0m \u001b[0mnumber_days\u001b[0m\u001b[0;34m,\u001b[0m \u001b[0mminutes_spam\u001b[0m \u001b[0;34m)\u001b[0m\u001b[0;34m\u001b[0m\u001b[0;34m\u001b[0m\u001b[0m\n\u001b[0m\u001b[1;32m     23\u001b[0m         trendings_df.to_parquet(newpath + file_name,\n\u001b[1;32m     24\u001b[0m                   compression='gzip')\n",
      "\u001b[0;32m/tmp/ipykernel_3470/1236157618.py\u001b[0m in \u001b[0;36mget_trendings\u001b[0;34m(trending, start_date, number_days, minutes_spam)\u001b[0m\n\u001b[1;32m     10\u001b[0m         \u001b[0mstart\u001b[0m\u001b[0;34m=\u001b[0m \u001b[0mstart_date\u001b[0m\u001b[0;34m.\u001b[0m\u001b[0misoformat\u001b[0m\u001b[0;34m(\u001b[0m\u001b[0;34m\"T\"\u001b[0m\u001b[0;34m)\u001b[0m \u001b[0;34m+\u001b[0m \u001b[0;34m\"Z\"\u001b[0m\u001b[0;34m\u001b[0m\u001b[0;34m\u001b[0m\u001b[0m\n\u001b[1;32m     11\u001b[0m         \u001b[0mend\u001b[0m \u001b[0;34m=\u001b[0m \u001b[0mupper_limit\u001b[0m\u001b[0;34m.\u001b[0m\u001b[0misoformat\u001b[0m\u001b[0;34m(\u001b[0m\u001b[0;34m\"T\"\u001b[0m\u001b[0;34m)\u001b[0m \u001b[0;34m+\u001b[0m \u001b[0;34m\"Z\"\u001b[0m\u001b[0;34m\u001b[0m\u001b[0;34m\u001b[0m\u001b[0m\n\u001b[0;32m---> 12\u001b[0;31m         rsp = client.search_all_tweets(query = trending_words ,start_time = start, end_time = end, sort_order= 'relevancy',\n\u001b[0m\u001b[1;32m     13\u001b[0m                                      tweet_fields = fields, max_results=500)\n\u001b[1;32m     14\u001b[0m         \u001b[0mtime\u001b[0m\u001b[0;34m.\u001b[0m\u001b[0msleep\u001b[0m\u001b[0;34m(\u001b[0m\u001b[0;36m1\u001b[0m\u001b[0;34m)\u001b[0m\u001b[0;34m\u001b[0m\u001b[0;34m\u001b[0m\u001b[0m\n",
      "\u001b[0;32m~/anaconda3/lib/python3.9/site-packages/tweepy/client.py\u001b[0m in \u001b[0;36msearch_all_tweets\u001b[0;34m(self, query, **params)\u001b[0m\n\u001b[1;32m   1143\u001b[0m         \"\"\"\n\u001b[1;32m   1144\u001b[0m         \u001b[0mparams\u001b[0m\u001b[0;34m[\u001b[0m\u001b[0;34m\"query\"\u001b[0m\u001b[0;34m]\u001b[0m \u001b[0;34m=\u001b[0m \u001b[0mquery\u001b[0m\u001b[0;34m\u001b[0m\u001b[0;34m\u001b[0m\u001b[0m\n\u001b[0;32m-> 1145\u001b[0;31m         return self._make_request(\n\u001b[0m\u001b[1;32m   1146\u001b[0m             \u001b[0;34m\"GET\"\u001b[0m\u001b[0;34m,\u001b[0m \u001b[0;34m\"/2/tweets/search/all\"\u001b[0m\u001b[0;34m,\u001b[0m \u001b[0mparams\u001b[0m\u001b[0;34m=\u001b[0m\u001b[0mparams\u001b[0m\u001b[0;34m,\u001b[0m\u001b[0;34m\u001b[0m\u001b[0;34m\u001b[0m\u001b[0m\n\u001b[1;32m   1147\u001b[0m             endpoint_parameters=(\n",
      "\u001b[0;32m~/anaconda3/lib/python3.9/site-packages/tweepy/client.py\u001b[0m in \u001b[0;36m_make_request\u001b[0;34m(self, method, route, params, endpoint_parameters, json, data_type, user_auth)\u001b[0m\n\u001b[1;32m    124\u001b[0m         \u001b[0mrequest_params\u001b[0m \u001b[0;34m=\u001b[0m \u001b[0mself\u001b[0m\u001b[0;34m.\u001b[0m\u001b[0m_process_params\u001b[0m\u001b[0;34m(\u001b[0m\u001b[0mparams\u001b[0m\u001b[0;34m,\u001b[0m \u001b[0mendpoint_parameters\u001b[0m\u001b[0;34m)\u001b[0m\u001b[0;34m\u001b[0m\u001b[0;34m\u001b[0m\u001b[0m\n\u001b[1;32m    125\u001b[0m \u001b[0;34m\u001b[0m\u001b[0m\n\u001b[0;32m--> 126\u001b[0;31m         response = self.request(method, route, params=request_params,\n\u001b[0m\u001b[1;32m    127\u001b[0m                                 json=json, user_auth=user_auth)\n\u001b[1;32m    128\u001b[0m \u001b[0;34m\u001b[0m\u001b[0m\n",
      "\u001b[0;32m~/anaconda3/lib/python3.9/site-packages/tweepy/client.py\u001b[0m in \u001b[0;36mrequest\u001b[0;34m(self, method, route, params, json, user_auth)\u001b[0m\n\u001b[1;32m    109\u001b[0m                             \u001b[0;34mf\"Sleeping for {sleep_time} seconds.\"\u001b[0m\u001b[0;34m\u001b[0m\u001b[0;34m\u001b[0m\u001b[0m\n\u001b[1;32m    110\u001b[0m                         )\n\u001b[0;32m--> 111\u001b[0;31m                         \u001b[0mtime\u001b[0m\u001b[0;34m.\u001b[0m\u001b[0msleep\u001b[0m\u001b[0;34m(\u001b[0m\u001b[0msleep_time\u001b[0m\u001b[0;34m)\u001b[0m\u001b[0;34m\u001b[0m\u001b[0;34m\u001b[0m\u001b[0m\n\u001b[0m\u001b[1;32m    112\u001b[0m                     \u001b[0;32mreturn\u001b[0m \u001b[0mself\u001b[0m\u001b[0;34m.\u001b[0m\u001b[0mrequest\u001b[0m\u001b[0;34m(\u001b[0m\u001b[0mmethod\u001b[0m\u001b[0;34m,\u001b[0m \u001b[0mroute\u001b[0m\u001b[0;34m,\u001b[0m \u001b[0mparams\u001b[0m\u001b[0;34m,\u001b[0m \u001b[0mjson\u001b[0m\u001b[0;34m,\u001b[0m \u001b[0muser_auth\u001b[0m\u001b[0;34m)\u001b[0m\u001b[0;34m\u001b[0m\u001b[0;34m\u001b[0m\u001b[0m\n\u001b[1;32m    113\u001b[0m                 \u001b[0;32melse\u001b[0m\u001b[0;34m:\u001b[0m\u001b[0;34m\u001b[0m\u001b[0;34m\u001b[0m\u001b[0m\n",
      "\u001b[0;31mKeyboardInterrupt\u001b[0m: "
     ]
    }
   ],
   "source": [
    "fields = ['lang',\n",
    " 'public_metrics',\n",
    " 'author_id',\n",
    " 'id',\n",
    " 'created_at',\n",
    " 'text',\n",
    "         'conversation_id',\n",
    "         'geo',\n",
    "         'in_reply_to_user_id']\n",
    "trendings_keywords = pd.read_csv('../Data/trendings.csv')\n",
    "for i in range(len(trendings_keywords)):\n",
    "    start_date = trendings_keywords['date'][i]\n",
    "    newpath = '../Data/Trendings/'+ start_date + '/'\n",
    "    if not os.path.exists(newpath):\n",
    "        os.makedirs(newpath)\n",
    "    trending = trendings_keywords['trending'][i]\n",
    "    file_name = start_date + '__' +  trending + '.gzip'\n",
    "    if file_name not in os.listdir(newpath):\n",
    "        number_days = 1\n",
    "        minutes_spam = 10\n",
    "        start_date_format = datetime.strptime(start_date, '%Y-%m-%d')\n",
    "        trendings_df  = get_trendings(trending, start_date_format, number_days, minutes_spam )\n",
    "        trendings_df.to_parquet(newpath + file_name,\n",
    "                  compression='gzip')\n",
    "        trendings_keywords['Count'][i] = len(trendings_df)\n",
    "    trendings_keywords.to_csv('../Data/trendings.csv', index=False)"
   ]
  }
 ],
 "metadata": {
  "kernelspec": {
   "display_name": "Python 3 (ipykernel)",
   "language": "python",
   "name": "python3"
  },
  "language_info": {
   "codemirror_mode": {
    "name": "ipython",
    "version": 3
   },
   "file_extension": ".py",
   "mimetype": "text/x-python",
   "name": "python",
   "nbconvert_exporter": "python",
   "pygments_lexer": "ipython3",
   "version": "3.9.7"
  }
 },
 "nbformat": 4,
 "nbformat_minor": 5
}
