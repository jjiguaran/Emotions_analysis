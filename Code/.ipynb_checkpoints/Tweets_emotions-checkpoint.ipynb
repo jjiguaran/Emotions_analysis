{
 "cells": [
  {
   "cell_type": "code",
   "execution_count": 1,
   "metadata": {},
   "outputs": [],
   "source": [
    "import tweepy"
   ]
  },
  {
   "cell_type": "code",
   "execution_count": 2,
   "metadata": {},
   "outputs": [],
   "source": [
    "auth = tweepy.AppAuthHandler('7LAdt5hpLhHgqTLbjxq6OUew1', 'cbBkuL4lzRiG2GH5mK5WF4gr4prxYQnZDHHMLum63jACSgdRI0')\n",
    "api = tweepy.API(auth)"
   ]
  },
  {
   "cell_type": "code",
   "execution_count": 3,
   "metadata": {},
   "outputs": [],
   "source": [
    "places = api.search_geo(query=\"Colombia\", granularity=\"country\")"
   ]
  },
  {
   "cell_type": "code",
   "execution_count": 4,
   "metadata": {},
   "outputs": [],
   "source": [
    "place_id = places[0].id"
   ]
  },
  {
   "cell_type": "code",
   "execution_count": 5,
   "metadata": {},
   "outputs": [
    {
     "name": "stdout",
     "output_type": "stream",
     "text": [
      "@reporteroanimal @COLSinToreo @monterialcaldia @FicoGutierrez @andreanimalidad @GabrielChica Vayan viendo esas camp… https://t.co/B9DYnW5g4P | Chocontá\n",
      "Soy la parceraxd https://t.co/o1OaecBzmv | Bogotá, D.C.\n",
      "Solo se feliz linda. 🖤 | Bogotá, D.C.\n",
      "Ps si, por qué deberíamos creerle a gente que han demostrado que no saben votar? 🤔 https://t.co/otjMZYBVzM | Envigado\n",
      "#NoMasPostobon #LoDeQuinteroEs #SantaFe #millonarios #Bucaramanga https://t.co/31DVESu4qk | Cúcuta\n",
      "@meninblack43 🌛🌸 | Bogotá, D.C.\n",
      "https://t.co/VpgGW2qfXC | Timbío\n",
      "En América del Norte el hockey es una locura, una pasión. Afortunadamente aprendí a apreciarlo y a disfrutarlo! Y p… https://t.co/bvnSX4rd4E | Bogotá, D.C.\n",
      "@AnaBejaranoRG Su empeño era recuperar a toda costa lo que habían perdido en democracia… confiamos en la justicia,… https://t.co/HxQuk5dqAj | Medellín\n",
      "Ya que deje de robar Julio, ¿no? https://t.co/0pSh45lqsb | Bogotá, D.C.\n",
      "@StephBatesPress 💩💩😡🐀 | Medellín\n",
      "@KokeContreras9 🌛🌸 | Bogotá, D.C.\n",
      "Y sin saberlo estuve a pocos metros de un magnicidio, muy denso | Bogotá, D.C.\n",
      "⚡️ https://t.co/nAVHzuiUDf | La Tebaida\n",
      "Entonces , según usted tenemos que elegir otro inepto, sin perfil de nada para salvar a Colombia? Vote por Fajardo… https://t.co/UQVXyQk2sq | Fusagasugá\n"
     ]
    }
   ],
   "source": [
    "tweets = api.search_tweets(q=\"place:%s\" % place_id)\n",
    "for tweet in tweets:\n",
    "    print(tweet.text + \" | \" + tweet.place.name if tweet.place else \"Undefined place\")"
   ]
  },
  {
   "cell_type": "code",
   "execution_count": null,
   "metadata": {},
   "outputs": [],
   "source": []
  }
 ],
 "metadata": {
  "kernelspec": {
   "display_name": "Python 3 (ipykernel)",
   "language": "python",
   "name": "python3"
  },
  "language_info": {
   "codemirror_mode": {
    "name": "ipython",
    "version": 3
   },
   "file_extension": ".py",
   "mimetype": "text/x-python",
   "name": "python",
   "nbconvert_exporter": "python",
   "pygments_lexer": "ipython3",
   "version": "3.9.7"
  }
 },
 "nbformat": 4,
 "nbformat_minor": 4
}
