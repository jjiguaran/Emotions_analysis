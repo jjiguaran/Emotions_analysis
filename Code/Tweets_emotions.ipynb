{
 "cells": [
  {
   "cell_type": "code",
   "execution_count": 51,
   "metadata": {},
   "outputs": [],
   "source": [
    "import tweepy\n",
    "import pandas as pd\n",
    "import os\n",
    "import unidecode"
   ]
  },
  {
   "cell_type": "code",
   "execution_count": 15,
   "metadata": {},
   "outputs": [],
   "source": [
    "sel = pd.read_csv('../Data/SEL/SEL_full.txt', delimiter='\\t', encoding= 'ISO-8859-1')"
   ]
  },
  {
   "cell_type": "code",
   "execution_count": 62,
   "metadata": {},
   "outputs": [],
   "source": [
    "emociones = list(sel['Categoría'].unique())\n",
    "emociones_dict ={}\n",
    "for emocion in emociones:\n",
    "    emociones_dict[emocion] = list(sel[sel['Categoría'] == emocion].sort_values(' PFA',  ascending=False).iloc[0:10]['Palabra'])\n",
    "    for palabra in emociones_dict[emocion]:\n",
    "        if not palabra.isascii():\n",
    "            emociones_dict[emocion].append(unidecode.unidecode(palabra))"
   ]
  },
  {
   "cell_type": "code",
   "execution_count": 122,
   "metadata": {},
   "outputs": [],
   "source": [
    "client = tweepy.Client(bearer_token = \"AAAAAAAAAAAAAAAAAAAAAKKEcwEAAAAA1VgzT5upnu%2B5POQ3dbdUx0%2B5vfA%3DdslAW6ut31gZhQD9SjNKJ4scCFd8bHgbevp8eGcJprbd2LTrGf\", wait_on_rate_limit = True)"
   ]
  },
  {
   "cell_type": "code",
   "execution_count": 124,
   "metadata": {},
   "outputs": [],
   "source": [
    "def get_tweets(emotion, words_list, number_tweets, start, end):\n",
    "    emotion_words = '(' +' OR '.join(words_list) + ')'\n",
    "    searched_tweets = [tweet for tweet in tweepy.Paginator(client.search_all_tweets, query = emotion_words + ' place_country:CO' ,start_time = start, end_time = end, \n",
    "                                max_results=500).flatten(limit=number_tweets)]\n",
    "    tweets_df = pd.DataFrame(searched_tweets, columns = ['text'])\n",
    "    tweets_df['emotion']= emotion\n",
    "    return tweets_df"
   ]
  },
  {
   "cell_type": "code",
   "execution_count": null,
   "metadata": {},
   "outputs": [],
   "source": [
    "start =  \"2021-03-29T11:59:59Z\"\n",
    "end = \"2021-03-30T11:59:59Z\"\n",
    "df_list = []\n",
    "for i in emociones_dict.keys():\n",
    "    print(i)\n",
    "    df_list.append(get_tweets(i, emociones_dict[i], 10, start, end))\n",
    "emociones_df = pd.concat(df_list)"
   ]
  }
 ],
 "metadata": {
  "kernelspec": {
   "display_name": "Python 3 (ipykernel)",
   "language": "python",
   "name": "python3"
  },
  "language_info": {
   "codemirror_mode": {
    "name": "ipython",
    "version": 3
   },
   "file_extension": ".py",
   "mimetype": "text/x-python",
   "name": "python",
   "nbconvert_exporter": "python",
   "pygments_lexer": "ipython3",
   "version": "3.9.7"
  }
 },
 "nbformat": 4,
 "nbformat_minor": 4
}
