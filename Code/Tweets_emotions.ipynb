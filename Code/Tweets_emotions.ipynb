{
 "cells": [
  {
   "cell_type": "code",
   "execution_count": 73,
   "metadata": {},
   "outputs": [],
   "source": [
    "import tweepy\n",
    "import pandas as pd"
   ]
  },
  {
   "cell_type": "code",
   "execution_count": 2,
   "metadata": {},
   "outputs": [],
   "source": [
    "auth = tweepy.AppAuthHandler('EMmGcc8Is1eFkeQknQu9BQC0T', 'uTEU1RrYNl1k2gFomRVaP8AuTuTIAgoypX3Fn2WKxKQYTDOIoW')\n",
    "api = tweepy.API(auth)"
   ]
  },
  {
   "cell_type": "code",
   "execution_count": 3,
   "metadata": {},
   "outputs": [],
   "source": [
    "places = api.search_geo(query=\"Colombia\", granularity=\"country\")\n",
    "place_id = places[0].id"
   ]
  },
  {
   "cell_type": "code",
   "execution_count": 105,
   "metadata": {},
   "outputs": [],
   "source": [
    "def get_tweets(emotion, words_list, number_tweets):\n",
    "    emotion_words = '(' +' OR '.join(words) + ')'\n",
    "    searched_tweets = [status.text for status in tweepy.Cursor(api.search_tweets, q= emotion_words + (\" place:%s\" % place_id) ).items(number_tweets)]\n",
    "    tweets_df = pd.DataFrame(searched_tweets, columns = ['text'])\n",
    "    tweets_df['emotion']= emotion\n",
    "    return tweets_df"
   ]
  },
  {
   "cell_type": "code",
   "execution_count": 108,
   "metadata": {},
   "outputs": [
    {
     "data": {
      "text/html": [
       "<div>\n",
       "<style scoped>\n",
       "    .dataframe tbody tr th:only-of-type {\n",
       "        vertical-align: middle;\n",
       "    }\n",
       "\n",
       "    .dataframe tbody tr th {\n",
       "        vertical-align: top;\n",
       "    }\n",
       "\n",
       "    .dataframe thead th {\n",
       "        text-align: right;\n",
       "    }\n",
       "</style>\n",
       "<table border=\"1\" class=\"dataframe\">\n",
       "  <thead>\n",
       "    <tr style=\"text-align: right;\">\n",
       "      <th></th>\n",
       "      <th>text</th>\n",
       "      <th>emotion</th>\n",
       "    </tr>\n",
       "  </thead>\n",
       "  <tbody>\n",
       "    <tr>\n",
       "      <th>0</th>\n",
       "      <td>Estoy feliz jeje</td>\n",
       "      <td>alegria</td>\n",
       "    </tr>\n",
       "    <tr>\n",
       "      <th>1</th>\n",
       "      <td>@karilinllanos Te amooo ❤️ \\nMereces ser siemp...</td>\n",
       "      <td>alegria</td>\n",
       "    </tr>\n",
       "    <tr>\n",
       "      <th>2</th>\n",
       "      <td>Feliz cumpleaños CRACK 😚 deseo tu pronto regre...</td>\n",
       "      <td>alegria</td>\n",
       "    </tr>\n",
       "    <tr>\n",
       "      <th>3</th>\n",
       "      <td>No se equivoque, ya se entregaron las pruebas....</td>\n",
       "      <td>alegria</td>\n",
       "    </tr>\n",
       "    <tr>\n",
       "      <th>4</th>\n",
       "      <td>Se feliz aunque te vengas miles de obstáculos ...</td>\n",
       "      <td>alegria</td>\n",
       "    </tr>\n",
       "    <tr>\n",
       "      <th>...</th>\n",
       "      <td>...</td>\n",
       "      <td>...</td>\n",
       "    </tr>\n",
       "    <tr>\n",
       "      <th>95</th>\n",
       "      <td>FELIZ CUMPLEAÑOS GOLEADOR @jeffersonduque9 htt...</td>\n",
       "      <td>alegria</td>\n",
       "    </tr>\n",
       "    <tr>\n",
       "      <th>96</th>\n",
       "      <td>Estoy aprendiendo a mantenerme así… se vive má...</td>\n",
       "      <td>alegria</td>\n",
       "    </tr>\n",
       "    <tr>\n",
       "      <th>97</th>\n",
       "      <td>@EJasminC Hola Jasmin buenos días. Feliz Marte...</td>\n",
       "      <td>alegria</td>\n",
       "    </tr>\n",
       "    <tr>\n",
       "      <th>98</th>\n",
       "      <td>¡Preciosa @NaNaMejia17, bella, que toda tu dul...</td>\n",
       "      <td>alegria</td>\n",
       "    </tr>\n",
       "    <tr>\n",
       "      <th>99</th>\n",
       "      <td>Por medio de nuestro componente de aprovechami...</td>\n",
       "      <td>alegria</td>\n",
       "    </tr>\n",
       "  </tbody>\n",
       "</table>\n",
       "<p>100 rows × 2 columns</p>\n",
       "</div>"
      ],
      "text/plain": [
       "                                                 text  emotion\n",
       "0                                    Estoy feliz jeje  alegria\n",
       "1   @karilinllanos Te amooo ❤️ \\nMereces ser siemp...  alegria\n",
       "2   Feliz cumpleaños CRACK 😚 deseo tu pronto regre...  alegria\n",
       "3   No se equivoque, ya se entregaron las pruebas....  alegria\n",
       "4   Se feliz aunque te vengas miles de obstáculos ...  alegria\n",
       "..                                                ...      ...\n",
       "95  FELIZ CUMPLEAÑOS GOLEADOR @jeffersonduque9 htt...  alegria\n",
       "96  Estoy aprendiendo a mantenerme así… se vive má...  alegria\n",
       "97  @EJasminC Hola Jasmin buenos días. Feliz Marte...  alegria\n",
       "98  ¡Preciosa @NaNaMejia17, bella, que toda tu dul...  alegria\n",
       "99  Por medio de nuestro componente de aprovechami...  alegria\n",
       "\n",
       "[100 rows x 2 columns]"
      ]
     },
     "execution_count": 108,
     "metadata": {},
     "output_type": "execute_result"
    }
   ],
   "source": [
    "alegria_list = ['feliz', 'alegre']\n",
    "alegria_df = get_tweets('alegria', alegria_list, 100)\n",
    "alegria_df"
   ]
  },
  {
   "cell_type": "code",
   "execution_count": 89,
   "metadata": {},
   "outputs": [],
   "source": [
    "#json_data = [r._json for r in searched_tweets]\n",
    "\n",
    "#df = pd.json_normalize(json_data)"
   ]
  }
 ],
 "metadata": {
  "kernelspec": {
   "display_name": "Python 3 (ipykernel)",
   "language": "python",
   "name": "python3"
  },
  "language_info": {
   "codemirror_mode": {
    "name": "ipython",
    "version": 3
   },
   "file_extension": ".py",
   "mimetype": "text/x-python",
   "name": "python",
   "nbconvert_exporter": "python",
   "pygments_lexer": "ipython3",
   "version": "3.9.7"
  }
 },
 "nbformat": 4,
 "nbformat_minor": 4
}
