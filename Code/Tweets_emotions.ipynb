{
 "cells": [
  {
   "cell_type": "code",
   "execution_count": 27,
   "metadata": {},
   "outputs": [],
   "source": [
    "from datasets import list_datasets, load_dataset\n",
    "from pprint import pprint"
   ]
  },
  {
   "cell_type": "markdown",
   "metadata": {},
   "source": [
    "from huggingface_hub import notebook_login\n",
    "notebook_login()"
   ]
  },
  {
   "cell_type": "code",
   "execution_count": 2,
   "metadata": {},
   "outputs": [
    {
     "name": "stderr",
     "output_type": "stream",
     "text": [
      "Found cached dataset sem_eval_2018_task_1 (/home/juanjo/.cache/huggingface/datasets/sem_eval_2018_task_1/subtask5.spanish/1.1.0/a7c0de8b805f1988b118882fb289ccfbbeb9085c7820b6f046b5887e234af182)\n"
     ]
    },
    {
     "data": {
      "application/vnd.jupyter.widget-view+json": {
       "model_id": "91c56d962db44e0f8bb2ce0d084c79bd",
       "version_major": 2,
       "version_minor": 0
      },
      "text/plain": [
       "  0%|          | 0/3 [00:00<?, ?it/s]"
      ]
     },
     "metadata": {},
     "output_type": "display_data"
    }
   ],
   "source": [
    "dataset = load_dataset('sem_eval_2018_task_1', 'subtask5.spanish')"
   ]
  },
  {
   "cell_type": "code",
   "execution_count": 28,
   "metadata": {},
   "outputs": [
    {
     "name": "stderr",
     "output_type": "stream",
     "text": [
      "No config specified, defaulting to: emo_event/es\n",
      "Found cached dataset emo_event (/home/juanjo/.cache/huggingface/datasets/fmplaza___emo_event/es/1.1.0/05d5c93b8773e3d90b52effb7132b04cd8b2ccea8d4a0750989ec3aaeb59cad4)\n"
     ]
    },
    {
     "data": {
      "application/vnd.jupyter.widget-view+json": {
       "model_id": "58063a566454400eaa6ecfff2bdf55ca",
       "version_major": 2,
       "version_minor": 0
      },
      "text/plain": [
       "  0%|          | 0/3 [00:00<?, ?it/s]"
      ]
     },
     "metadata": {},
     "output_type": "display_data"
    }
   ],
   "source": [
    "dataset2 = load_dataset('fmplaza/EmoEvent', use_auth_token=True)"
   ]
  },
  {
   "cell_type": "code",
   "execution_count": 43,
   "metadata": {},
   "outputs": [
    {
     "data": {
      "text/html": [
       "<div>\n",
       "<style scoped>\n",
       "    .dataframe tbody tr th:only-of-type {\n",
       "        vertical-align: middle;\n",
       "    }\n",
       "\n",
       "    .dataframe tbody tr th {\n",
       "        vertical-align: top;\n",
       "    }\n",
       "\n",
       "    .dataframe thead th {\n",
       "        text-align: right;\n",
       "    }\n",
       "</style>\n",
       "<table border=\"1\" class=\"dataframe\">\n",
       "  <thead>\n",
       "    <tr style=\"text-align: right;\">\n",
       "      <th></th>\n",
       "      <th>id</th>\n",
       "      <th>event</th>\n",
       "      <th>tweet</th>\n",
       "      <th>offensive</th>\n",
       "      <th>label</th>\n",
       "    </tr>\n",
       "  </thead>\n",
       "  <tbody>\n",
       "    <tr>\n",
       "      <th>0</th>\n",
       "      <td>a0c1a858-a9b8-4cb1-8a81-1602736ff5b8</td>\n",
       "      <td>GameOfThrones</td>\n",
       "      <td>La Gran Guerra de #JuegoDeTronos nos ha dejado...</td>\n",
       "      <td>NO</td>\n",
       "      <td>6</td>\n",
       "    </tr>\n",
       "    <tr>\n",
       "      <th>1</th>\n",
       "      <td>9b272817-a231-4f68-bdf4-3350d4919330</td>\n",
       "      <td>Venezuela</td>\n",
       "      <td>El golpe de Estado en #Venezuela está más lejo...</td>\n",
       "      <td>NO</td>\n",
       "      <td>6</td>\n",
       "    </tr>\n",
       "    <tr>\n",
       "      <th>2</th>\n",
       "      <td>4bd5b1e5-4b74-440a-82f4-c2567a241011</td>\n",
       "      <td>NotreDame</td>\n",
       "      <td>No tengo una foto en la catedral de #NotreDame...</td>\n",
       "      <td>NO</td>\n",
       "      <td>2</td>\n",
       "    </tr>\n",
       "    <tr>\n",
       "      <th>3</th>\n",
       "      <td>0bb9d7c9-d781-4684-890e-a94bfb50acc0</td>\n",
       "      <td>NotreDame</td>\n",
       "      <td>#NotreDame nunca llegue a visitar tan grandios...</td>\n",
       "      <td>NO</td>\n",
       "      <td>2</td>\n",
       "    </tr>\n",
       "    <tr>\n",
       "      <th>4</th>\n",
       "      <td>88749098-d539-4500-9209-0bbfae2b109c</td>\n",
       "      <td>GameOfThrones</td>\n",
       "      <td>A tomar por culo mi crush 😭😭😭😭😭#JuegoDeTronos</td>\n",
       "      <td>OFF</td>\n",
       "      <td>2</td>\n",
       "    </tr>\n",
       "    <tr>\n",
       "      <th>...</th>\n",
       "      <td>...</td>\n",
       "      <td>...</td>\n",
       "      <td>...</td>\n",
       "      <td>...</td>\n",
       "      <td>...</td>\n",
       "    </tr>\n",
       "    <tr>\n",
       "      <th>5718</th>\n",
       "      <td>c724c23b-2f6e-46f4-b740-0a7186349f60</td>\n",
       "      <td>Venezuela</td>\n",
       "      <td>#Venezuela Querida, un dictador como Maduro so...</td>\n",
       "      <td>NO</td>\n",
       "      <td>6</td>\n",
       "    </tr>\n",
       "    <tr>\n",
       "      <th>5719</th>\n",
       "      <td>ee10fa89-f6ad-4f61-9bf7-d90604ce5b6b</td>\n",
       "      <td>NotreDame</td>\n",
       "      <td>#Notredame Impactantes imágenes que ha dejado ...</td>\n",
       "      <td>NO</td>\n",
       "      <td>2</td>\n",
       "    </tr>\n",
       "    <tr>\n",
       "      <th>5720</th>\n",
       "      <td>c0524970-cd8f-41a6-b9fa-ed052b23c297</td>\n",
       "      <td>Venezuela</td>\n",
       "      <td>¡ESCUCHA MADURO! Militares de #USA estarán ate...</td>\n",
       "      <td>NO</td>\n",
       "      <td>6</td>\n",
       "    </tr>\n",
       "    <tr>\n",
       "      <th>5721</th>\n",
       "      <td>f7b79584-d865-4e86-a83a-159792e98158</td>\n",
       "      <td>NotreDame</td>\n",
       "      <td>#NotreDame : 💔 💔 💔 Todo es efímero como el arc...</td>\n",
       "      <td>NO</td>\n",
       "      <td>6</td>\n",
       "    </tr>\n",
       "    <tr>\n",
       "      <th>5722</th>\n",
       "      <td>280fab01-6140-42b2-83d7-f9660790f835</td>\n",
       "      <td>GameOfThrones</td>\n",
       "      <td>A otro nivel 8X3 capitulazo La mejor batalla #...</td>\n",
       "      <td>NO</td>\n",
       "      <td>3</td>\n",
       "    </tr>\n",
       "  </tbody>\n",
       "</table>\n",
       "<p>5723 rows × 5 columns</p>\n",
       "</div>"
      ],
      "text/plain": [
       "                                        id          event  \\\n",
       "0     a0c1a858-a9b8-4cb1-8a81-1602736ff5b8  GameOfThrones   \n",
       "1     9b272817-a231-4f68-bdf4-3350d4919330      Venezuela   \n",
       "2     4bd5b1e5-4b74-440a-82f4-c2567a241011      NotreDame   \n",
       "3     0bb9d7c9-d781-4684-890e-a94bfb50acc0      NotreDame   \n",
       "4     88749098-d539-4500-9209-0bbfae2b109c  GameOfThrones   \n",
       "...                                    ...            ...   \n",
       "5718  c724c23b-2f6e-46f4-b740-0a7186349f60      Venezuela   \n",
       "5719  ee10fa89-f6ad-4f61-9bf7-d90604ce5b6b      NotreDame   \n",
       "5720  c0524970-cd8f-41a6-b9fa-ed052b23c297      Venezuela   \n",
       "5721  f7b79584-d865-4e86-a83a-159792e98158      NotreDame   \n",
       "5722  280fab01-6140-42b2-83d7-f9660790f835  GameOfThrones   \n",
       "\n",
       "                                                  tweet offensive  label  \n",
       "0     La Gran Guerra de #JuegoDeTronos nos ha dejado...        NO      6  \n",
       "1     El golpe de Estado en #Venezuela está más lejo...        NO      6  \n",
       "2     No tengo una foto en la catedral de #NotreDame...        NO      2  \n",
       "3     #NotreDame nunca llegue a visitar tan grandios...        NO      2  \n",
       "4         A tomar por culo mi crush 😭😭😭😭😭#JuegoDeTronos       OFF      2  \n",
       "...                                                 ...       ...    ...  \n",
       "5718  #Venezuela Querida, un dictador como Maduro so...        NO      6  \n",
       "5719  #Notredame Impactantes imágenes que ha dejado ...        NO      2  \n",
       "5720  ¡ESCUCHA MADURO! Militares de #USA estarán ate...        NO      6  \n",
       "5721  #NotreDame : 💔 💔 💔 Todo es efímero como el arc...        NO      6  \n",
       "5722  A otro nivel 8X3 capitulazo La mejor batalla #...        NO      3  \n",
       "\n",
       "[5723 rows x 5 columns]"
      ]
     },
     "execution_count": 43,
     "metadata": {},
     "output_type": "execute_result"
    }
   ],
   "source": [
    "pd.DataFrame(dataset2['train'])"
   ]
  },
  {
   "cell_type": "code",
   "execution_count": 1,
   "metadata": {},
   "outputs": [],
   "source": [
    "import tweepy\n",
    "import pandas as pd\n",
    "import os\n",
    "import unidecode\n",
    "#import datetime\n",
    "from datetime import timedelta, datetime \n",
    "from dateutil.relativedelta import relativedelta\n",
    "import time"
   ]
  },
  {
   "cell_type": "code",
   "execution_count": 2,
   "metadata": {},
   "outputs": [],
   "source": [
    "client = tweepy.Client(bearer_token = \"AAAAAAAAAAAAAAAAAAAAAKKEcwEAAAAA1VgzT5upnu%2B5POQ3dbdUx0%2B5vfA%3DdslAW6ut31gZhQD9SjNKJ4scCFd8bHgbevp8eGcJprbd2LTrGf\", wait_on_rate_limit = True)"
   ]
  },
  {
   "cell_type": "code",
   "execution_count": 3,
   "metadata": {},
   "outputs": [],
   "source": [
    "df = pd.read_csv('../Data/corpus_marcado6emociones_extracted.csv')  "
   ]
  },
  {
   "cell_type": "code",
   "execution_count": 14,
   "metadata": {},
   "outputs": [
    {
     "data": {
      "text/html": [
       "<div>\n",
       "<style scoped>\n",
       "    .dataframe tbody tr th:only-of-type {\n",
       "        vertical-align: middle;\n",
       "    }\n",
       "\n",
       "    .dataframe tbody tr th {\n",
       "        vertical-align: top;\n",
       "    }\n",
       "\n",
       "    .dataframe thead th {\n",
       "        text-align: right;\n",
       "    }\n",
       "</style>\n",
       "<table border=\"1\" class=\"dataframe\">\n",
       "  <thead>\n",
       "    <tr style=\"text-align: right;\">\n",
       "      <th></th>\n",
       "      <th>id</th>\n",
       "      <th>text</th>\n",
       "      <th>emocion</th>\n",
       "    </tr>\n",
       "  </thead>\n",
       "  <tbody>\n",
       "    <tr>\n",
       "      <th>4098</th>\n",
       "      <td>464462822957912065</td>\n",
       "      <td>Ese momento que vas a lavarte los dientes y se...</td>\n",
       "      <td>Ira</td>\n",
       "    </tr>\n",
       "    <tr>\n",
       "      <th>4099</th>\n",
       "      <td>464726732491464704</td>\n",
       "      <td>Necesito el teléfono del creador del nivel 86 ...</td>\n",
       "      <td>Ira</td>\n",
       "    </tr>\n",
       "    <tr>\n",
       "      <th>4100</th>\n",
       "      <td>464731936796463104</td>\n",
       "      <td>A esta hora todos los que esperan el subte con...</td>\n",
       "      <td>Ira</td>\n",
       "    </tr>\n",
       "    <tr>\n",
       "      <th>4101</th>\n",
       "      <td>464757652061683712</td>\n",
       "      <td>El Régimen Colectivos, GNB, PNB exacerbó al 60...</td>\n",
       "      <td>Ira</td>\n",
       "    </tr>\n",
       "    <tr>\n",
       "      <th>4102</th>\n",
       "      <td>464826450592673792</td>\n",
       "      <td>La mayor traición jamás esperada! Mi mejor ami...</td>\n",
       "      <td>Ira</td>\n",
       "    </tr>\n",
       "    <tr>\n",
       "      <th>...</th>\n",
       "      <td>...</td>\n",
       "      <td>...</td>\n",
       "      <td>...</td>\n",
       "    </tr>\n",
       "    <tr>\n",
       "      <th>5925</th>\n",
       "      <td>482101912741748738</td>\n",
       "      <td>#NadaMasFeoQue traducir las cosas a lo pocho.....</td>\n",
       "      <td>Ira</td>\n",
       "    </tr>\n",
       "    <tr>\n",
       "      <th>5926</th>\n",
       "      <td>482234398842961920</td>\n",
       "      <td>#nadamasfeoque posponer esas conversaciones de...</td>\n",
       "      <td>Ira</td>\n",
       "    </tr>\n",
       "    <tr>\n",
       "      <th>5927</th>\n",
       "      <td>464880366730235904</td>\n",
       "      <td>No entiendo cómo hay gente que le gusta econom...</td>\n",
       "      <td>Ira</td>\n",
       "    </tr>\n",
       "    <tr>\n",
       "      <th>5928</th>\n",
       "      <td>467069094899228672</td>\n",
       "      <td>@JessAhelle @espedevesa cómo no van a estar la...</td>\n",
       "      <td>Ira</td>\n",
       "    </tr>\n",
       "    <tr>\n",
       "      <th>5929</th>\n",
       "      <td>469760893203386368</td>\n",
       "      <td>Venga... Y ahora es cuando me quiero morir y m...</td>\n",
       "      <td>Ira</td>\n",
       "    </tr>\n",
       "  </tbody>\n",
       "</table>\n",
       "<p>1830 rows × 3 columns</p>\n",
       "</div>"
      ],
      "text/plain": [
       "                      id                                               text  \\\n",
       "4098  464462822957912065  Ese momento que vas a lavarte los dientes y se...   \n",
       "4099  464726732491464704  Necesito el teléfono del creador del nivel 86 ...   \n",
       "4100  464731936796463104  A esta hora todos los que esperan el subte con...   \n",
       "4101  464757652061683712  El Régimen Colectivos, GNB, PNB exacerbó al 60...   \n",
       "4102  464826450592673792  La mayor traición jamás esperada! Mi mejor ami...   \n",
       "...                  ...                                                ...   \n",
       "5925  482101912741748738  #NadaMasFeoQue traducir las cosas a lo pocho.....   \n",
       "5926  482234398842961920  #nadamasfeoque posponer esas conversaciones de...   \n",
       "5927  464880366730235904  No entiendo cómo hay gente que le gusta econom...   \n",
       "5928  467069094899228672  @JessAhelle @espedevesa cómo no van a estar la...   \n",
       "5929  469760893203386368  Venga... Y ahora es cuando me quiero morir y m...   \n",
       "\n",
       "     emocion  \n",
       "4098     Ira  \n",
       "4099     Ira  \n",
       "4100     Ira  \n",
       "4101     Ira  \n",
       "4102     Ira  \n",
       "...      ...  \n",
       "5925     Ira  \n",
       "5926     Ira  \n",
       "5927     Ira  \n",
       "5928     Ira  \n",
       "5929     Ira  \n",
       "\n",
       "[1830 rows x 3 columns]"
      ]
     },
     "execution_count": 14,
     "metadata": {},
     "output_type": "execute_result"
    }
   ],
   "source": [
    "df[df['emocion'] == 'Ira']"
   ]
  },
  {
   "cell_type": "code",
   "execution_count": 26,
   "metadata": {},
   "outputs": [
    {
     "data": {
      "text/plain": [
       "'le va a sacar foto al dibujo, me lo va a pasar, pero de todas formas va a venir a mi casa a darmelo;-; lo peor es que sabe donde vivo #miedo'"
      ]
     },
     "execution_count": 26,
     "metadata": {},
     "output_type": "execute_result"
    }
   ],
   "source": [
    "df['text'][8821]"
   ]
  },
  {
   "cell_type": "code",
   "execution_count": 2,
   "metadata": {},
   "outputs": [],
   "source": [
    "sel = pd.read_csv('../Data/SEL/SEL_full.txt', delimiter='\\t', encoding= 'ISO-8859-1')"
   ]
  },
  {
   "cell_type": "code",
   "execution_count": 3,
   "metadata": {},
   "outputs": [],
   "source": [
    "emociones = list(sel['Categoría'].unique())\n",
    "emociones_dict ={}\n",
    "for emocion in emociones:\n",
    "    emociones_dict[emocion] = list(sel[sel['Categoría'] == emocion].sort_values(' PFA',  ascending=False).iloc[0:10]['Palabra'])\n",
    "    for palabra in emociones_dict[emocion]:\n",
    "        if not palabra.isascii():\n",
    "            emociones_dict[emocion].append(unidecode.unidecode(palabra))"
   ]
  },
  {
   "cell_type": "code",
   "execution_count": 5,
   "metadata": {},
   "outputs": [],
   "source": [
    "def get_tweets(emotion, words_list, number_tweets, start, end):\n",
    "    emotion_words = '(' +' OR '.join(words_list) + ')'\n",
    "    searched_tweets = [tweet for tweet in tweepy.Paginator(client.search_all_tweets, query = emotion_words + ' place_country:CO' ,start_time = start, end_time = end, \n",
    "                                max_results=500).flatten(limit=number_tweets)]\n",
    "    tweets_df = pd.DataFrame(searched_tweets, columns = ['text'])\n",
    "    tweets_df['emotion']= emotion\n",
    "    tweets_df['date']= start\n",
    "    return tweets_df"
   ]
  },
  {
   "cell_type": "code",
   "execution_count": 9,
   "metadata": {
    "collapsed": true,
    "jupyter": {
     "outputs_hidden": true
    },
    "tags": []
   },
   "outputs": [
    {
     "name": "stdout",
     "output_type": "stream",
     "text": [
      "2021-04-01 00:00:00\n",
      "Alegría\n",
      "Enojo\n",
      "Miedo\n",
      "Repulsión\n",
      "Sorpresa\n",
      "Tristeza\n",
      "2021-04-02 00:00:00\n",
      "Alegría\n",
      "Enojo\n",
      "Miedo\n",
      "Repulsión\n",
      "Sorpresa\n",
      "Tristeza\n",
      "2021-04-03 00:00:00\n",
      "Alegría\n",
      "Enojo\n",
      "Miedo\n",
      "Repulsión\n",
      "Sorpresa\n",
      "Tristeza\n",
      "2021-04-04 00:00:00\n",
      "Alegría\n",
      "Enojo\n",
      "Miedo\n",
      "Repulsión\n",
      "Sorpresa\n",
      "Tristeza\n",
      "2021-04-05 00:00:00\n",
      "Alegría\n",
      "Enojo\n",
      "Miedo\n",
      "Repulsión\n",
      "Sorpresa\n",
      "Tristeza\n",
      "2021-04-06 00:00:00\n",
      "Alegría\n",
      "Enojo\n",
      "Miedo\n",
      "Repulsión\n",
      "Sorpresa\n",
      "Tristeza\n",
      "2021-04-07 00:00:00\n",
      "Alegría\n",
      "Enojo\n",
      "Miedo\n",
      "Repulsión\n",
      "Sorpresa\n",
      "Tristeza\n",
      "2021-04-08 00:00:00\n",
      "Alegría\n",
      "Enojo\n",
      "Miedo\n",
      "Repulsión\n",
      "Sorpresa\n",
      "Tristeza\n",
      "2021-04-09 00:00:00\n",
      "Alegría\n",
      "Enojo\n",
      "Miedo\n",
      "Repulsión\n",
      "Sorpresa\n",
      "Tristeza\n",
      "2021-04-10 00:00:00\n",
      "Alegría\n",
      "Enojo\n",
      "Miedo\n",
      "Repulsión\n",
      "Sorpresa\n",
      "Tristeza\n",
      "2021-04-11 00:00:00\n",
      "Alegría\n",
      "Enojo\n",
      "Miedo\n",
      "Repulsión\n",
      "Sorpresa\n",
      "Tristeza\n",
      "2021-04-12 00:00:00\n",
      "Alegría\n",
      "Enojo\n",
      "Miedo\n",
      "Repulsión\n",
      "Sorpresa\n",
      "Tristeza\n",
      "2021-04-13 00:00:00\n",
      "Alegría\n",
      "Enojo\n",
      "Miedo\n",
      "Repulsión\n",
      "Sorpresa\n",
      "Tristeza\n",
      "2021-04-14 00:00:00\n",
      "Alegría\n",
      "Enojo\n",
      "Miedo\n",
      "Repulsión\n",
      "Sorpresa\n",
      "Tristeza\n",
      "2021-04-15 00:00:00\n",
      "Alegría\n",
      "Enojo\n",
      "Miedo\n",
      "Repulsión\n",
      "Sorpresa\n",
      "Tristeza\n",
      "2021-04-16 00:00:00\n",
      "Alegría\n",
      "Enojo\n",
      "Miedo\n",
      "Repulsión\n",
      "Sorpresa\n",
      "Tristeza\n",
      "2021-04-17 00:00:00\n",
      "Alegría\n",
      "Enojo\n",
      "Miedo\n",
      "Repulsión\n",
      "Sorpresa\n",
      "Tristeza\n",
      "2021-04-18 00:00:00\n",
      "Alegría\n",
      "Enojo\n",
      "Miedo\n",
      "Repulsión\n",
      "Sorpresa\n",
      "Tristeza\n",
      "2021-04-19 00:00:00\n",
      "Alegría\n",
      "Enojo\n",
      "Miedo\n",
      "Repulsión\n",
      "Sorpresa\n",
      "Tristeza\n",
      "2021-04-20 00:00:00\n",
      "Alegría\n",
      "Enojo\n",
      "Miedo\n",
      "Repulsión\n",
      "Sorpresa\n",
      "Tristeza\n",
      "2021-04-21 00:00:00\n",
      "Alegría\n",
      "Enojo\n",
      "Miedo\n",
      "Repulsión\n",
      "Sorpresa\n",
      "Tristeza\n",
      "2021-04-22 00:00:00\n",
      "Alegría\n",
      "Enojo\n",
      "Miedo\n",
      "Repulsión\n",
      "Sorpresa\n",
      "Tristeza\n",
      "2021-04-23 00:00:00\n",
      "Alegría\n",
      "Enojo\n",
      "Miedo\n",
      "Repulsión\n",
      "Sorpresa\n",
      "Tristeza\n",
      "2021-04-24 00:00:00\n",
      "Alegría\n",
      "Enojo\n",
      "Miedo\n",
      "Repulsión\n",
      "Sorpresa\n",
      "Tristeza\n",
      "2021-04-25 00:00:00\n",
      "Alegría\n",
      "Enojo\n",
      "Miedo\n",
      "Repulsión\n",
      "Sorpresa\n",
      "Tristeza\n",
      "2021-04-26 00:00:00\n",
      "Alegría\n",
      "Enojo\n",
      "Miedo\n",
      "Repulsión\n",
      "Sorpresa\n",
      "Tristeza\n",
      "2021-04-27 00:00:00\n",
      "Alegría\n",
      "Enojo\n",
      "Miedo\n",
      "Repulsión\n",
      "Sorpresa\n",
      "Tristeza\n",
      "2021-04-28 00:00:00\n",
      "Alegría\n",
      "Enojo\n",
      "Miedo\n",
      "Repulsión\n",
      "Sorpresa\n",
      "Tristeza\n",
      "2021-04-29 00:00:00\n",
      "Alegría\n",
      "Enojo\n",
      "Miedo\n",
      "Repulsión\n",
      "Sorpresa\n",
      "Tristeza\n",
      "2021-04-30 00:00:00\n",
      "Alegría\n",
      "Enojo\n",
      "Miedo\n",
      "Repulsión\n",
      "Sorpresa\n",
      "Tristeza\n"
     ]
    }
   ],
   "source": [
    "month = '04'\n",
    "start_date = datetime.strptime('2021-' + month, '%Y-%m')\n",
    "end_date = start_date + relativedelta(months=1)\n",
    "df_list = []\n",
    "while start_date < end_date:\n",
    "    print(start_date)\n",
    "    next_date = start_date + relativedelta(days=1)\n",
    "    start_date_standard = start_date.isoformat(\"T\") + \"Z\"\n",
    "    next_date_standard = next_date.isoformat(\"T\") + \"Z\"\n",
    "    for i in emociones_dict.keys():\n",
    "        print(i)\n",
    "        df_list.append(get_tweets(i, emociones_dict[i], 100, start_date_standard, next_date_standard ))\n",
    "        time.sleep(1)\n",
    "    start_date = next_date\n",
    "emociones_df = pd.concat(df_list)"
   ]
  },
  {
   "cell_type": "code",
   "execution_count": 11,
   "metadata": {},
   "outputs": [],
   "source": [
    "emociones_df.to_csv('../Data/emociones_df.txt', index=False)"
   ]
  },
  {
   "cell_type": "code",
   "execution_count": 20,
   "metadata": {},
   "outputs": [],
   "source": [
    "emociones_df = pd.read_csv('../Data/emociones_df.txt')"
   ]
  },
  {
   "cell_type": "code",
   "execution_count": 6,
   "metadata": {},
   "outputs": [],
   "source": [
    "from transformers import BertForMaskedLM, BertTokenizer, BertForSequenceClassification"
   ]
  },
  {
   "cell_type": "code",
   "execution_count": 21,
   "metadata": {},
   "outputs": [
    {
     "name": "stderr",
     "output_type": "stream",
     "text": [
      "Some weights of the model checkpoint at /home/juanjo/BETO/pytorch were not used when initializing BertForMaskedLM: ['cls.seq_relationship.weight', 'cls.seq_relationship.bias']\n",
      "- This IS expected if you are initializing BertForMaskedLM from the checkpoint of a model trained on another task or with another architecture (e.g. initializing a BertForSequenceClassification model from a BertForPreTraining model).\n",
      "- This IS NOT expected if you are initializing BertForMaskedLM from the checkpoint of a model that you expect to be exactly identical (initializing a BertForSequenceClassification model from a BertForSequenceClassification model).\n"
     ]
    }
   ],
   "source": [
    "\n",
    "tokenizer = BertTokenizer.from_pretrained(\"/home/juanjo/BETO/pytorch/\", do_lower_case=False)\n",
    "model = BertForMaskedLM.from_pretrained(\"/home/juanjo/BETO/pytorch\")\n",
    "e = model.eval()"
   ]
  },
  {
   "cell_type": "code",
   "execution_count": 10,
   "metadata": {},
   "outputs": [
    {
     "name": "stdout",
     "output_type": "stream",
     "text": [
      "MASK 0 : ['problemas', 'conflictos', 'asuntos', 'males', 'temas']\n",
      "MASK 1 : ['renunciar', 'actuar', 'intervenir', 'regresar', 'asumir']\n"
     ]
    }
   ],
   "source": [
    "text = \"[CLS] Para solucionar los [MASK] de Chile, el presidente debe [MASK] de inmediato. [SEP]\"\n",
    "masked_indxs = (4,11)\n",
    "\n",
    "tokens = tokenizer.tokenize(text)\n",
    "indexed_tokens = tokenizer.convert_tokens_to_ids(tokens)\n",
    "tokens_tensor = torch.tensor([indexed_tokens])\n",
    "\n",
    "predictions = model(tokens_tensor)[0]\n",
    "\n",
    "for i,midx in enumerate(masked_indxs):\n",
    "    idxs = torch.argsort(predictions[0,midx], descending=True)\n",
    "    predicted_token = tokenizer.convert_ids_to_tokens(idxs[:5])\n",
    "    print('MASK',i,':',predicted_token)"
   ]
  }
 ],
 "metadata": {
  "kernelspec": {
   "display_name": "Python 3 (ipykernel)",
   "language": "python",
   "name": "python3"
  },
  "language_info": {
   "codemirror_mode": {
    "name": "ipython",
    "version": 3
   },
   "file_extension": ".py",
   "mimetype": "text/x-python",
   "name": "python",
   "nbconvert_exporter": "python",
   "pygments_lexer": "ipython3",
   "version": "3.9.7"
  }
 },
 "nbformat": 4,
 "nbformat_minor": 4
}
