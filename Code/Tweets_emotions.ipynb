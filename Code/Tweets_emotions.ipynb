{
 "cells": [
  {
   "cell_type": "code",
   "execution_count": 4,
   "metadata": {},
   "outputs": [
    {
     "name": "stdout",
     "output_type": "stream",
     "text": [
      "Requirement already satisfied: tweepy in /home/juanjo/anaconda3/lib/python3.9/site-packages (4.9.0)\n",
      "Requirement already satisfied: oauthlib<4,>=3.2.0 in /home/juanjo/anaconda3/lib/python3.9/site-packages (from tweepy) (3.2.0)\n",
      "Requirement already satisfied: requests<3,>=2.27.0 in /home/juanjo/anaconda3/lib/python3.9/site-packages (from tweepy) (2.27.1)\n",
      "Requirement already satisfied: requests-oauthlib<2,>=1.2.0 in /home/juanjo/anaconda3/lib/python3.9/site-packages (from tweepy) (1.3.1)\n",
      "Requirement already satisfied: urllib3<1.27,>=1.21.1 in /home/juanjo/anaconda3/lib/python3.9/site-packages (from requests<3,>=2.27.0->tweepy) (1.26.7)\n",
      "Requirement already satisfied: idna<4,>=2.5 in /home/juanjo/anaconda3/lib/python3.9/site-packages (from requests<3,>=2.27.0->tweepy) (3.2)\n",
      "Requirement already satisfied: charset-normalizer~=2.0.0 in /home/juanjo/anaconda3/lib/python3.9/site-packages (from requests<3,>=2.27.0->tweepy) (2.0.4)\n",
      "Requirement already satisfied: certifi>=2017.4.17 in /home/juanjo/anaconda3/lib/python3.9/site-packages (from requests<3,>=2.27.0->tweepy) (2021.10.8)\n",
      "Note: you may need to restart the kernel to use updated packages.\n"
     ]
    }
   ],
   "source": [
    "pip install tweepy"
   ]
  },
  {
   "cell_type": "code",
   "execution_count": 5,
   "metadata": {},
   "outputs": [],
   "source": [
    "import tweepy\n",
    "\n",
    "#client = tweepy.Client(bearer_token='AAAAAAAAAAAAAAAAAAAAABnpcAEAAAAA%2FZ8s6rLM%2FzDX6roMgzKW4uRVLwY%3DziIAQs731EOnAN3l0Fbp0fFRH4eixgbFRqvyCVuKuK529uEqbh')"
   ]
  },
  {
   "cell_type": "code",
   "execution_count": 3,
   "metadata": {},
   "outputs": [
    {
     "name": "stdout",
     "output_type": "stream",
     "text": [
      "Collecting ruamel-yaml\n",
      "  Downloading ruamel.yaml-0.17.21-py3-none-any.whl (109 kB)\n",
      "\u001b[K     |████████████████████████████████| 109 kB 945 kB/s eta 0:00:01\n",
      "\u001b[?25hCollecting ruamel.yaml.clib>=0.2.6\n",
      "  Downloading ruamel.yaml.clib-0.2.6-cp39-cp39-manylinux1_x86_64.whl (539 kB)\n",
      "\u001b[K     |████████████████████████████████| 539 kB 1.4 MB/s eta 0:00:01\n",
      "\u001b[?25hInstalling collected packages: ruamel.yaml.clib, ruamel-yaml\n",
      "Successfully installed ruamel-yaml-0.17.21 ruamel.yaml.clib-0.2.6\n",
      "Note: you may need to restart the kernel to use updated packages.\n"
     ]
    }
   ],
   "source": [
    "pip install ruamel-yaml"
   ]
  },
  {
   "cell_type": "code",
   "execution_count": 5,
   "metadata": {},
   "outputs": [
    {
     "name": "stdout",
     "output_type": "stream",
     "text": [
      "@chimeracoder Sorry to hear about your experience Aditya 😢 if there’s anything I can do to help going forward please lmk\n",
      "Tweets to Twitter Circle are only available in the #TwitterAPI via User Context, not via the App-only authentication. https://t.co/q0tFGG7Zdl\n",
      "[{'domain': {'id': '46', 'name': 'Brand Category', 'description': 'Categories within Brand Verticals that narrow down the scope of Brands'}, 'entity': {'id': '781974596752842752', 'name': 'Services'}}, {'domain': {'id': '47', 'name': 'Brand', 'description': 'Brands and Companies'}, 'entity': {'id': '10045225402', 'name': 'Twitter'}}]\n",
      "My favorite time of the year is here 🎉\n",
      "\n",
      "تقبل الله منا ومنكم\n",
      "\n",
      "#EidMubarak https://t.co/52kH0IgFBW\n",
      "[{'domain': {'id': '29', 'name': 'Events [Entity Service]', 'description': 'Entity Service related Events domain'}, 'entity': {'id': '1466236020010016770', 'name': 'Ramadan'}}]\n",
      "This Repl on @Replit showcases how you can explore Tweet annotations in v2 using the sampled stream endpoint https://t.co/kuMh6ahAzB\n",
      "[{'domain': {'id': '46', 'name': 'Brand Category', 'description': 'Categories within Brand Verticals that narrow down the scope of Brands'}, 'entity': {'id': '781974596752842752', 'name': 'Services'}}, {'domain': {'id': '47', 'name': 'Brand', 'description': 'Brands and Companies'}, 'entity': {'id': '10045225402', 'name': 'Twitter'}}]\n",
      "One thing I use the sampled stream endpoint is to learn about the various Tweet annotations that are available in the #TwitterAPI v2 https://t.co/45ARp0uqBX\n",
      "[{'domain': {'id': '46', 'name': 'Brand Category', 'description': 'Categories within Brand Verticals that narrow down the scope of Brands'}, 'entity': {'id': '781974596752842752', 'name': 'Services'}}, {'domain': {'id': '47', 'name': 'Brand', 'description': 'Brands and Companies'}, 'entity': {'id': '10045225402', 'name': 'Twitter'}}]\n",
      "Important update for devs and academics using the v1.1 statuses/sample endpoint 🚨\n",
      "\n",
      "This endpoint will be deprecated in 6 months. It is time to start migrating over to v2 to use the new sampled stream endpoint (1% sample) in the #TwitterAPI v2 https://t.co/xdcEzR6B9g\n"
     ]
    }
   ],
   "source": [
    "# Replace with your own search query\n",
    "query = 'from:suhemparack -is:retweet'\n",
    "\n",
    "tweets = client.search_recent_tweets(query=query, tweet_fields=['context_annotations', 'created_at'], max_results=100)\n",
    "\n",
    "for tweet in tweets.data:\n",
    "    print(tweet.text)\n",
    "    if len(tweet.context_annotations) > 0:\n",
    "        print(tweet.context_annotations)"
   ]
  },
  {
   "cell_type": "code",
   "execution_count": 6,
   "metadata": {},
   "outputs": [],
   "source": [
    "auth = tweepy.AppAuthHandler('7LAdt5hpLhHgqTLbjxq6OUew1', 'cbBkuL4lzRiG2GH5mK5WF4gr4prxYQnZDHHMLum63jACSgdRI0')\n",
    "api = tweepy.API(auth)"
   ]
  },
  {
   "cell_type": "code",
   "execution_count": 7,
   "metadata": {},
   "outputs": [],
   "source": [
    "places = api.search_geo(query=\"Colombia\", granularity=\"country\")"
   ]
  },
  {
   "cell_type": "code",
   "execution_count": 8,
   "metadata": {},
   "outputs": [],
   "source": [
    "place_id = places[0].id"
   ]
  },
  {
   "cell_type": "code",
   "execution_count": 9,
   "metadata": {},
   "outputs": [
    {
     "name": "stdout",
     "output_type": "stream",
     "text": [
      "@cielo_rusinque @QuinteroCalle Siga soñando, una vez la @FiscaliaCol lo ponga preso se les cae esa estructurita de corrupción | Medellín\n",
      "@fdbedout Si 🤡 periodista la gente esta verraca de tanto Hampón que quiere violentar las normas 👎🏼🤬… https://t.co/x3oCgdBsTi | Medellín\n",
      "JAJAJAJAJAJAJAJA https://t.co/ZjbDMNC5yY | Barranquilla\n",
      "🫠 https://t.co/f07XyZxokM | Antioquia\n",
      "@Fabipinto21 Quien es esa? | Bello\n",
      "@Nataliaescribe Y usted está haciendo el ridículo ahora | Medellín\n",
      "Los pueblitos de Cundinamarca 🥶 | Sutatausa\n",
      "@davidbarguil @FicoGutierrez @NoticiasCaracol No lo hicieron con duque mucho menos con el periquero. | Bogotá, D.C.\n",
      "@RoyBarreras @petrogustavo Sera que tal compro al sistema electoral? Indra ya tendra todo listo? | Santa Rosa de Cabal\n",
      "@AlejoGalvez11 Mmm no | Marinilla\n",
      "@metrodemedellin Alguna vez se han puesto a analizar en por qué hace más calor en los metros nuevos que en los viejos, 🫣 | Medellín\n",
      "Esta mezcla me encanta 😋 https://t.co/qWpGrezzIV | Palmira\n",
      "Yo se que no hay que quejarse pero que hpta clima tan maluco. | Medellín\n",
      "mi relación más estable ha sido con la soledad | Valledupar\n",
      "Definitely! 🖤 https://t.co/HBNp8R92ZG | Bogotá, D.C.\n"
     ]
    }
   ],
   "source": [
    "tweets = api.search_tweets(q=\"place:%s\" % place_id)\n",
    "for tweet in tweets:\n",
    "    print(tweet.text + \" | \" + tweet.place.name if tweet.place else \"Undefined place\")"
   ]
  },
  {
   "cell_type": "code",
   "execution_count": null,
   "metadata": {},
   "outputs": [],
   "source": []
  }
 ],
 "metadata": {
  "kernelspec": {
   "display_name": "Python 3 (ipykernel)",
   "language": "python",
   "name": "python3"
  },
  "language_info": {
   "codemirror_mode": {
    "name": "ipython",
    "version": 3
   },
   "file_extension": ".py",
   "mimetype": "text/x-python",
   "name": "python",
   "nbconvert_exporter": "python",
   "pygments_lexer": "ipython3",
   "version": "3.9.7"
  }
 },
 "nbformat": 4,
 "nbformat_minor": 4
}
