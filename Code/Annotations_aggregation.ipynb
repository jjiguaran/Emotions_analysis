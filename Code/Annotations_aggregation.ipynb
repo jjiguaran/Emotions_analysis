{
 "cells": [
  {
   "cell_type": "code",
   "execution_count": 1,
   "id": "04687ff6-c30b-45f6-8057-3adbd3e202bf",
   "metadata": {},
   "outputs": [],
   "source": [
    "import pandas as pd\n",
    "pd.options.mode.chained_assignment = None\n",
    "from sklearn import preprocessing\n",
    "import numpy as np\n",
    "from statsmodels.stats import inter_rater as irr\n",
    "pd.options.display.max_colwidth = 240\n",
    "from sklearn.preprocessing import OneHotEncoder"
   ]
  },
  {
   "cell_type": "code",
   "execution_count": 2,
   "id": "667d7ec7-96a6-429a-963e-663593961500",
   "metadata": {},
   "outputs": [],
   "source": [
    "juanjo = pd.read_csv('../Data/Data_Annotated/latest_juanjo_annotations.csv', sep = '\\t')\n",
    "juanma = pd.read_csv('../Data/Data_Annotated/latest_juanma_annotations.csv', sep = '\\t')\n",
    "ger = pd.read_csv('../Data/Data_Annotated/latest_ger_annotations.csv', sep = '\\t')"
   ]
  },
  {
   "cell_type": "code",
   "execution_count": 3,
   "id": "48f60347-b832-479a-8d68-ce44146ead6b",
   "metadata": {},
   "outputs": [],
   "source": [
    "juanjo = juanjo.rename(columns = {'sentimento':'sentiment_juanjo', 'relevancia': 'relevancia_juanjo', 'emocion': 'emocion_juanjo', 'ironia': 'ironia_juanjo'})\n",
    "juanma = juanma.rename(columns = {'sentimento':'sentiment_juanma', 'relevancia': 'relevancia_juanma', 'emocion': 'emocion_juanma', 'ironia': 'ironia_juanma'})\n",
    "ger = ger.rename(columns = {'sentimento':'sentiment_ger', 'relevancia': 'relevancia_ger', 'emocion': 'emocion_ger', 'ironia': 'ironia_ger'})"
   ]
  },
  {
   "cell_type": "code",
   "execution_count": 4,
   "id": "c890b074-c201-4695-9f3b-b148fc204f38",
   "metadata": {},
   "outputs": [],
   "source": [
    "merged_df = pd.merge(pd.merge(juanjo[['text', 'tweet_id', 'sentiment_juanjo']],\n",
    "                     juanma[['tweet_id', 'sentiment_juanma']], on=['tweet_id']),\n",
    "                    ger[['tweet_id', 'sentiment_ger']], on=['tweet_id'])"
   ]
  },
  {
   "cell_type": "code",
   "execution_count": 5,
   "id": "a44e69a5-9a20-45c3-ad0f-37d3ea5e3a97",
   "metadata": {},
   "outputs": [],
   "source": [
    "dict_emociones = {\n",
    "    'alegria' : ['Alegria', 'Confianza', 'Admiración','Agrado'],\n",
    "    'miedo' : ['Miedo', 'Incertidumbre'],\n",
    "    'sorpresa' : ['Sorpresa', 'Asombro'],\n",
    "    'tristeza' : ['Tristeza' , 'Decepción'],\n",
    "    'asco' : ['Asco', 'Desagrado'],\n",
    "    'ira' : ['Ira', 'Odio'],\n",
    "    'otra' : ['Otra'] }"
   ]
  },
  {
   "cell_type": "code",
   "execution_count": 6,
   "id": "2bc61df7-37a1-489d-b8a5-af2f6fe4fe43",
   "metadata": {},
   "outputs": [],
   "source": [
    "for i  in dict_emociones.keys():\n",
    "    merged_df[i + '_juanma'] = merged_df['sentiment_juanma'].str.contains('|'.join(dict_emociones[i]))\n",
    "    merged_df[i + '_juanjo'] = merged_df['sentiment_juanjo'].str.contains('|'.join(dict_emociones[i]))\n",
    "    merged_df[i + '_ger'] = merged_df['sentiment_ger'].str.contains('|'.join(dict_emociones[i]))"
   ]
  },
  {
   "cell_type": "code",
   "execution_count": 71,
   "id": "a66dbc25-dc76-489e-bde6-4392f56d5c81",
   "metadata": {},
   "outputs": [],
   "source": [
    "merged_df = merged_df.fillna(False)\n",
    "merged_df['labels_author'] = merged_df.apply(lambda x: ', '.join(x.index[x == True]), axis=1)"
   ]
  },
  {
   "cell_type": "code",
   "execution_count": 88,
   "id": "a27269a2-d96c-4496-8179-82f19d585716",
   "metadata": {},
   "outputs": [],
   "source": [
    "for emotion in dict_emociones.keys():\n",
    "    merged_df[emotion] =  merged_df[[emotion + '_juanjo',  emotion + '_ger',  emotion + '_juanma']].sum(axis=1)\n",
    "    merged_df[emotion] = np.where(merged_df[emotion]>= 2, True, False)\n",
    "merged_df['labels'] = merged_df[list(dict_emociones.keys())].apply(lambda x: ', '.join(x.index[x == True]), axis=1)\n",
    "merged_df['labels_encoded'] = np.where(merged_df[list(dict_emociones.keys())] == 1, 1, 0).tolist()\n",
    "labeled_df = merged_df[['text', 'tweet_id', 'labels', 'labels_encoded']]\n",
    "labeled_df = labeled_df[labeled_df['labels'] != ''].reset_index(drop = True)\n",
    "labeled_df.to_csv('../Data/Data_Annotated/test_labeled_dataset.csv', index = False)"
   ]
  },
  {
   "cell_type": "code",
   "execution_count": 7,
   "id": "f71ebb54-8d90-419b-ae47-7eb0918d666b",
   "metadata": {},
   "outputs": [],
   "source": [
    "labeled_df = pd.read_csv('../Data/Data_Annotated/test_labeled_dataset.csv')\n",
    "labeled_df_hugging =  labeled_df[['text', 'labels_encoded']].rename(columns = {'labels_encoded' : 'label'})\n",
    "labeled_df_hugging.to_csv('../Data/Data_Annotated/labeled_dataset_hugging.csv', index = False)"
   ]
  },
  {
   "cell_type": "code",
   "execution_count": 2,
   "id": "d4e7511f-ebb5-4cbc-9d21-cfce86653a4c",
   "metadata": {},
   "outputs": [
    {
     "data": {
      "text/html": [
       "<div>\n",
       "<style scoped>\n",
       "    .dataframe tbody tr th:only-of-type {\n",
       "        vertical-align: middle;\n",
       "    }\n",
       "\n",
       "    .dataframe tbody tr th {\n",
       "        vertical-align: top;\n",
       "    }\n",
       "\n",
       "    .dataframe thead th {\n",
       "        text-align: right;\n",
       "    }\n",
       "</style>\n",
       "<table border=\"1\" class=\"dataframe\">\n",
       "  <thead>\n",
       "    <tr style=\"text-align: right;\">\n",
       "      <th></th>\n",
       "      <th>text</th>\n",
       "      <th>tweet_id</th>\n",
       "      <th>labels</th>\n",
       "      <th>labels_encoded</th>\n",
       "    </tr>\n",
       "  </thead>\n",
       "  <tbody>\n",
       "    <tr>\n",
       "      <th>0</th>\n",
       "      <td>#NosUnimosONosJodemos #NosUnimosONosJodemos  Vamos juntos por el cambio, mire el miedo que le tienen.  @petrogustavo Mi presidente</td>\n",
       "      <td>1528216296147533824</td>\n",
       "      <td>alegria</td>\n",
       "      <td>[1, 0, 0, 0, 0, 0, 0]</td>\n",
       "    </tr>\n",
       "    <tr>\n",
       "      <th>1</th>\n",
       "      <td>@tobonsanin Otra vez este viejo estúpido politiquero, estamos es llevados cuando creemos  viejo decrépito de estos va hacer la solución para Colombia, ayudando a escoger corruptos como #quintero en MEDELLIN #PetroElPatronDelMal #Federic...</td>\n",
       "      <td>1528425111078019072</td>\n",
       "      <td>asco, ira</td>\n",
       "      <td>[0, 0, 0, 0, 1, 1, 0]</td>\n",
       "    </tr>\n",
       "    <tr>\n",
       "      <th>2</th>\n",
       "      <td>Sin importar encuestas como en el plebiscito juntos por Colombia el 29 nos vemos #FedericoImparable #NosUnimosONosJodemos #FedericoEsColombia</td>\n",
       "      <td>1528451337087762433</td>\n",
       "      <td>alegria</td>\n",
       "      <td>[1, 0, 0, 0, 0, 0, 0]</td>\n",
       "    </tr>\n",
       "    <tr>\n",
       "      <th>3</th>\n",
       "      <td>Este es el Presidente que nos merecemos, recorrió el país entero, escuchó, expresó cariño y nos contagió la esperanza #FedericoEsColombia</td>\n",
       "      <td>1528336411451133955</td>\n",
       "      <td>alegria</td>\n",
       "      <td>[1, 0, 0, 0, 0, 0, 0]</td>\n",
       "    </tr>\n",
       "    <tr>\n",
       "      <th>4</th>\n",
       "      <td>Por mi familia, por la democracia y las libertades. #FedericoEsColombia</td>\n",
       "      <td>1528335860470620160</td>\n",
       "      <td>alegria</td>\n",
       "      <td>[1, 0, 0, 0, 0, 0, 0]</td>\n",
       "    </tr>\n",
       "    <tr>\n",
       "      <th>...</th>\n",
       "      <td>...</td>\n",
       "      <td>...</td>\n",
       "      <td>...</td>\n",
       "      <td>...</td>\n",
       "    </tr>\n",
       "    <tr>\n",
       "      <th>210</th>\n",
       "      <td>@VickyDavilaH Firme con @FicoGutierrez  desde la alcaldía de Medellín, es la mejor opción para nuestro país  #FicoElGanador</td>\n",
       "      <td>1530015260735840263</td>\n",
       "      <td>alegria</td>\n",
       "      <td>[1, 0, 0, 0, 0, 0, 0]</td>\n",
       "    </tr>\n",
       "    <tr>\n",
       "      <th>211</th>\n",
       "      <td>@ArgiroCasta888 Hola Argiro, buen día, desde que voté por #FicoElGanador #FicoPresidente en Mayo 23, estoy celebrando el triunfo por la Democracia en Colombia.</td>\n",
       "      <td>1530115489980108800</td>\n",
       "      <td>alegria</td>\n",
       "      <td>[1, 0, 0, 0, 0, 0, 0]</td>\n",
       "    </tr>\n",
       "    <tr>\n",
       "      <th>212</th>\n",
       "      <td>Porque NO QUIERO ver ni en pintura a Nicolás Maduro y Diosdado Cabello, entonces mi voto es por Federico Gutiérrez   #FicoElGanador</td>\n",
       "      <td>1530133587269394432</td>\n",
       "      <td>asco</td>\n",
       "      <td>[0, 0, 0, 0, 1, 0, 0]</td>\n",
       "    </tr>\n",
       "    <tr>\n",
       "      <th>213</th>\n",
       "      <td>@GalloMatrix01 Hoy la peor delincuencia esta en el congreso gracias al PACTO DE DELINCUENTES. Este domingo no podemos caer en el comunismo. No van a ganar, no van a gobernar, no dirigirán este país. #FicoElGanador  #FicoEsColombia #Fico...</td>\n",
       "      <td>1530182862250590209</td>\n",
       "      <td>miedo, asco</td>\n",
       "      <td>[0, 1, 0, 0, 1, 0, 0]</td>\n",
       "    </tr>\n",
       "    <tr>\n",
       "      <th>214</th>\n",
       "      <td>Las alianzas que hizo #ElPactoDeCorruptos demuestra q para ellos los ciudadanos valemos 💩💩💩. Han hecho un recorrido por todas las cárceles de Colombia y mientras más delincuente mejor para ellos.  Por esa razón.  #FicoElGanador  #FicoEl...</td>\n",
       "      <td>1530231996479324161</td>\n",
       "      <td>asco</td>\n",
       "      <td>[0, 0, 0, 0, 1, 0, 0]</td>\n",
       "    </tr>\n",
       "  </tbody>\n",
       "</table>\n",
       "<p>215 rows × 4 columns</p>\n",
       "</div>"
      ],
      "text/plain": [
       "                                                                                                                                                                                                                                                text  \\\n",
       "0                                                                                                                 #NosUnimosONosJodemos #NosUnimosONosJodemos  Vamos juntos por el cambio, mire el miedo que le tienen.  @petrogustavo Mi presidente   \n",
       "1    @tobonsanin Otra vez este viejo estúpido politiquero, estamos es llevados cuando creemos  viejo decrépito de estos va hacer la solución para Colombia, ayudando a escoger corruptos como #quintero en MEDELLIN #PetroElPatronDelMal #Federic...   \n",
       "2                                                                                                      Sin importar encuestas como en el plebiscito juntos por Colombia el 29 nos vemos #FedericoImparable #NosUnimosONosJodemos #FedericoEsColombia   \n",
       "3                                                                                                          Este es el Presidente que nos merecemos, recorrió el país entero, escuchó, expresó cariño y nos contagió la esperanza #FedericoEsColombia   \n",
       "4                                                                                                                                                                            Por mi familia, por la democracia y las libertades. #FedericoEsColombia   \n",
       "..                                                                                                                                                                                                                                               ...   \n",
       "210                                                                                                                      @VickyDavilaH Firme con @FicoGutierrez  desde la alcaldía de Medellín, es la mejor opción para nuestro país  #FicoElGanador   \n",
       "211                                                                                  @ArgiroCasta888 Hola Argiro, buen día, desde que voté por #FicoElGanador #FicoPresidente en Mayo 23, estoy celebrando el triunfo por la Democracia en Colombia.   \n",
       "212                                                                                                              Porque NO QUIERO ver ni en pintura a Nicolás Maduro y Diosdado Cabello, entonces mi voto es por Federico Gutiérrez   #FicoElGanador   \n",
       "213  @GalloMatrix01 Hoy la peor delincuencia esta en el congreso gracias al PACTO DE DELINCUENTES. Este domingo no podemos caer en el comunismo. No van a ganar, no van a gobernar, no dirigirán este país. #FicoElGanador  #FicoEsColombia #Fico...   \n",
       "214  Las alianzas que hizo #ElPactoDeCorruptos demuestra q para ellos los ciudadanos valemos 💩💩💩. Han hecho un recorrido por todas las cárceles de Colombia y mientras más delincuente mejor para ellos.  Por esa razón.  #FicoElGanador  #FicoEl...   \n",
       "\n",
       "                tweet_id       labels         labels_encoded  \n",
       "0    1528216296147533824      alegria  [1, 0, 0, 0, 0, 0, 0]  \n",
       "1    1528425111078019072    asco, ira  [0, 0, 0, 0, 1, 1, 0]  \n",
       "2    1528451337087762433      alegria  [1, 0, 0, 0, 0, 0, 0]  \n",
       "3    1528336411451133955      alegria  [1, 0, 0, 0, 0, 0, 0]  \n",
       "4    1528335860470620160      alegria  [1, 0, 0, 0, 0, 0, 0]  \n",
       "..                   ...          ...                    ...  \n",
       "210  1530015260735840263      alegria  [1, 0, 0, 0, 0, 0, 0]  \n",
       "211  1530115489980108800      alegria  [1, 0, 0, 0, 0, 0, 0]  \n",
       "212  1530133587269394432         asco  [0, 0, 0, 0, 1, 0, 0]  \n",
       "213  1530182862250590209  miedo, asco  [0, 1, 0, 0, 1, 0, 0]  \n",
       "214  1530231996479324161         asco  [0, 0, 0, 0, 1, 0, 0]  \n",
       "\n",
       "[215 rows x 4 columns]"
      ]
     },
     "execution_count": 2,
     "metadata": {},
     "output_type": "execute_result"
    }
   ],
   "source": [
    "labeled_df = pd.read_csv('../Data/Data_Annotated/test_labeled_dataset.csv')\n",
    "labeled_df"
   ]
  },
  {
   "cell_type": "code",
   "execution_count": null,
   "id": "ff1497f4-9b95-4240-9377-9d8f77ba3096",
   "metadata": {},
   "outputs": [],
   "source": []
  }
 ],
 "metadata": {
  "kernelspec": {
   "display_name": "Python 3 (ipykernel)",
   "language": "python",
   "name": "python3"
  },
  "language_info": {
   "codemirror_mode": {
    "name": "ipython",
    "version": 3
   },
   "file_extension": ".py",
   "mimetype": "text/x-python",
   "name": "python",
   "nbconvert_exporter": "python",
   "pygments_lexer": "ipython3",
   "version": "3.9.7"
  }
 },
 "nbformat": 4,
 "nbformat_minor": 5
}
