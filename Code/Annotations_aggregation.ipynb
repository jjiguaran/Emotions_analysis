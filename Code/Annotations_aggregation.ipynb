{
 "cells": [
  {
   "cell_type": "code",
   "execution_count": 1,
   "id": "04687ff6-c30b-45f6-8057-3adbd3e202bf",
   "metadata": {},
   "outputs": [],
   "source": [
    "import pandas as pd\n",
    "pd.options.mode.chained_assignment = None\n",
    "from sklearn import preprocessing\n",
    "import numpy as np\n",
    "from statsmodels.stats import inter_rater as irr\n",
    "pd.options.display.max_colwidth = 240\n",
    "from sklearn.preprocessing import OneHotEncoder\n",
    "from ast import literal_eval"
   ]
  },
  {
   "cell_type": "code",
   "execution_count": 2,
   "id": "667d7ec7-96a6-429a-963e-663593961500",
   "metadata": {},
   "outputs": [],
   "source": [
    "juanjo = pd.read_csv('../Data/Data_Annotated/latest_juanjo_annotations.csv', sep = '\\t')\n",
    "juanma = pd.read_csv('../Data/Data_Annotated/latest_juanma_annotations.csv', sep = '\\t')\n",
    "ger = pd.read_csv('../Data/Data_Annotated/latest_ger_annotations.csv', sep = '\\t')\n",
    "juanjo_final = pd.read_csv('../Data/Data_Annotated/final_juanjo_annotations.csv', sep = '\\t')\n",
    "juanma_final = pd.read_csv('../Data/Data_Annotated/final_juanma_annotations.csv', sep = '\\t')\n",
    "ger_final = pd.read_csv('../Data/Data_Annotated/final_ger_annotations.csv', sep = '\\t')\n",
    "juanjo = juanjo.append(juanjo_final)\n",
    "juanma = juanma.append(juanma_final)\n",
    "ger = ger.append(ger_final)"
   ]
  },
  {
   "cell_type": "code",
   "execution_count": 3,
   "id": "48f60347-b832-479a-8d68-ce44146ead6b",
   "metadata": {},
   "outputs": [],
   "source": [
    "juanjo = juanjo.rename(columns = {'sentimento':'sentiment_juanjo', 'relevancia': 'relevancia_juanjo', 'emocion': 'emocion_juanjo', 'ironia': 'ironia_juanjo'})\n",
    "juanma = juanma.rename(columns = {'sentimento':'sentiment_juanma', 'relevancia': 'relevancia_juanma', 'emocion': 'emocion_juanma', 'ironia': 'ironia_juanma'})\n",
    "ger = ger.rename(columns = {'sentimento':'sentiment_ger', 'relevancia': 'relevancia_ger', 'emocion': 'emocion_ger', 'ironia': 'ironia_ger'})"
   ]
  },
  {
   "cell_type": "code",
   "execution_count": 4,
   "id": "c890b074-c201-4695-9f3b-b148fc204f38",
   "metadata": {},
   "outputs": [],
   "source": [
    "merged_df = pd.merge(pd.merge(juanjo[['text', 'tweet_id', 'sentiment_juanjo']],\n",
    "                     juanma[['tweet_id', 'sentiment_juanma']], on=['tweet_id']),\n",
    "                    ger[['tweet_id', 'sentiment_ger']], on=['tweet_id'])"
   ]
  },
  {
   "cell_type": "code",
   "execution_count": 21,
   "id": "a44e69a5-9a20-45c3-ad0f-37d3ea5e3a97",
   "metadata": {},
   "outputs": [],
   "source": [
    "dict_emociones = {\n",
    "    'alegria' : ['Alegria', 'Confianza', 'Admiración','Agrado'],\n",
    "    'miedo' : ['Miedo', 'Incertidumbre'],\n",
    "    #'sorpresa' : ['Sorpresa', 'Asombro'],\n",
    "    'tristeza' : ['Tristeza' , 'Decepción'],\n",
    "    'asco-ira' : ['Asco', 'Desagrado', 'Ira', 'Odio'],}\n",
    "    #'ira' : [],\n",
    "    #'otra' : ['Otra'] }"
   ]
  },
  {
   "cell_type": "code",
   "execution_count": 22,
   "id": "2bc61df7-37a1-489d-b8a5-af2f6fe4fe43",
   "metadata": {},
   "outputs": [],
   "source": [
    "for i  in dict_emociones.keys():\n",
    "    merged_df[i + '_juanma'] = merged_df['sentiment_juanma'].str.contains('|'.join(dict_emociones[i]))\n",
    "    merged_df[i + '_juanjo'] = merged_df['sentiment_juanjo'].str.contains('|'.join(dict_emociones[i]))\n",
    "    merged_df[i + '_ger'] = merged_df['sentiment_ger'].str.contains('|'.join(dict_emociones[i]))"
   ]
  },
  {
   "cell_type": "code",
   "execution_count": 23,
   "id": "a66dbc25-dc76-489e-bde6-4392f56d5c81",
   "metadata": {},
   "outputs": [],
   "source": [
    "merged_df = merged_df.fillna(False)\n",
    "merged_df['labels_author'] = merged_df.apply(lambda x: ', '.join(x.index[x == True]), axis=1)"
   ]
  },
  {
   "cell_type": "code",
   "execution_count": 24,
   "id": "a27269a2-d96c-4496-8179-82f19d585716",
   "metadata": {},
   "outputs": [],
   "source": [
    "for emotion in dict_emociones.keys():\n",
    "    merged_df[emotion] =  merged_df[[emotion + '_juanjo',  emotion + '_ger',  emotion + '_juanma']].sum(axis=1)\n",
    "    merged_df[emotion] = np.where(merged_df[emotion]>= 2, True, False)\n",
    "merged_df['labels'] = merged_df[list(dict_emociones.keys())].apply(lambda x: ', '.join(x.index[x == True]), axis=1)\n",
    "merged_df['labels_encoded'] = np.where(merged_df[list(dict_emociones.keys())] == 1, 1.0, 0.0).tolist()\n",
    "labeled_df = merged_df[['text', 'tweet_id', 'labels', 'labels_encoded']]\n",
    "labeled_df = labeled_df[labeled_df['labels'] != ''].reset_index(drop = True)\n",
    "labeled_df.to_csv('../Data/Data_Annotated/test_labeled_dataset.csv', index = False)"
   ]
  },
  {
   "cell_type": "code",
   "execution_count": 25,
   "id": "5e3c194e-f43c-43ed-a7ed-87906e4a8637",
   "metadata": {},
   "outputs": [
    {
     "data": {
      "text/html": [
       "<div>\n",
       "<style scoped>\n",
       "    .dataframe tbody tr th:only-of-type {\n",
       "        vertical-align: middle;\n",
       "    }\n",
       "\n",
       "    .dataframe tbody tr th {\n",
       "        vertical-align: top;\n",
       "    }\n",
       "\n",
       "    .dataframe thead th {\n",
       "        text-align: right;\n",
       "    }\n",
       "</style>\n",
       "<table border=\"1\" class=\"dataframe\">\n",
       "  <thead>\n",
       "    <tr style=\"text-align: right;\">\n",
       "      <th></th>\n",
       "      <th>text</th>\n",
       "      <th>tweet_id</th>\n",
       "      <th>labels</th>\n",
       "      <th>labels_encoded</th>\n",
       "    </tr>\n",
       "  </thead>\n",
       "  <tbody>\n",
       "    <tr>\n",
       "      <th>0</th>\n",
       "      <td>#NosUnimosONosJodemos #NosUnimosONosJodemos  Vamos juntos por el cambio, mire el miedo que le tienen.  @petrogustavo Mi presidente</td>\n",
       "      <td>1528216296147533824</td>\n",
       "      <td>alegria</td>\n",
       "      <td>[1.0, 0.0, 0.0, 0.0]</td>\n",
       "    </tr>\n",
       "    <tr>\n",
       "      <th>1</th>\n",
       "      <td>@tobonsanin Otra vez este viejo estúpido politiquero, estamos es llevados cuando creemos  viejo decrépito de estos va hacer la solución para Colombia, ayudando a escoger corruptos como #quintero en MEDELLIN #PetroElPatronDelMal #Federic...</td>\n",
       "      <td>1528425111078019072</td>\n",
       "      <td>asco-ira</td>\n",
       "      <td>[0.0, 0.0, 0.0, 1.0]</td>\n",
       "    </tr>\n",
       "    <tr>\n",
       "      <th>2</th>\n",
       "      <td>Sin importar encuestas como en el plebiscito juntos por Colombia el 29 nos vemos #FedericoImparable #NosUnimosONosJodemos #FedericoEsColombia</td>\n",
       "      <td>1528451337087762433</td>\n",
       "      <td>alegria</td>\n",
       "      <td>[1.0, 0.0, 0.0, 0.0]</td>\n",
       "    </tr>\n",
       "    <tr>\n",
       "      <th>3</th>\n",
       "      <td>Este es el Presidente que nos merecemos, recorrió el país entero, escuchó, expresó cariño y nos contagió la esperanza #FedericoEsColombia</td>\n",
       "      <td>1528336411451133955</td>\n",
       "      <td>alegria</td>\n",
       "      <td>[1.0, 0.0, 0.0, 0.0]</td>\n",
       "    </tr>\n",
       "    <tr>\n",
       "      <th>4</th>\n",
       "      <td>Por mi familia, por la democracia y las libertades. #FedericoEsColombia</td>\n",
       "      <td>1528335860470620160</td>\n",
       "      <td>alegria</td>\n",
       "      <td>[1.0, 0.0, 0.0, 0.0]</td>\n",
       "    </tr>\n",
       "    <tr>\n",
       "      <th>...</th>\n",
       "      <td>...</td>\n",
       "      <td>...</td>\n",
       "      <td>...</td>\n",
       "      <td>...</td>\n",
       "    </tr>\n",
       "    <tr>\n",
       "      <th>1071</th>\n",
       "      <td>#EsMuyImportante terminar esas condecoraciones chimbas que se hacen entre los congresistas, dejar de malgastar medallas de oro para gente mediocre, inútil, buenos para nada.</td>\n",
       "      <td>1539730888015085568</td>\n",
       "      <td>asco-ira</td>\n",
       "      <td>[0.0, 0.0, 0.0, 1.0]</td>\n",
       "    </tr>\n",
       "    <tr>\n",
       "      <th>1072</th>\n",
       "      <td>Nuestra Vice Francia Márquez lleva dos días peinando a todos los entrevistadores mala leche de los noticieros. #PetroBastaYa</td>\n",
       "      <td>1539448627122393089</td>\n",
       "      <td>alegria, asco-ira</td>\n",
       "      <td>[1.0, 0.0, 0.0, 1.0]</td>\n",
       "    </tr>\n",
       "    <tr>\n",
       "      <th>1073</th>\n",
       "      <td>Que tal si bloqueamos a los Uribistas???  Rodolfistas NO! Uribistas y antipetristas que ya uno se cansa de leer lo mismo XD   #PetroBastaYa</td>\n",
       "      <td>1539701798629416960</td>\n",
       "      <td>asco-ira</td>\n",
       "      <td>[0.0, 0.0, 0.0, 1.0]</td>\n",
       "    </tr>\n",
       "    <tr>\n",
       "      <th>1074</th>\n",
       "      <td>#LosImpuestosDePetro es la verdad que necesitamos para ubicar toda esa #GenteDeBien que saca sus capitales a paraísos fiscales. Urge hacer una reforma en la DIAN para perseguir evasores @gusgomez1701</td>\n",
       "      <td>1539553615182004231</td>\n",
       "      <td>asco-ira</td>\n",
       "      <td>[0.0, 0.0, 0.0, 1.0]</td>\n",
       "    </tr>\n",
       "    <tr>\n",
       "      <th>1075</th>\n",
       "      <td>#LosImpuestosDePetro  Colombia comienza a vivir sabroso.</td>\n",
       "      <td>1539553224071512064</td>\n",
       "      <td>alegria</td>\n",
       "      <td>[1.0, 0.0, 0.0, 0.0]</td>\n",
       "    </tr>\n",
       "  </tbody>\n",
       "</table>\n",
       "<p>1076 rows × 4 columns</p>\n",
       "</div>"
      ],
      "text/plain": [
       "                                                                                                                                                                                                                                                 text  \\\n",
       "0                                                                                                                  #NosUnimosONosJodemos #NosUnimosONosJodemos  Vamos juntos por el cambio, mire el miedo que le tienen.  @petrogustavo Mi presidente   \n",
       "1     @tobonsanin Otra vez este viejo estúpido politiquero, estamos es llevados cuando creemos  viejo decrépito de estos va hacer la solución para Colombia, ayudando a escoger corruptos como #quintero en MEDELLIN #PetroElPatronDelMal #Federic...   \n",
       "2                                                                                                       Sin importar encuestas como en el plebiscito juntos por Colombia el 29 nos vemos #FedericoImparable #NosUnimosONosJodemos #FedericoEsColombia   \n",
       "3                                                                                                           Este es el Presidente que nos merecemos, recorrió el país entero, escuchó, expresó cariño y nos contagió la esperanza #FedericoEsColombia   \n",
       "4                                                                                                                                                                             Por mi familia, por la democracia y las libertades. #FedericoEsColombia   \n",
       "...                                                                                                                                                                                                                                               ...   \n",
       "1071                                                                    #EsMuyImportante terminar esas condecoraciones chimbas que se hacen entre los congresistas, dejar de malgastar medallas de oro para gente mediocre, inútil, buenos para nada.   \n",
       "1072                                                                                                                     Nuestra Vice Francia Márquez lleva dos días peinando a todos los entrevistadores mala leche de los noticieros. #PetroBastaYa   \n",
       "1073                                                                                                      Que tal si bloqueamos a los Uribistas???  Rodolfistas NO! Uribistas y antipetristas que ya uno se cansa de leer lo mismo XD   #PetroBastaYa   \n",
       "1074                                          #LosImpuestosDePetro es la verdad que necesitamos para ubicar toda esa #GenteDeBien que saca sus capitales a paraísos fiscales. Urge hacer una reforma en la DIAN para perseguir evasores @gusgomez1701   \n",
       "1075                                                                                                                                                                                         #LosImpuestosDePetro  Colombia comienza a vivir sabroso.   \n",
       "\n",
       "                 tweet_id             labels        labels_encoded  \n",
       "0     1528216296147533824            alegria  [1.0, 0.0, 0.0, 0.0]  \n",
       "1     1528425111078019072           asco-ira  [0.0, 0.0, 0.0, 1.0]  \n",
       "2     1528451337087762433            alegria  [1.0, 0.0, 0.0, 0.0]  \n",
       "3     1528336411451133955            alegria  [1.0, 0.0, 0.0, 0.0]  \n",
       "4     1528335860470620160            alegria  [1.0, 0.0, 0.0, 0.0]  \n",
       "...                   ...                ...                   ...  \n",
       "1071  1539730888015085568           asco-ira  [0.0, 0.0, 0.0, 1.0]  \n",
       "1072  1539448627122393089  alegria, asco-ira  [1.0, 0.0, 0.0, 1.0]  \n",
       "1073  1539701798629416960           asco-ira  [0.0, 0.0, 0.0, 1.0]  \n",
       "1074  1539553615182004231           asco-ira  [0.0, 0.0, 0.0, 1.0]  \n",
       "1075  1539553224071512064            alegria  [1.0, 0.0, 0.0, 0.0]  \n",
       "\n",
       "[1076 rows x 4 columns]"
      ]
     },
     "execution_count": 25,
     "metadata": {},
     "output_type": "execute_result"
    }
   ],
   "source": [
    "labeled_df "
   ]
  },
  {
   "cell_type": "code",
   "execution_count": 26,
   "id": "37e8ec80-4047-47fa-b819-9f724e02aa39",
   "metadata": {},
   "outputs": [
    {
     "data": {
      "text/plain": [
       "{'alegria': 464, 'miedo': 98, 'tristeza': 103, 'asco-ira': 580}"
      ]
     },
     "execution_count": 26,
     "metadata": {},
     "output_type": "execute_result"
    }
   ],
   "source": [
    "emotions_count = {}\n",
    "for i in dict_emociones.keys():\n",
    "    emotions_count[i] =len(merged_df[merged_df[i] == True])\n",
    "emotions_count"
   ]
  },
  {
   "cell_type": "code",
   "execution_count": 39,
   "id": "b8e9678b-98fd-4914-8eb1-1fd3f9e64f83",
   "metadata": {},
   "outputs": [
    {
     "data": {
      "text/plain": [
       "{'alegria': 0.6867465382749224,\n",
       " 'miedo': 0.465564640154313,\n",
       " 'sorpresa': 0.2576893232735119,\n",
       " 'tristeza': 0.39735183795949025,\n",
       " 'asco': 0.573173968627103,\n",
       " 'ira': 0.1724007816598313,\n",
       " 'otra': -0.010109519797805012}"
      ]
     },
     "execution_count": 39,
     "metadata": {},
     "output_type": "execute_result"
    }
   ],
   "source": [
    "agreements = {}\n",
    "for i in dict_emociones.keys():\n",
    "    arr = np.array(merged_df[[i + '_juanjo',i + '_juanma', i + '_ger' ]])\n",
    "    agg = irr.aggregate_raters(arr)\n",
    "    agreements[i] = irr.fleiss_kappa(agg[0], method='fleiss')\n",
    "agreements"
   ]
  },
  {
   "cell_type": "code",
   "execution_count": 40,
   "id": "f71ebb54-8d90-419b-ae47-7eb0918d666b",
   "metadata": {},
   "outputs": [],
   "source": [
    "labeled_df = pd.read_csv('../Data/Data_Annotated/test_labeled_dataset.csv')\n",
    "labeled_df_hugging =  labeled_df[['text', 'labels_encoded']].rename(columns = {'labels_encoded' : 'labels'})\n",
    "labeled_df_hugging.to_csv('../Data/Data_Annotated/labeled_dataset_hugging.csv', index = False)"
   ]
  },
  {
   "cell_type": "code",
   "execution_count": 22,
   "id": "d4e7511f-ebb5-4cbc-9d21-cfce86653a4c",
   "metadata": {},
   "outputs": [
    {
     "data": {
      "text/html": [
       "<div>\n",
       "<style scoped>\n",
       "    .dataframe tbody tr th:only-of-type {\n",
       "        vertical-align: middle;\n",
       "    }\n",
       "\n",
       "    .dataframe tbody tr th {\n",
       "        vertical-align: top;\n",
       "    }\n",
       "\n",
       "    .dataframe thead th {\n",
       "        text-align: right;\n",
       "    }\n",
       "</style>\n",
       "<table border=\"1\" class=\"dataframe\">\n",
       "  <thead>\n",
       "    <tr style=\"text-align: right;\">\n",
       "      <th></th>\n",
       "      <th>text</th>\n",
       "      <th>tweet_id</th>\n",
       "      <th>labels</th>\n",
       "      <th>labels_encoded</th>\n",
       "    </tr>\n",
       "  </thead>\n",
       "  <tbody>\n",
       "    <tr>\n",
       "      <th>0</th>\n",
       "      <td>#NosUnimosONosJodemos #NosUnimosONosJodemos  Vamos juntos por el cambio, mire el miedo que le tienen.  @petrogustavo Mi presidente</td>\n",
       "      <td>1528216296147533824</td>\n",
       "      <td>alegria</td>\n",
       "      <td>[1.0, 0.0, 0.0, 0.0, 0.0, 0.0, 0.0]</td>\n",
       "    </tr>\n",
       "    <tr>\n",
       "      <th>1</th>\n",
       "      <td>@tobonsanin Otra vez este viejo estúpido politiquero, estamos es llevados cuando creemos  viejo decrépito de estos va hacer la solución para Colombia, ayudando a escoger corruptos como #quintero en MEDELLIN #PetroElPatronDelMal #Federic...</td>\n",
       "      <td>1528425111078019072</td>\n",
       "      <td>asco, ira</td>\n",
       "      <td>[0.0, 0.0, 0.0, 0.0, 1.0, 1.0, 0.0]</td>\n",
       "    </tr>\n",
       "    <tr>\n",
       "      <th>2</th>\n",
       "      <td>Sin importar encuestas como en el plebiscito juntos por Colombia el 29 nos vemos #FedericoImparable #NosUnimosONosJodemos #FedericoEsColombia</td>\n",
       "      <td>1528451337087762433</td>\n",
       "      <td>alegria</td>\n",
       "      <td>[1.0, 0.0, 0.0, 0.0, 0.0, 0.0, 0.0]</td>\n",
       "    </tr>\n",
       "    <tr>\n",
       "      <th>3</th>\n",
       "      <td>Este es el Presidente que nos merecemos, recorrió el país entero, escuchó, expresó cariño y nos contagió la esperanza #FedericoEsColombia</td>\n",
       "      <td>1528336411451133955</td>\n",
       "      <td>alegria</td>\n",
       "      <td>[1.0, 0.0, 0.0, 0.0, 0.0, 0.0, 0.0]</td>\n",
       "    </tr>\n",
       "    <tr>\n",
       "      <th>4</th>\n",
       "      <td>Por mi familia, por la democracia y las libertades. #FedericoEsColombia</td>\n",
       "      <td>1528335860470620160</td>\n",
       "      <td>alegria</td>\n",
       "      <td>[1.0, 0.0, 0.0, 0.0, 0.0, 0.0, 0.0]</td>\n",
       "    </tr>\n",
       "    <tr>\n",
       "      <th>...</th>\n",
       "      <td>...</td>\n",
       "      <td>...</td>\n",
       "      <td>...</td>\n",
       "      <td>...</td>\n",
       "    </tr>\n",
       "    <tr>\n",
       "      <th>415</th>\n",
       "      <td>Gustavo Petro y Francia Márquez hoy es el día , #ElCambioEnPrimera está victoria no la Para nadie .#PetroPresidenteEnPrimera . #cambialahistoria .</td>\n",
       "      <td>1530864273974513666</td>\n",
       "      <td>alegria</td>\n",
       "      <td>[1.0, 0.0, 0.0, 0.0, 0.0, 0.0, 0.0]</td>\n",
       "    </tr>\n",
       "    <tr>\n",
       "      <th>416</th>\n",
       "      <td>Ansioso por el cambio en primera es ahora! Por tus hijos, por los animales por el planeta y por vivir sabroso #PetroPresidenteEnPrimera</td>\n",
       "      <td>1530880576055562245</td>\n",
       "      <td>alegria</td>\n",
       "      <td>[1.0, 0.0, 0.0, 0.0, 0.0, 0.0, 0.0]</td>\n",
       "    </tr>\n",
       "    <tr>\n",
       "      <th>417</th>\n",
       "      <td>@10jhonatan19 @EsConFajardo No luchan por ganar sino más bien para que no gané #PetroPresidenteEnPrimera .,... Pero no van a poder, los que queremos un cambio real somos más</td>\n",
       "      <td>1530895917607436288</td>\n",
       "      <td>alegria, asco</td>\n",
       "      <td>[1.0, 0.0, 0.0, 0.0, 1.0, 0.0, 0.0]</td>\n",
       "    </tr>\n",
       "    <tr>\n",
       "      <th>418</th>\n",
       "      <td>Vamos por el cambio en primera,votemos por un mejor pais #PetroPresidenteEnPrimera</td>\n",
       "      <td>1530895362671710209</td>\n",
       "      <td>alegria</td>\n",
       "      <td>[1.0, 0.0, 0.0, 0.0, 0.0, 0.0, 0.0]</td>\n",
       "    </tr>\n",
       "    <tr>\n",
       "      <th>419</th>\n",
       "      <td>@FernanMartinez Ya perdiste Fernan. Tiene 4 años para hacer oposición, disfrútalos. #PetroPresidenteEnPrimera</td>\n",
       "      <td>1530894671974653952</td>\n",
       "      <td>alegria</td>\n",
       "      <td>[1.0, 0.0, 0.0, 0.0, 0.0, 0.0, 0.0]</td>\n",
       "    </tr>\n",
       "  </tbody>\n",
       "</table>\n",
       "<p>420 rows × 4 columns</p>\n",
       "</div>"
      ],
      "text/plain": [
       "                                                                                                                                                                                                                                                text  \\\n",
       "0                                                                                                                 #NosUnimosONosJodemos #NosUnimosONosJodemos  Vamos juntos por el cambio, mire el miedo que le tienen.  @petrogustavo Mi presidente   \n",
       "1    @tobonsanin Otra vez este viejo estúpido politiquero, estamos es llevados cuando creemos  viejo decrépito de estos va hacer la solución para Colombia, ayudando a escoger corruptos como #quintero en MEDELLIN #PetroElPatronDelMal #Federic...   \n",
       "2                                                                                                      Sin importar encuestas como en el plebiscito juntos por Colombia el 29 nos vemos #FedericoImparable #NosUnimosONosJodemos #FedericoEsColombia   \n",
       "3                                                                                                          Este es el Presidente que nos merecemos, recorrió el país entero, escuchó, expresó cariño y nos contagió la esperanza #FedericoEsColombia   \n",
       "4                                                                                                                                                                            Por mi familia, por la democracia y las libertades. #FedericoEsColombia   \n",
       "..                                                                                                                                                                                                                                               ...   \n",
       "415                                                                                               Gustavo Petro y Francia Márquez hoy es el día , #ElCambioEnPrimera está victoria no la Para nadie .#PetroPresidenteEnPrimera . #cambialahistoria .   \n",
       "416                                                                                                          Ansioso por el cambio en primera es ahora! Por tus hijos, por los animales por el planeta y por vivir sabroso #PetroPresidenteEnPrimera   \n",
       "417                                                                    @10jhonatan19 @EsConFajardo No luchan por ganar sino más bien para que no gané #PetroPresidenteEnPrimera .,... Pero no van a poder, los que queremos un cambio real somos más   \n",
       "418                                                                                                                                                               Vamos por el cambio en primera,votemos por un mejor pais #PetroPresidenteEnPrimera   \n",
       "419                                                                                                                                    @FernanMartinez Ya perdiste Fernan. Tiene 4 años para hacer oposición, disfrútalos. #PetroPresidenteEnPrimera   \n",
       "\n",
       "                tweet_id         labels                       labels_encoded  \n",
       "0    1528216296147533824        alegria  [1.0, 0.0, 0.0, 0.0, 0.0, 0.0, 0.0]  \n",
       "1    1528425111078019072      asco, ira  [0.0, 0.0, 0.0, 0.0, 1.0, 1.0, 0.0]  \n",
       "2    1528451337087762433        alegria  [1.0, 0.0, 0.0, 0.0, 0.0, 0.0, 0.0]  \n",
       "3    1528336411451133955        alegria  [1.0, 0.0, 0.0, 0.0, 0.0, 0.0, 0.0]  \n",
       "4    1528335860470620160        alegria  [1.0, 0.0, 0.0, 0.0, 0.0, 0.0, 0.0]  \n",
       "..                   ...            ...                                  ...  \n",
       "415  1530864273974513666        alegria  [1.0, 0.0, 0.0, 0.0, 0.0, 0.0, 0.0]  \n",
       "416  1530880576055562245        alegria  [1.0, 0.0, 0.0, 0.0, 0.0, 0.0, 0.0]  \n",
       "417  1530895917607436288  alegria, asco  [1.0, 0.0, 0.0, 0.0, 1.0, 0.0, 0.0]  \n",
       "418  1530895362671710209        alegria  [1.0, 0.0, 0.0, 0.0, 0.0, 0.0, 0.0]  \n",
       "419  1530894671974653952        alegria  [1.0, 0.0, 0.0, 0.0, 0.0, 0.0, 0.0]  \n",
       "\n",
       "[420 rows x 4 columns]"
      ]
     },
     "execution_count": 22,
     "metadata": {},
     "output_type": "execute_result"
    }
   ],
   "source": [
    "labeled_df = pd.read_csv('../Data/Data_Annotated/test_labeled_dataset.csv')\n",
    "labeled_df"
   ]
  },
  {
   "cell_type": "code",
   "execution_count": 32,
   "id": "802d8050-b4bc-49bc-9f41-c59557070c4d",
   "metadata": {},
   "outputs": [
    {
     "data": {
      "text/plain": [
       "[1.0, 0.0, 0.0, 0.0, 0.0, 0.0, 0.0]"
      ]
     },
     "execution_count": 32,
     "metadata": {},
     "output_type": "execute_result"
    }
   ],
   "source": [
    "literal_eval(labeled_df['labels_encoded'][0])"
   ]
  },
  {
   "cell_type": "code",
   "execution_count": 18,
   "id": "7d91af3a-f709-4e2c-a278-8be34c308df4",
   "metadata": {},
   "outputs": [
    {
     "data": {
      "text/plain": [
       "[1.0, 0.0, 0.0, 0.0, 0.0, 0.0, 0.0]"
      ]
     },
     "execution_count": 18,
     "metadata": {},
     "output_type": "execute_result"
    }
   ],
   "source": [
    "merged_df['labels_encoded'][0]"
   ]
  },
  {
   "cell_type": "code",
   "execution_count": null,
   "id": "03adffe8-a944-484c-9405-dc46481a34dd",
   "metadata": {},
   "outputs": [],
   "source": []
  }
 ],
 "metadata": {
  "kernelspec": {
   "display_name": "Python 3 (ipykernel)",
   "language": "python",
   "name": "python3"
  },
  "language_info": {
   "codemirror_mode": {
    "name": "ipython",
    "version": 3
   },
   "file_extension": ".py",
   "mimetype": "text/x-python",
   "name": "python",
   "nbconvert_exporter": "python",
   "pygments_lexer": "ipython3",
   "version": "3.9.7"
  }
 },
 "nbformat": 4,
 "nbformat_minor": 5
}
