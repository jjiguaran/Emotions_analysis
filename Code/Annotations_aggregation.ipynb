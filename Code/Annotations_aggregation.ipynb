{
 "cells": [
  {
   "cell_type": "code",
   "execution_count": 1,
   "id": "04687ff6-c30b-45f6-8057-3adbd3e202bf",
   "metadata": {},
   "outputs": [],
   "source": [
    "import pandas as pd\n",
    "pd.options.mode.chained_assignment = None\n",
    "from sklearn import preprocessing\n",
    "import numpy as np\n",
    "from statsmodels.stats import inter_rater as irr\n",
    "pd.options.display.max_colwidth = 240\n",
    "from sklearn.preprocessing import OneHotEncoder"
   ]
  },
  {
   "cell_type": "code",
   "execution_count": 2,
   "id": "667d7ec7-96a6-429a-963e-663593961500",
   "metadata": {},
   "outputs": [],
   "source": [
    "juanjo = pd.read_csv('../Data/Data_Annotated/latest_juanjo_annotations.csv', sep = '\\t')\n",
    "juanma = pd.read_csv('../Data/Data_Annotated/latest_juanma_annotations.csv', sep = '\\t')\n",
    "ger = pd.read_csv('../Data/Data_Annotated/latest_ger_annotations.csv', sep = '\\t')"
   ]
  },
  {
   "cell_type": "code",
   "execution_count": 3,
   "id": "48f60347-b832-479a-8d68-ce44146ead6b",
   "metadata": {},
   "outputs": [],
   "source": [
    "juanjo = juanjo.rename(columns = {'sentimento':'sentiment_juanjo', 'relevancia': 'relevancia_juanjo', 'emocion': 'emocion_juanjo', 'ironia': 'ironia_juanjo'})\n",
    "juanma = juanma.rename(columns = {'sentimento':'sentiment_juanma', 'relevancia': 'relevancia_juanma', 'emocion': 'emocion_juanma', 'ironia': 'ironia_juanma'})\n",
    "ger = ger.rename(columns = {'sentimento':'sentiment_ger', 'relevancia': 'relevancia_ger', 'emocion': 'emocion_ger', 'ironia': 'ironia_ger'})"
   ]
  },
  {
   "cell_type": "code",
   "execution_count": 4,
   "id": "c890b074-c201-4695-9f3b-b148fc204f38",
   "metadata": {},
   "outputs": [],
   "source": [
    "merged_df = pd.merge(pd.merge(juanjo[['text', 'tweet_id', 'sentiment_juanjo']],\n",
    "                     juanma[['tweet_id', 'sentiment_juanma']], on=['tweet_id']),\n",
    "                    ger[['tweet_id', 'sentiment_ger']], on=['tweet_id'])"
   ]
  },
  {
   "cell_type": "code",
   "execution_count": 5,
   "id": "a44e69a5-9a20-45c3-ad0f-37d3ea5e3a97",
   "metadata": {},
   "outputs": [],
   "source": [
    "dict_emociones = {\n",
    "    'alegria' : ['Alegria', 'Confianza', 'Admiración','Agrado'],\n",
    "    'miedo' : ['Miedo', 'Incertidumbre'],\n",
    "    'sorpresa' : ['Sorpresa', 'Asombro'],\n",
    "    'tristeza' : ['Tristeza' , 'Decepción'],\n",
    "    'asco' : ['Asco', 'Desagrado'],\n",
    "    'ira' : ['Ira', 'Odio'],\n",
    "    'otra' : ['Otra'] }"
   ]
  },
  {
   "cell_type": "code",
   "execution_count": 6,
   "id": "2bc61df7-37a1-489d-b8a5-af2f6fe4fe43",
   "metadata": {},
   "outputs": [],
   "source": [
    "for i  in dict_emociones.keys():\n",
    "    merged_df[i + '_juanma'] = merged_df['sentiment_juanma'].str.contains('|'.join(dict_emociones[i]))\n",
    "    merged_df[i + '_juanjo'] = merged_df['sentiment_juanjo'].str.contains('|'.join(dict_emociones[i]))\n",
    "    merged_df[i + '_ger'] = merged_df['sentiment_ger'].str.contains('|'.join(dict_emociones[i]))"
   ]
  },
  {
   "cell_type": "code",
   "execution_count": 71,
   "id": "a66dbc25-dc76-489e-bde6-4392f56d5c81",
   "metadata": {},
   "outputs": [],
   "source": [
    "merged_df = merged_df.fillna(False)\n",
    "merged_df['labels_author'] = merged_df.apply(lambda x: ', '.join(x.index[x == True]), axis=1)"
   ]
  },
  {
   "cell_type": "code",
   "execution_count": 88,
   "id": "a27269a2-d96c-4496-8179-82f19d585716",
   "metadata": {},
   "outputs": [],
   "source": [
    "for emotion in dict_emociones.keys():\n",
    "    merged_df[emotion] =  merged_df[[emotion + '_juanjo',  emotion + '_ger',  emotion + '_juanma']].sum(axis=1)\n",
    "    merged_df[emotion] = np.where(merged_df[emotion]>= 2, True, False)\n",
    "merged_df['labels'] = merged_df[list(dict_emociones.keys())].apply(lambda x: ', '.join(x.index[x == True]), axis=1)\n",
    "merged_df['labels_encoded'] = np.where(merged_df[list(dict_emociones.keys())] == 1, 1, 0).tolist()\n",
    "labeled_df = merged_df[['text', 'tweet_id', 'labels', 'labels_encoded']]\n",
    "labeled_df = labeled_df[labeled_df['labels'] != ''].reset_index(drop = True)\n",
    "labeled_df.to_csv('../Data/Data_Annotated/test_labeled_dataset.csv', index = False)"
   ]
  },
  {
   "cell_type": "code",
   "execution_count": 6,
   "id": "f71ebb54-8d90-419b-ae47-7eb0918d666b",
   "metadata": {},
   "outputs": [],
   "source": [
    "labeled_df = pd.read_csv('../Data/Data_Annotated/test_labeled_dataset.csv')\n",
    "labeled_df_hugging =  labeled_df[['text', 'labels_encoded']].rename(columns = {'labels_encoded' : 'label'})\n",
    "labeled_df_hugging.to_csv('../Data/Data_Annotated/test_labeled_dataset_hugging.csv', index = False)"
   ]
  },
  {
   "cell_type": "code",
   "execution_count": null,
   "id": "d4e7511f-ebb5-4cbc-9d21-cfce86653a4c",
   "metadata": {},
   "outputs": [],
   "source": []
  }
 ],
 "metadata": {
  "kernelspec": {
   "display_name": "Python 3 (ipykernel)",
   "language": "python",
   "name": "python3"
  },
  "language_info": {
   "codemirror_mode": {
    "name": "ipython",
    "version": 3
   },
   "file_extension": ".py",
   "mimetype": "text/x-python",
   "name": "python",
   "nbconvert_exporter": "python",
   "pygments_lexer": "ipython3",
   "version": "3.9.7"
  }
 },
 "nbformat": 4,
 "nbformat_minor": 5
}
