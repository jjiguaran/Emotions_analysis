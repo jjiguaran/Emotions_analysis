{
 "cells": [
  {
   "cell_type": "code",
   "execution_count": 3,
   "id": "3d30a86a-15cf-4415-80d7-7ff88f980c64",
   "metadata": {},
   "outputs": [],
   "source": [
    "from datasets import list_datasets, load_dataset\n",
    "from pprint import pprint\n",
    "import pandas as pd\n",
    "import numpy as np\n",
    "from sklearn.model_selection import train_test_split"
   ]
  },
  {
   "cell_type": "code",
   "execution_count": 1,
   "id": "dad5f38a-00e9-42b0-9708-a5ecf3699f9e",
   "metadata": {},
   "outputs": [],
   "source": [
    "def preprocess(text):\n",
    "    new_text = []\n",
    "    for t in text.split(\" \"):\n",
    "        t = '@user' if t.startswith('@') and len(t) > 1 else t\n",
    "        t = 'http' if t.startswith('http') else t\n",
    "        new_text.append(t)\n",
    "    return \" \".join(new_text)"
   ]
  },
  {
   "cell_type": "code",
   "execution_count": 2,
   "id": "538b3a6d-13b5-4d6e-a8be-0a5b76b069c5",
   "metadata": {},
   "outputs": [
    {
     "name": "stderr",
     "output_type": "stream",
     "text": [
      "No config specified, defaulting to: emo_event/es\n",
      "Found cached dataset emo_event (/home/juanjo/.cache/huggingface/datasets/fmplaza___emo_event/es/1.1.0/05d5c93b8773e3d90b52effb7132b04cd8b2ccea8d4a0750989ec3aaeb59cad4)\n"
     ]
    },
    {
     "data": {
      "application/vnd.jupyter.widget-view+json": {
       "model_id": "6bea29f0471942e48993b2b435fb067c",
       "version_major": 2,
       "version_minor": 0
      },
      "text/plain": [
       "  0%|          | 0/3 [00:00<?, ?it/s]"
      ]
     },
     "metadata": {},
     "output_type": "display_data"
    }
   ],
   "source": [
    "emoevent_raw = load_dataset('fmplaza/EmoEvent', use_auth_token=True)"
   ]
  },
  {
   "cell_type": "code",
   "execution_count": 22,
   "id": "6b3a34ed-c9cf-4c56-bc74-00a15c3f37d5",
   "metadata": {},
   "outputs": [],
   "source": [
    "map_dict = {0:\"ira\", 1:\"miedo\", 2:\"tristeza\", 3:\"alegria\", 4:\"asco\", 5:\"sorpresa\", 6:\"otra\"}\n",
    "map_dict_inverse = {v: k for k, v in map_dict.items()}"
   ]
  },
  {
   "cell_type": "code",
   "execution_count": 138,
   "id": "e334a4ad-e630-4bca-9b4c-86d4a1462ff0",
   "metadata": {},
   "outputs": [],
   "source": [
    "emoevent_df_train = pd.DataFrame(emoevent_raw['train'])\n",
    "emoevent_df_test = pd.DataFrame(emoevent_raw['test'])\n",
    "emoevent_df_val = pd.DataFrame(emoevent_raw['validation'])\n",
    "new_df = pd.concat([emoevent_df_train, emoevent_df_test, emoevent_df_val])\n",
    "new_df = new_df[new_df['tweet'] != '']\n",
    "new_df[\"emocion\"] = new_df[\"label\"].map(map_dict)\n",
    "new_df = new_df[['tweet','emocion']]\n",
    "new_df.to_csv('../Data/Emoevent/emoevent.csv', index=False)  "
   ]
  },
  {
   "cell_type": "code",
   "execution_count": 3,
   "id": "1c92ca62-0289-4f5f-a511-638ee15ddbdc",
   "metadata": {},
   "outputs": [],
   "source": [
    "new_df = pd.read_csv('../Data/Emoevent/emoevent.csv')"
   ]
  },
  {
   "cell_type": "code",
   "execution_count": 23,
   "id": "f0d3984a-064b-428e-a545-471df37c169e",
   "metadata": {},
   "outputs": [],
   "source": [
    "emoevent_df = pd.read_csv('../Data/Emoevent/emoevent.csv')\n",
    "emoevent_df = emoevent_df.rename(columns={\"tweet\": \"text\"})\n",
    "emoevent_df['label'] = emoevent_df[\"emocion\"].map(map_dict_inverse)\n",
    "emoevent_df = emoevent_df[['text', 'label']]\n",
    "emoevent_df.to_csv('../Data/Huggingface/emoevent_hugging.csv', index=False)"
   ]
  },
  {
   "cell_type": "code",
   "execution_count": 24,
   "id": "6cddfb3b-ec3f-45c6-891c-1bae551a15b7",
   "metadata": {},
   "outputs": [],
   "source": [
    "emoevent_df = pd.read_csv('../Data/Huggingface/emoevent_hugging.csv')"
   ]
  },
  {
   "cell_type": "code",
   "execution_count": 25,
   "id": "16ca8c0f-402f-44ec-a1ab-bdf3849c3ac1",
   "metadata": {},
   "outputs": [],
   "source": [
    "train, test = train_test_split(emoevent_df, test_size=0.2, random_state=42)\n",
    "train.to_csv('../Data/Huggingface/emoevent_hugging_train.csv', index=False) \n",
    "test.to_csv('../Data/Huggingface/emoevent_hugging_test.csv', index=False)  "
   ]
  },
  {
   "cell_type": "code",
   "execution_count": 6,
   "id": "3d8e89ee-b093-45a9-aec2-071c12b4a6bf",
   "metadata": {},
   "outputs": [
    {
     "data": {
      "text/plain": [
       "{'ira': 840,\n",
       " 'miedo': 95,\n",
       " 'tristeza': 992,\n",
       " 'alegria': 1756,\n",
       " 'asco': 160,\n",
       " 'sorpresa': 340,\n",
       " 'otra': 4010}"
      ]
     },
     "execution_count": 6,
     "metadata": {},
     "output_type": "execute_result"
    }
   ],
   "source": [
    "emocions_size = {}\n",
    "for i in map_dict.values():\n",
    "    emocions_size[i] = len(new_df[new_df['emocion'] == i])\n",
    "emocions_size"
   ]
  },
  {
   "cell_type": "code",
   "execution_count": 45,
   "id": "d7288c67-a240-46b0-af13-75c49c4f9c65",
   "metadata": {},
   "outputs": [
    {
     "name": "stderr",
     "output_type": "stream",
     "text": [
      "Found cached dataset sem_eval_2018_task_1 (/home/juanjo/.cache/huggingface/datasets/sem_eval_2018_task_1/subtask5.spanish/1.1.0/a7c0de8b805f1988b118882fb289ccfbbeb9085c7820b6f046b5887e234af182)\n"
     ]
    },
    {
     "data": {
      "application/vnd.jupyter.widget-view+json": {
       "model_id": "5c4eb85ec35f4a7ca192274f6f79de97",
       "version_major": 2,
       "version_minor": 0
      },
      "text/plain": [
       "  0%|          | 0/3 [00:00<?, ?it/s]"
      ]
     },
     "metadata": {},
     "output_type": "display_data"
    }
   ],
   "source": [
    "semval_raw = load_dataset('sem_eval_2018_task_1', 'subtask5.spanish')"
   ]
  },
  {
   "cell_type": "code",
   "execution_count": 10,
   "id": "8436e64f-869f-46e8-9f01-5ea9346b17bd",
   "metadata": {},
   "outputs": [],
   "source": [
    "map_dict_semval = {'anger':\"ira\", 'fear':\"miedo\", 'sadness':\"tristeza\", 'joy':\"alegria\", 'disgust':\"asco\", 'surprise':\"sorpresa\", 'other':\"otra\"}"
   ]
  },
  {
   "cell_type": "code",
   "execution_count": 121,
   "id": "06616fab-ba48-4f48-9f8e-30a6d25d17c6",
   "metadata": {},
   "outputs": [],
   "source": [
    "semval_df_train = pd.DataFrame(semval_raw['train'])\n",
    "semval_df_test = pd.DataFrame(semval_raw['test'])\n",
    "semval_df_val = pd.DataFrame(semval_raw['validation'])\n",
    "semval_new_df = pd.concat([semval_df_train, semval_df_test, semval_df_val])\n",
    "#semval_new_df = semval_new_df[new_df['tweet'] != '']\n",
    "#new_df[\"emocion\"] = new_df[\"label\"].map(map_dict)"
   ]
  },
  {
   "cell_type": "code",
   "execution_count": 122,
   "id": "cd4822e1-af0e-4c9e-ace5-2ae87c826272",
   "metadata": {},
   "outputs": [],
   "source": [
    "l = list(semval_new_df.columns)\n",
    "l2 = ['anticipation', 'optimism', 'pessimism', 'trust', 'love']\n",
    "l3 = [i for i in l if i not in l2]"
   ]
  },
  {
   "cell_type": "code",
   "execution_count": 124,
   "id": "4f4d3a80-5e81-4e46-9a6d-59e9dc3764e2",
   "metadata": {
    "collapsed": true,
    "jupyter": {
     "outputs_hidden": true
    },
    "tags": []
   },
   "outputs": [
    {
     "name": "stderr",
     "output_type": "stream",
     "text": [
      "/tmp/ipykernel_13734/1128644199.py:2: SettingWithCopyWarning: \n",
      "A value is trying to be set on a copy of a slice from a DataFrame.\n",
      "Try using .loc[row_indexer,col_indexer] = value instead\n",
      "\n",
      "See the caveats in the documentation: https://pandas.pydata.org/pandas-docs/stable/user_guide/indexing.html#returning-a-view-versus-a-copy\n",
      "  semval_new_df_filt['emotiom_raw'] = semval_new_df_filt.iloc[:, 2:].dot(semval_new_df_filt.add_suffix(\"~~\").columns[2:]).str[:-2]\n",
      "/tmp/ipykernel_13734/1128644199.py:3: SettingWithCopyWarning: \n",
      "A value is trying to be set on a copy of a slice from a DataFrame\n",
      "\n",
      "See the caveats in the documentation: https://pandas.pydata.org/pandas-docs/stable/user_guide/indexing.html#returning-a-view-versus-a-copy\n",
      "  semval_new_df_filt['emotiom_raw'][semval_new_df_filt['emotiom_raw'] == ''] = 'other'\n",
      "/home/juanjo/anaconda3/lib/python3.9/site-packages/pandas/core/generic.py:8870: SettingWithCopyWarning: \n",
      "A value is trying to be set on a copy of a slice from a DataFrame\n",
      "\n",
      "See the caveats in the documentation: https://pandas.pydata.org/pandas-docs/stable/user_guide/indexing.html#returning-a-view-versus-a-copy\n",
      "  return self._update_inplace(result)\n"
     ]
    }
   ],
   "source": [
    "semval_new_df_filt = semval_new_df[l3]\n",
    "semval_new_df_filt['emotiom_raw'] = semval_new_df_filt.iloc[:, 2:].dot(semval_new_df_filt.add_suffix(\"~~\").columns[2:]).str[:-2]\n",
    "semval_new_df_filt['emotiom_raw'][semval_new_df_filt['emotiom_raw'] == ''] = 'other'\n",
    "semval_clean = semval_new_df_filt[~semval_new_df_filt['emotiom_raw'].str.contains('~')]"
   ]
  },
  {
   "cell_type": "code",
   "execution_count": 126,
   "id": "2cca442c-5bdf-4045-af0b-f116375b1b4e",
   "metadata": {},
   "outputs": [
    {
     "name": "stderr",
     "output_type": "stream",
     "text": [
      "/tmp/ipykernel_13734/755590043.py:2: SettingWithCopyWarning: \n",
      "A value is trying to be set on a copy of a slice from a DataFrame.\n",
      "Try using .loc[row_indexer,col_indexer] = value instead\n",
      "\n",
      "See the caveats in the documentation: https://pandas.pydata.org/pandas-docs/stable/user_guide/indexing.html#returning-a-view-versus-a-copy\n",
      "  semval_clean[\"emocion\"] = semval_clean[\"emotiom_raw\"].map(map_dict_semval)\n"
     ]
    }
   ],
   "source": [
    "semval_clean[\"emocion\"] = semval_clean[\"emotiom_raw\"].map(map_dict_semval)\n",
    "semval_clean = semval_clean.rename(columns={\"Tweet\": \"tweet\"})\n",
    "semval_clean = semval_clean[['tweet','emocion']]\n",
    "semval_clean.to_csv('../Data/Semval/semval.csv', index=False) "
   ]
  },
  {
   "cell_type": "code",
   "execution_count": 24,
   "id": "a80b6659-95b6-4876-ae70-b8408b5c7007",
   "metadata": {},
   "outputs": [],
   "source": [
    "semval_clean['label'] = semval_clean[\"emocion\"].map(map_dict_inverse)\n",
    "semval_clean = semval_clean.rename(columns={\"tweet\": \"text\"})\n",
    "semval_clean.to_csv('../Data/Semval/semval.csv', index=False) "
   ]
  },
  {
   "cell_type": "code",
   "execution_count": 18,
   "id": "4744262a-24c0-4def-8de4-666dc5f1b508",
   "metadata": {},
   "outputs": [],
   "source": [
    "semval_clean = pd.read_csv('../Data/Semval/semval.csv')"
   ]
  },
  {
   "cell_type": "code",
   "execution_count": 20,
   "id": "886c804f-4f7a-47b7-9f34-82af5d4d2683",
   "metadata": {},
   "outputs": [],
   "source": [
    "train_semval, test_semval = train_test_split(semval_clean[['text', 'label']], test_size=0.2, random_state=42)\n",
    "train_semval.to_csv('../Data/Huggingface/semval_hugging_train.csv', index=False) \n",
    "test_semval.to_csv('../Data/Huggingface/semval_hugging_test.csv', index=False)  "
   ]
  },
  {
   "cell_type": "code",
   "execution_count": 11,
   "id": "5fbd1715-6938-4ceb-a21e-4e07aafb5854",
   "metadata": {},
   "outputs": [
    {
     "data": {
      "text/plain": [
       "{'ira': 914,\n",
       " 'miedo': 396,\n",
       " 'tristeza': 849,\n",
       " 'alegria': 1741,\n",
       " 'asco': 168,\n",
       " 'sorpresa': 138,\n",
       " 'otra': 1016}"
      ]
     },
     "execution_count": 11,
     "metadata": {},
     "output_type": "execute_result"
    }
   ],
   "source": [
    "emocions_size_semval = {}\n",
    "for i in map_dict_semval.values():\n",
    "    emocions_size_semval[i] = len(semval_clean[semval_clean['emocion'] == i])\n",
    "emocions_size_semval"
   ]
  },
  {
   "cell_type": "code",
   "execution_count": 16,
   "id": "4e9e18a2-84a1-400e-ae04-e19afe271d9b",
   "metadata": {},
   "outputs": [],
   "source": [
    "sidorov = pd.read_csv('../Data/Sidorov/corpus_marcado6emociones_extracted.csv')"
   ]
  },
  {
   "cell_type": "code",
   "execution_count": 38,
   "id": "d2522324-28be-4afe-a23d-5d91dc5fc852",
   "metadata": {},
   "outputs": [],
   "source": [
    "sidorov['emocion'] = sidorov['emocion'].str.lower()\n",
    "sidorov = sidorov.rename(columns={\"text\": \"tweet\"})\n",
    "sidorov.to_csv('../Data/Sidorov/sidorov.csv', index=False) "
   ]
  },
  {
   "cell_type": "code",
   "execution_count": 40,
   "id": "2358e33b-f53b-4ffa-a4da-5e1fdf412e02",
   "metadata": {},
   "outputs": [
    {
     "data": {
      "text/plain": [
       "{'ira': 1830,\n",
       " 'miedo': 1873,\n",
       " 'tristeza': 282,\n",
       " 'alegria': 1952,\n",
       " 'asco': 1862,\n",
       " 'sorpresa': 1976,\n",
       " 'otra': 0}"
      ]
     },
     "execution_count": 40,
     "metadata": {},
     "output_type": "execute_result"
    }
   ],
   "source": [
    "emocions_size_sidorov = {}\n",
    "for i in map_dict_semval.values():\n",
    "    emocions_size_sidorov[i] = len(sidorov[sidorov['emocion'] == i])\n",
    "emocions_size_sidorov"
   ]
  },
  {
   "cell_type": "code",
   "execution_count": 45,
   "id": "3d778c8c-b05f-4e99-a86b-d0e6ce9c517d",
   "metadata": {},
   "outputs": [],
   "source": [
    "dataset_counts = pd.DataFrame([emocions_size,emocions_size_semval, emocions_size_sidorov], index = ['EmoEvent','SemEval','Sidorov'])"
   ]
  },
  {
   "cell_type": "code",
   "execution_count": 48,
   "id": "7de24284-56ca-48db-a6ca-e3366ebdd806",
   "metadata": {},
   "outputs": [
    {
     "name": "stdout",
     "output_type": "stream",
     "text": [
      "\\begin{tabular}{lrrrrrrr}\n",
      "\\toprule\n",
      "{} &   ira &  miedo &  tristeza &  alegria &  asco &  sorpresa &  otra \\\\\n",
      "\\midrule\n",
      "EmoEvent &   840 &     95 &       992 &     1756 &   160 &       340 &  4010 \\\\\n",
      "SemEval  &   914 &    396 &       849 &     1741 &   168 &       138 &  1016 \\\\\n",
      "Sidorov  &  1830 &   1873 &       282 &     1952 &  1862 &      1976 &     0 \\\\\n",
      "\\bottomrule\n",
      "\\end{tabular}\n",
      "\n"
     ]
    }
   ],
   "source": [
    "dataset_counts.to_latex()"
   ]
  },
  {
   "cell_type": "code",
   "execution_count": 27,
   "id": "d58242b0-9eb1-423b-aa0e-f9307a53f8b9",
   "metadata": {},
   "outputs": [],
   "source": [
    "emoevent_hugging_train = pd.read_csv('../Data/Huggingface/emoevent_hugging_train.csv')\n",
    "semval_hugging_train = pd.read_csv('../Data/Huggingface/semval_hugging_train.csv')\n",
    "semval_emoevent_hugging_train = pd.concat([emoevent_hugging_train, semval_hugging_train])\n",
    "semval_emoevent_hugging_train .to_csv('../Data/Huggingface/semval_emoevent_hugging_train.csv', index=False) \n",
    "emoevent_hugging_test = pd.read_csv('../Data/Huggingface/emoevent_hugging_test.csv')\n",
    "semval_hugging_test = pd.read_csv('../Data/Huggingface/semval_hugging_test.csv')\n",
    "semval_emoevent_hugging_test = pd.concat([emoevent_hugging_train, semval_hugging_test])\n",
    "semval_emoevent_hugging_test .to_csv('../Data/Huggingface/semval_emoevent_hugging_test.csv', index=False) "
   ]
  },
  {
   "cell_type": "code",
   "execution_count": 13,
   "id": "1c892907-9057-4fd2-bdaa-3f1d1b9dbfac",
   "metadata": {},
   "outputs": [],
   "source": [
    "semval_emoevent_hugging_train = pd.concat([emoevent_hugging_train, semval_hugging_train])"
   ]
  },
  {
   "cell_type": "code",
   "execution_count": 17,
   "id": "2ac57e5d-25bc-4eae-a95a-614d59225512",
   "metadata": {},
   "outputs": [
    {
     "data": {
      "text/html": [
       "<div>\n",
       "<style scoped>\n",
       "    .dataframe tbody tr th:only-of-type {\n",
       "        vertical-align: middle;\n",
       "    }\n",
       "\n",
       "    .dataframe tbody tr th {\n",
       "        vertical-align: top;\n",
       "    }\n",
       "\n",
       "    .dataframe thead th {\n",
       "        text-align: right;\n",
       "    }\n",
       "</style>\n",
       "<table border=\"1\" class=\"dataframe\">\n",
       "  <thead>\n",
       "    <tr style=\"text-align: right;\">\n",
       "      <th></th>\n",
       "      <th>text</th>\n",
       "      <th>label</th>\n",
       "    </tr>\n",
       "  </thead>\n",
       "  <tbody>\n",
       "    <tr>\n",
       "      <th>0</th>\n",
       "      <td>Ante estos resultados, expectativa de avances ...</td>\n",
       "      <td>3</td>\n",
       "    </tr>\n",
       "    <tr>\n",
       "      <th>1</th>\n",
       "      <td>Pobre #Venezuela, tan lejos de Dios y tan cerc...</td>\n",
       "      <td>2</td>\n",
       "    </tr>\n",
       "    <tr>\n",
       "      <th>2</th>\n",
       "      <td>¿ARENGAS DE UN GOLPISTA?: Disturbios en Caraca...</td>\n",
       "      <td>6</td>\n",
       "    </tr>\n",
       "    <tr>\n",
       "      <th>3</th>\n",
       "      <td>La negociación y el diálogo será la clave para...</td>\n",
       "      <td>6</td>\n",
       "    </tr>\n",
       "    <tr>\n",
       "      <th>4</th>\n",
       "      <td>Cersei se encuentra buscando lentillas de colo...</td>\n",
       "      <td>6</td>\n",
       "    </tr>\n",
       "    <tr>\n",
       "      <th>...</th>\n",
       "      <td>...</td>\n",
       "      <td>...</td>\n",
       "    </tr>\n",
       "    <tr>\n",
       "      <th>1040</th>\n",
       "      <td>@user  no se puede jugar desde él sabado ..</td>\n",
       "      <td>2</td>\n",
       "    </tr>\n",
       "    <tr>\n",
       "      <th>1041</th>\n",
       "      <td>¿Por qué gran mierda borras los tuits, @user C...</td>\n",
       "      <td>0</td>\n",
       "    </tr>\n",
       "    <tr>\n",
       "      <th>1042</th>\n",
       "      <td>Ayer antes de irme me salió lo de la escoba y ...</td>\n",
       "      <td>0</td>\n",
       "    </tr>\n",
       "    <tr>\n",
       "      <th>1043</th>\n",
       "      <td>@user @user Te pasas jejeje</td>\n",
       "      <td>3</td>\n",
       "    </tr>\n",
       "    <tr>\n",
       "      <th>1044</th>\n",
       "      <td>Que domingo herrrrmoso!</td>\n",
       "      <td>3</td>\n",
       "    </tr>\n",
       "  </tbody>\n",
       "</table>\n",
       "<p>7599 rows × 2 columns</p>\n",
       "</div>"
      ],
      "text/plain": [
       "                                                   text  label\n",
       "0     Ante estos resultados, expectativa de avances ...      3\n",
       "1     Pobre #Venezuela, tan lejos de Dios y tan cerc...      2\n",
       "2     ¿ARENGAS DE UN GOLPISTA?: Disturbios en Caraca...      6\n",
       "3     La negociación y el diálogo será la clave para...      6\n",
       "4     Cersei se encuentra buscando lentillas de colo...      6\n",
       "...                                                 ...    ...\n",
       "1040        @user  no se puede jugar desde él sabado ..      2\n",
       "1041  ¿Por qué gran mierda borras los tuits, @user C...      0\n",
       "1042  Ayer antes de irme me salió lo de la escoba y ...      0\n",
       "1043                       @user @user Te pasas jejeje       3\n",
       "1044                           Que domingo herrrrmoso!       3\n",
       "\n",
       "[7599 rows x 2 columns]"
      ]
     },
     "execution_count": 17,
     "metadata": {},
     "output_type": "execute_result"
    }
   ],
   "source": [
    "semval_emoevent_hugging_test"
   ]
  },
  {
   "cell_type": "code",
   "execution_count": null,
   "id": "e78cda68-4170-4743-82fe-e7472d20816b",
   "metadata": {},
   "outputs": [],
   "source": []
  }
 ],
 "metadata": {
  "kernelspec": {
   "display_name": "Python 3 (ipykernel)",
   "language": "python",
   "name": "python3"
  },
  "language_info": {
   "codemirror_mode": {
    "name": "ipython",
    "version": 3
   },
   "file_extension": ".py",
   "mimetype": "text/x-python",
   "name": "python",
   "nbconvert_exporter": "python",
   "pygments_lexer": "ipython3",
   "version": "3.9.7"
  }
 },
 "nbformat": 4,
 "nbformat_minor": 5
}
