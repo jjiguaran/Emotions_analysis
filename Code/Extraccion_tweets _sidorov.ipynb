{
 "cells": [
  {
   "cell_type": "code",
   "execution_count": 2,
   "id": "caa14792-6d03-4eb4-ab93-33941f2b1452",
   "metadata": {},
   "outputs": [],
   "source": [
    "import tweepy\n",
    "import pandas as pd\n",
    "from sklearn.model_selection import train_test_split"
   ]
  },
  {
   "cell_type": "code",
   "execution_count": 19,
   "id": "ff54b920-299c-4f40-8e71-84d30f712048",
   "metadata": {},
   "outputs": [],
   "source": [
    "def preprocess(text):\n",
    "    new_text = []\n",
    "    for t in text.split(\" \"):\n",
    "        t = '' if t.startswith('#') and len(t) > 1 else t\n",
    "        new_text.append(t)\n",
    "    return \" \".join(new_text)"
   ]
  },
  {
   "cell_type": "code",
   "execution_count": null,
   "id": "7225f07d-3841-4a84-a6aa-f9953f759670",
   "metadata": {},
   "outputs": [],
   "source": [
    "client = tweepy.Client(bearer_token = \"AAAAAAAAAAAAAAAAAAAAAKKEcwEAAAAA1VgzT5upnu%2B5POQ3dbdUx0%2B5vfA%3DdslAW6ut31gZhQD9SjNKJ4scCFd8bHgbevp8eGcJprbd2LTrGf\", wait_on_rate_limit = True)"
   ]
  },
  {
   "cell_type": "code",
   "execution_count": null,
   "id": "8b1d4cc1-cd32-46af-ad37-8e5202915f37",
   "metadata": {},
   "outputs": [],
   "source": [
    "ids_df = pd.read_csv('../Data/corpus_marcado6emociones.txt', sep=' ',skiprows=19, header=None, names = ['id','Emocion']).apply(lambda s:s.str.replace(\"'\", \"\"))"
   ]
  },
  {
   "cell_type": "code",
   "execution_count": null,
   "id": "6fa30b95-6fc0-4390-9945-8ad9ad6c2d00",
   "metadata": {},
   "outputs": [],
   "source": [
    "inicio = 0\n",
    "ids_list = []\n",
    "emocion_list = pd.Series(dtype=str)\n",
    "text_list = []\n",
    "for i in list(range(100,len(ids_df),100)) + [len(ids_df)]:\n",
    "    ids_list_temp = list(ids_df['id'][inicio:i])\n",
    "    data = client.get_tweets(ids = ids_list_temp).data\n",
    "    if data != None:\n",
    "        text_list = text_list + [j.text for j in data ]\n",
    "        ids_list_filtr = [str(i.id) for i in data ]\n",
    "        emocion_list = emocion_list.append(ids_df[inicio:i][ids_df['id'][inicio:i].isin(ids_list_filtr)]['Emocion'].reset_index(drop = True))\n",
    "        ids_list = ids_list + ids_list_filtr\n",
    "    inicio = i\n",
    "    print(i)\n",
    "emociones_tweets_df = pd.DataFrame({'id':ids_list, 'text':text_list, 'emocion': emocion_list.reset_index(drop = True) })"
   ]
  },
  {
   "cell_type": "code",
   "execution_count": null,
   "id": "04d5f587-a00d-4ce6-8691-6d4ce90f2c0e",
   "metadata": {},
   "outputs": [],
   "source": [
    "emociones_tweets_df.to_csv('../Data/Sidorov/corpus_marcado6emociones_extracted.csv', index=False)  "
   ]
  },
  {
   "cell_type": "code",
   "execution_count": 3,
   "id": "de4a8a30-727b-484f-b510-3644a3a7575e",
   "metadata": {},
   "outputs": [],
   "source": [
    "emociones_tweets_df = pd.read_csv('../Data/Sidorov/corpus_marcado6emociones_extracted.csv')"
   ]
  },
  {
   "cell_type": "code",
   "execution_count": 29,
   "id": "529e94bc-e9b2-4853-bbef-db0be68e49b5",
   "metadata": {},
   "outputs": [],
   "source": [
    "emociones_tweets_df = emociones_tweets_df[emociones_tweets_df['emocion'].notnull()].reset_index()"
   ]
  },
  {
   "cell_type": "code",
   "execution_count": 5,
   "id": "bf0e029e-e56d-4b3f-9a2e-ee937817f0fd",
   "metadata": {},
   "outputs": [],
   "source": [
    "map_dict = {0:\"ira\", 1:\"miedo\", 2:\"tristeza\", 3:\"alegria\", 4:\"asco\", 5:\"sorpresa\", 6:\"otra\"}\n",
    "map_dict_inverse = {v: k for k, v in map_dict.items()}"
   ]
  },
  {
   "cell_type": "code",
   "execution_count": 34,
   "id": "4cdfd2ed-5f5f-4baf-acc6-1baa13a4b689",
   "metadata": {},
   "outputs": [],
   "source": [
    "emociones_tweets_df['label'] =emociones_tweets_df[\"emocion\"].str.lower().map(map_dict_inverse)"
   ]
  },
  {
   "cell_type": "code",
   "execution_count": 36,
   "id": "7ebd39e6-b3c5-4853-a97a-51bdf44315e5",
   "metadata": {},
   "outputs": [],
   "source": [
    "emociones_tweets_df.to_csv('../Data/Sidorov/corpus_marcado6emociones_extracted.csv', index=False)  "
   ]
  },
  {
   "cell_type": "code",
   "execution_count": 25,
   "id": "540df484-cd99-49ef-b177-18410d541e98",
   "metadata": {},
   "outputs": [],
   "source": [
    "emociones_tweets_df['text'] = emociones_tweets_df['text'].apply(preprocess)\n",
    "emociones_tweets_df.to_csv('../Data/Sidorov/sidorov_clean.csv', index=False)  "
   ]
  },
  {
   "cell_type": "code",
   "execution_count": 26,
   "id": "8e78b762-cb19-475d-aac1-aaae610aaef6",
   "metadata": {},
   "outputs": [],
   "source": [
    "train, test = train_test_split(emociones_tweets_df[['text', 'label']], test_size=0.2, random_state=42)"
   ]
  },
  {
   "cell_type": "code",
   "execution_count": 33,
   "id": "682db4c3-b740-4c07-b83d-1213f8036603",
   "metadata": {},
   "outputs": [],
   "source": [
    "train.to_csv('../Data/Huggingface/sidorov_hugging_train.csv', index=False) \n",
    "test.to_csv('../Data/Huggingface/sidorov_hugging_test.csv', index=False)  "
   ]
  },
  {
   "cell_type": "code",
   "execution_count": 17,
   "id": "99ed5c9c-a5bd-4f42-aa68-a2ebda9acd87",
   "metadata": {},
   "outputs": [
    {
     "data": {
      "text/plain": [
       "'Todos dios intenta dar una buena imagen por las redes sociales.... y luego si los vieras en persona te llevas disgustos #asco'"
      ]
     },
     "execution_count": 17,
     "metadata": {},
     "output_type": "execute_result"
    }
   ],
   "source": [
    "emociones_tweets_df['text'][2000]"
   ]
  },
  {
   "cell_type": "code",
   "execution_count": 32,
   "id": "1db4c4ff-6d97-45dd-a8ff-e7e26051ff62",
   "metadata": {},
   "outputs": [
    {
     "data": {
      "text/html": [
       "<div>\n",
       "<style scoped>\n",
       "    .dataframe tbody tr th:only-of-type {\n",
       "        vertical-align: middle;\n",
       "    }\n",
       "\n",
       "    .dataframe tbody tr th {\n",
       "        vertical-align: top;\n",
       "    }\n",
       "\n",
       "    .dataframe thead th {\n",
       "        text-align: right;\n",
       "    }\n",
       "</style>\n",
       "<table border=\"1\" class=\"dataframe\">\n",
       "  <thead>\n",
       "    <tr style=\"text-align: right;\">\n",
       "      <th></th>\n",
       "      <th>text</th>\n",
       "      <th>label</th>\n",
       "    </tr>\n",
       "  </thead>\n",
       "  <tbody>\n",
       "    <tr>\n",
       "      <th>1699</th>\n",
       "      <td>Ariel Freez Lo más importante en la vida, es a...</td>\n",
       "      <td>3</td>\n",
       "    </tr>\n",
       "    <tr>\n",
       "      <th>1379</th>\n",
       "      <td>Tener una amiga de fierro, un amor sincero y u...</td>\n",
       "      <td>3</td>\n",
       "    </tr>\n",
       "    <tr>\n",
       "      <th>180</th>\n",
       "      <td>Pachuca a la final, Delfines campeon, mañana c...</td>\n",
       "      <td>3</td>\n",
       "    </tr>\n",
       "    <tr>\n",
       "      <th>5632</th>\n",
       "      <td>una mujer poca ropa riendo como loca para lla...</td>\n",
       "      <td>0</td>\n",
       "    </tr>\n",
       "    <tr>\n",
       "      <th>6874</th>\n",
       "      <td>Récord Mundial: Mayor rompecabezas hecho con t...</td>\n",
       "      <td>5</td>\n",
       "    </tr>\n",
       "    <tr>\n",
       "      <th>...</th>\n",
       "      <td>...</td>\n",
       "      <td>...</td>\n",
       "    </tr>\n",
       "    <tr>\n",
       "      <th>5734</th>\n",
       "      <td>\"VIENE LA VELA,ME DIJERON LOS DE ARRIBA QUE L...</td>\n",
       "      <td>0</td>\n",
       "    </tr>\n",
       "    <tr>\n",
       "      <th>5191</th>\n",
       "      <td>las personas que critican todo el tiempo, a t...</td>\n",
       "      <td>0</td>\n",
       "    </tr>\n",
       "    <tr>\n",
       "      <th>5390</th>\n",
       "      <td>la gente que habla mal a espaldas de otros mi...</td>\n",
       "      <td>0</td>\n",
       "    </tr>\n",
       "    <tr>\n",
       "      <th>860</th>\n",
       "      <td>Que bueno saber que Tus Palabras pueden marcar...</td>\n",
       "      <td>3</td>\n",
       "    </tr>\n",
       "    <tr>\n",
       "      <th>7270</th>\n",
       "      <td>Que loco es cruzarte a la vecina de enfrente y...</td>\n",
       "      <td>5</td>\n",
       "    </tr>\n",
       "  </tbody>\n",
       "</table>\n",
       "<p>7820 rows × 2 columns</p>\n",
       "</div>"
      ],
      "text/plain": [
       "                                                   text  label\n",
       "1699  Ariel Freez Lo más importante en la vida, es a...      3\n",
       "1379  Tener una amiga de fierro, un amor sincero y u...      3\n",
       "180   Pachuca a la final, Delfines campeon, mañana c...      3\n",
       "5632   una mujer poca ropa riendo como loca para lla...      0\n",
       "6874  Récord Mundial: Mayor rompecabezas hecho con t...      5\n",
       "...                                                 ...    ...\n",
       "5734   \"VIENE LA VELA,ME DIJERON LOS DE ARRIBA QUE L...      0\n",
       "5191   las personas que critican todo el tiempo, a t...      0\n",
       "5390   la gente que habla mal a espaldas de otros mi...      0\n",
       "860   Que bueno saber que Tus Palabras pueden marcar...      3\n",
       "7270  Que loco es cruzarte a la vecina de enfrente y...      5\n",
       "\n",
       "[7820 rows x 2 columns]"
      ]
     },
     "execution_count": 32,
     "metadata": {},
     "output_type": "execute_result"
    }
   ],
   "source": [
    "train"
   ]
  },
  {
   "cell_type": "code",
   "execution_count": null,
   "id": "a40a5704-85b4-4e35-ada9-484b95f7cb14",
   "metadata": {},
   "outputs": [],
   "source": []
  },
  {
   "cell_type": "code",
   "execution_count": null,
   "id": "050a5fc9-ad5b-4a9e-b5c1-34e1ffb63520",
   "metadata": {},
   "outputs": [],
   "source": []
  }
 ],
 "metadata": {
  "kernelspec": {
   "display_name": "Python 3 (ipykernel)",
   "language": "python",
   "name": "python3"
  },
  "language_info": {
   "codemirror_mode": {
    "name": "ipython",
    "version": 3
   },
   "file_extension": ".py",
   "mimetype": "text/x-python",
   "name": "python",
   "nbconvert_exporter": "python",
   "pygments_lexer": "ipython3",
   "version": "3.9.7"
  }
 },
 "nbformat": 4,
 "nbformat_minor": 5
}
