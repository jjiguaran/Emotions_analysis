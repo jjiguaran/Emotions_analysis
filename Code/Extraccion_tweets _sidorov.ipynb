{
 "cells": [
  {
   "cell_type": "code",
   "execution_count": 38,
   "id": "caa14792-6d03-4eb4-ab93-33941f2b1452",
   "metadata": {},
   "outputs": [],
   "source": [
    "import tweepy\n",
    "import pandas as pd\n",
    "from sklearn.model_selection import train_test_split"
   ]
  },
  {
   "cell_type": "code",
   "execution_count": null,
   "id": "7225f07d-3841-4a84-a6aa-f9953f759670",
   "metadata": {},
   "outputs": [],
   "source": [
    "client = tweepy.Client(bearer_token = \"AAAAAAAAAAAAAAAAAAAAAKKEcwEAAAAA1VgzT5upnu%2B5POQ3dbdUx0%2B5vfA%3DdslAW6ut31gZhQD9SjNKJ4scCFd8bHgbevp8eGcJprbd2LTrGf\", wait_on_rate_limit = True)"
   ]
  },
  {
   "cell_type": "code",
   "execution_count": null,
   "id": "8b1d4cc1-cd32-46af-ad37-8e5202915f37",
   "metadata": {},
   "outputs": [],
   "source": [
    "ids_df = pd.read_csv('../Data/corpus_marcado6emociones.txt', sep=' ',skiprows=19, header=None, names = ['id','Emocion']).apply(lambda s:s.str.replace(\"'\", \"\"))"
   ]
  },
  {
   "cell_type": "code",
   "execution_count": null,
   "id": "6fa30b95-6fc0-4390-9945-8ad9ad6c2d00",
   "metadata": {},
   "outputs": [],
   "source": [
    "inicio = 0\n",
    "ids_list = []\n",
    "emocion_list = pd.Series(dtype=str)\n",
    "text_list = []\n",
    "for i in list(range(100,len(ids_df),100)) + [len(ids_df)]:\n",
    "    ids_list_temp = list(ids_df['id'][inicio:i])\n",
    "    data = client.get_tweets(ids = ids_list_temp).data\n",
    "    if data != None:\n",
    "        text_list = text_list + [j.text for j in data ]\n",
    "        ids_list_filtr = [str(i.id) for i in data ]\n",
    "        emocion_list = emocion_list.append(ids_df[inicio:i][ids_df['id'][inicio:i].isin(ids_list_filtr)]['Emocion'].reset_index(drop = True))\n",
    "        ids_list = ids_list + ids_list_filtr\n",
    "    inicio = i\n",
    "    print(i)\n",
    "emociones_tweets_df = pd.DataFrame({'id':ids_list, 'text':text_list, 'emocion': emocion_list.reset_index(drop = True) })"
   ]
  },
  {
   "cell_type": "code",
   "execution_count": null,
   "id": "04d5f587-a00d-4ce6-8691-6d4ce90f2c0e",
   "metadata": {},
   "outputs": [],
   "source": [
    "emociones_tweets_df.to_csv('../Data/Sidorov/corpus_marcado6emociones_extracted.csv', index=False)  "
   ]
  },
  {
   "cell_type": "code",
   "execution_count": 3,
   "id": "de4a8a30-727b-484f-b510-3644a3a7575e",
   "metadata": {},
   "outputs": [],
   "source": [
    "emociones_tweets_df = pd.read_csv('../Data/Sidorov/corpus_marcado6emociones_extracted.csv')"
   ]
  },
  {
   "cell_type": "code",
   "execution_count": 29,
   "id": "529e94bc-e9b2-4853-bbef-db0be68e49b5",
   "metadata": {},
   "outputs": [],
   "source": [
    "emociones_tweets_df = emociones_tweets_df[emociones_tweets_df['emocion'].notnull()].reset_index()"
   ]
  },
  {
   "cell_type": "code",
   "execution_count": 5,
   "id": "bf0e029e-e56d-4b3f-9a2e-ee937817f0fd",
   "metadata": {},
   "outputs": [],
   "source": [
    "map_dict = {0:\"ira\", 1:\"miedo\", 2:\"tristeza\", 3:\"alegria\", 4:\"asco\", 5:\"sorpresa\", 6:\"otra\"}\n",
    "map_dict_inverse = {v: k for k, v in map_dict.items()}"
   ]
  },
  {
   "cell_type": "code",
   "execution_count": 34,
   "id": "4cdfd2ed-5f5f-4baf-acc6-1baa13a4b689",
   "metadata": {},
   "outputs": [],
   "source": [
    "emociones_tweets_df['label'] =emociones_tweets_df[\"emocion\"].str.lower().map(map_dict_inverse)"
   ]
  },
  {
   "cell_type": "code",
   "execution_count": 36,
   "id": "7ebd39e6-b3c5-4853-a97a-51bdf44315e5",
   "metadata": {},
   "outputs": [],
   "source": [
    "emociones_tweets_df.to_csv('../Data/Sidorov/corpus_marcado6emociones_extracted.csv', index=False)  "
   ]
  },
  {
   "cell_type": "code",
   "execution_count": 42,
   "id": "8e78b762-cb19-475d-aac1-aaae610aaef6",
   "metadata": {},
   "outputs": [],
   "source": [
    "train, test = train_test_split(emociones_tweets_df[['text', 'label']], test_size=0.2, random_state=42)"
   ]
  },
  {
   "cell_type": "code",
   "execution_count": 45,
   "id": "682db4c3-b740-4c07-b83d-1213f8036603",
   "metadata": {},
   "outputs": [],
   "source": [
    "train.to_csv('../Data/Sidorov/sidorov_hugging_train.csv', index=False) \n",
    "test.to_csv('../Data/Sidorov/sidorov_hugging_test.csv', index=False)  "
   ]
  }
 ],
 "metadata": {
  "kernelspec": {
   "display_name": "Python 3 (ipykernel)",
   "language": "python",
   "name": "python3"
  },
  "language_info": {
   "codemirror_mode": {
    "name": "ipython",
    "version": 3
   },
   "file_extension": ".py",
   "mimetype": "text/x-python",
   "name": "python",
   "nbconvert_exporter": "python",
   "pygments_lexer": "ipython3",
   "version": "3.9.7"
  }
 },
 "nbformat": 4,
 "nbformat_minor": 5
}
