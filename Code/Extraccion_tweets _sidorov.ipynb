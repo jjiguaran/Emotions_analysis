{
 "cells": [
  {
   "cell_type": "code",
   "execution_count": 2,
   "id": "caa14792-6d03-4eb4-ab93-33941f2b1452",
   "metadata": {},
   "outputs": [],
   "source": [
    "import tweepy\n",
    "import pandas as pd\n",
    "from sklearn.model_selection import train_test_split"
   ]
  },
  {
   "cell_type": "code",
   "execution_count": null,
   "id": "7225f07d-3841-4a84-a6aa-f9953f759670",
   "metadata": {},
   "outputs": [],
   "source": [
    "client = tweepy.Client(bearer_token = \"AAAAAAAAAAAAAAAAAAAAAKKEcwEAAAAA1VgzT5upnu%2B5POQ3dbdUx0%2B5vfA%3DdslAW6ut31gZhQD9SjNKJ4scCFd8bHgbevp8eGcJprbd2LTrGf\", wait_on_rate_limit = True)"
   ]
  },
  {
   "cell_type": "code",
   "execution_count": null,
   "id": "8b1d4cc1-cd32-46af-ad37-8e5202915f37",
   "metadata": {},
   "outputs": [],
   "source": [
    "ids_df = pd.read_csv('../Data/corpus_marcado6emociones.txt', sep=' ',skiprows=19, header=None, names = ['id','Emocion']).apply(lambda s:s.str.replace(\"'\", \"\"))"
   ]
  },
  {
   "cell_type": "code",
   "execution_count": null,
   "id": "6fa30b95-6fc0-4390-9945-8ad9ad6c2d00",
   "metadata": {},
   "outputs": [],
   "source": [
    "inicio = 0\n",
    "ids_list = []\n",
    "emocion_list = pd.Series(dtype=str)\n",
    "text_list = []\n",
    "for i in list(range(100,len(ids_df),100)) + [len(ids_df)]:\n",
    "    ids_list_temp = list(ids_df['id'][inicio:i])\n",
    "    data = client.get_tweets(ids = ids_list_temp).data\n",
    "    if data != None:\n",
    "        text_list = text_list + [j.text for j in data ]\n",
    "        ids_list_filtr = [str(i.id) for i in data ]\n",
    "        emocion_list = emocion_list.append(ids_df[inicio:i][ids_df['id'][inicio:i].isin(ids_list_filtr)]['Emocion'].reset_index(drop = True))\n",
    "        ids_list = ids_list + ids_list_filtr\n",
    "    inicio = i\n",
    "    print(i)\n",
    "emociones_tweets_df = pd.DataFrame({'id':ids_list, 'text':text_list, 'emocion': emocion_list.reset_index(drop = True) })"
   ]
  },
  {
   "cell_type": "code",
   "execution_count": null,
   "id": "04d5f587-a00d-4ce6-8691-6d4ce90f2c0e",
   "metadata": {},
   "outputs": [],
   "source": [
    "emociones_tweets_df.to_csv('../Data/Sidorov/corpus_marcado6emociones_extracted.csv', index=False)  "
   ]
  },
  {
   "cell_type": "code",
   "execution_count": 3,
   "id": "de4a8a30-727b-484f-b510-3644a3a7575e",
   "metadata": {},
   "outputs": [],
   "source": [
    "emociones_tweets_df = pd.read_csv('../Data/Sidorov/corpus_marcado6emociones_extracted.csv')"
   ]
  },
  {
   "cell_type": "code",
   "execution_count": 29,
   "id": "529e94bc-e9b2-4853-bbef-db0be68e49b5",
   "metadata": {},
   "outputs": [],
   "source": [
    "emociones_tweets_df = emociones_tweets_df[emociones_tweets_df['emocion'].notnull()].reset_index()"
   ]
  },
  {
   "cell_type": "code",
   "execution_count": 5,
   "id": "bf0e029e-e56d-4b3f-9a2e-ee937817f0fd",
   "metadata": {},
   "outputs": [],
   "source": [
    "map_dict = {0:\"ira\", 1:\"miedo\", 2:\"tristeza\", 3:\"alegria\", 4:\"asco\", 5:\"sorpresa\", 6:\"otra\"}\n",
    "map_dict_inverse = {v: k for k, v in map_dict.items()}"
   ]
  },
  {
   "cell_type": "code",
   "execution_count": 34,
   "id": "4cdfd2ed-5f5f-4baf-acc6-1baa13a4b689",
   "metadata": {},
   "outputs": [],
   "source": [
    "emociones_tweets_df['label'] =emociones_tweets_df[\"emocion\"].str.lower().map(map_dict_inverse)"
   ]
  },
  {
   "cell_type": "code",
   "execution_count": 36,
   "id": "7ebd39e6-b3c5-4853-a97a-51bdf44315e5",
   "metadata": {},
   "outputs": [],
   "source": [
    "emociones_tweets_df.to_csv('../Data/Sidorov/corpus_marcado6emociones_extracted.csv', index=False)  "
   ]
  },
  {
   "cell_type": "code",
   "execution_count": 5,
   "id": "8e78b762-cb19-475d-aac1-aaae610aaef6",
   "metadata": {},
   "outputs": [],
   "source": [
    "train, test = train_test_split(emociones_tweets_df[['text', 'label']], test_size=0.2, random_state=42)"
   ]
  },
  {
   "cell_type": "code",
   "execution_count": 6,
   "id": "682db4c3-b740-4c07-b83d-1213f8036603",
   "metadata": {},
   "outputs": [],
   "source": [
    "train.to_csv('../Data/Huggingface/sidorov_hugging_train.csv', index=False) \n",
    "test.to_csv('../Data/Huggingface/sidorov_hugging_test.csv', index=False)  "
   ]
  },
  {
   "cell_type": "code",
   "execution_count": 4,
   "id": "99ed5c9c-a5bd-4f42-aa68-a2ebda9acd87",
   "metadata": {},
   "outputs": [
    {
     "data": {
      "text/html": [
       "<div>\n",
       "<style scoped>\n",
       "    .dataframe tbody tr th:only-of-type {\n",
       "        vertical-align: middle;\n",
       "    }\n",
       "\n",
       "    .dataframe tbody tr th {\n",
       "        vertical-align: top;\n",
       "    }\n",
       "\n",
       "    .dataframe thead th {\n",
       "        text-align: right;\n",
       "    }\n",
       "</style>\n",
       "<table border=\"1\" class=\"dataframe\">\n",
       "  <thead>\n",
       "    <tr style=\"text-align: right;\">\n",
       "      <th></th>\n",
       "      <th>index</th>\n",
       "      <th>id</th>\n",
       "      <th>text</th>\n",
       "      <th>emocion</th>\n",
       "      <th>label</th>\n",
       "    </tr>\n",
       "  </thead>\n",
       "  <tbody>\n",
       "    <tr>\n",
       "      <th>0</th>\n",
       "      <td>0</td>\n",
       "      <td>465049714141200384</td>\n",
       "      <td>Buuenoos diiias ya estoy con mii pekeñaa!! Y c...</td>\n",
       "      <td>Alegria</td>\n",
       "      <td>3</td>\n",
       "    </tr>\n",
       "    <tr>\n",
       "      <th>1</th>\n",
       "      <td>1</td>\n",
       "      <td>468241881428951041</td>\n",
       "      <td>Nuevos proyectos, nuevas metas, una nueva sema...</td>\n",
       "      <td>Alegria</td>\n",
       "      <td>3</td>\n",
       "    </tr>\n",
       "    <tr>\n",
       "      <th>2</th>\n",
       "      <td>2</td>\n",
       "      <td>469580509895729153</td>\n",
       "      <td>Hay altísimas posibilidades de a ver echo bien...</td>\n",
       "      <td>Alegria</td>\n",
       "      <td>3</td>\n",
       "    </tr>\n",
       "    <tr>\n",
       "      <th>3</th>\n",
       "      <td>3</td>\n",
       "      <td>469251121354391553</td>\n",
       "      <td>Me tome un taxi con el primer tachero del mund...</td>\n",
       "      <td>Alegria</td>\n",
       "      <td>3</td>\n",
       "    </tr>\n",
       "    <tr>\n",
       "      <th>4</th>\n",
       "      <td>4</td>\n",
       "      <td>468435168693211136</td>\n",
       "      <td>Lindos trofeos trajo el rojo ayer!!! ☺ #Feliz ...</td>\n",
       "      <td>Alegria</td>\n",
       "      <td>3</td>\n",
       "    </tr>\n",
       "    <tr>\n",
       "      <th>...</th>\n",
       "      <td>...</td>\n",
       "      <td>...</td>\n",
       "      <td>...</td>\n",
       "      <td>...</td>\n",
       "      <td>...</td>\n",
       "    </tr>\n",
       "    <tr>\n",
       "      <th>9770</th>\n",
       "      <td>9774</td>\n",
       "      <td>518951595971977216</td>\n",
       "      <td>Acabo de mandar un tweet de R***ng y la PC se ...</td>\n",
       "      <td>Miedo</td>\n",
       "      <td>1</td>\n",
       "    </tr>\n",
       "    <tr>\n",
       "      <th>9771</th>\n",
       "      <td>9775</td>\n",
       "      <td>518952999121469440</td>\n",
       "      <td>\"Con Palermo no pudo, con Guillermo no pudo y ...</td>\n",
       "      <td>Miedo</td>\n",
       "      <td>1</td>\n",
       "    </tr>\n",
       "    <tr>\n",
       "      <th>9772</th>\n",
       "      <td>9776</td>\n",
       "      <td>518953127949905922</td>\n",
       "      <td>Nose pero el remisero del 29 que se parece a C...</td>\n",
       "      <td>Miedo</td>\n",
       "      <td>1</td>\n",
       "    </tr>\n",
       "    <tr>\n",
       "      <th>9773</th>\n",
       "      <td>9777</td>\n",
       "      <td>518976161511374848</td>\n",
       "      <td>De todas formas mi atención está en que el pró...</td>\n",
       "      <td>Miedo</td>\n",
       "      <td>1</td>\n",
       "    </tr>\n",
       "    <tr>\n",
       "      <th>9774</th>\n",
       "      <td>9778</td>\n",
       "      <td>518979052481552385</td>\n",
       "      <td>Vieron cuando piensas una situación y después ...</td>\n",
       "      <td>Miedo</td>\n",
       "      <td>1</td>\n",
       "    </tr>\n",
       "  </tbody>\n",
       "</table>\n",
       "<p>9775 rows × 5 columns</p>\n",
       "</div>"
      ],
      "text/plain": [
       "      index                  id  \\\n",
       "0         0  465049714141200384   \n",
       "1         1  468241881428951041   \n",
       "2         2  469580509895729153   \n",
       "3         3  469251121354391553   \n",
       "4         4  468435168693211136   \n",
       "...     ...                 ...   \n",
       "9770   9774  518951595971977216   \n",
       "9771   9775  518952999121469440   \n",
       "9772   9776  518953127949905922   \n",
       "9773   9777  518976161511374848   \n",
       "9774   9778  518979052481552385   \n",
       "\n",
       "                                                   text  emocion  label  \n",
       "0     Buuenoos diiias ya estoy con mii pekeñaa!! Y c...  Alegria      3  \n",
       "1     Nuevos proyectos, nuevas metas, una nueva sema...  Alegria      3  \n",
       "2     Hay altísimas posibilidades de a ver echo bien...  Alegria      3  \n",
       "3     Me tome un taxi con el primer tachero del mund...  Alegria      3  \n",
       "4     Lindos trofeos trajo el rojo ayer!!! ☺ #Feliz ...  Alegria      3  \n",
       "...                                                 ...      ...    ...  \n",
       "9770  Acabo de mandar un tweet de R***ng y la PC se ...    Miedo      1  \n",
       "9771  \"Con Palermo no pudo, con Guillermo no pudo y ...    Miedo      1  \n",
       "9772  Nose pero el remisero del 29 que se parece a C...    Miedo      1  \n",
       "9773  De todas formas mi atención está en que el pró...    Miedo      1  \n",
       "9774  Vieron cuando piensas una situación y después ...    Miedo      1  \n",
       "\n",
       "[9775 rows x 5 columns]"
      ]
     },
     "execution_count": 4,
     "metadata": {},
     "output_type": "execute_result"
    }
   ],
   "source": [
    "emociones_tweets_df"
   ]
  },
  {
   "cell_type": "code",
   "execution_count": null,
   "id": "540df484-cd99-49ef-b177-18410d541e98",
   "metadata": {},
   "outputs": [],
   "source": []
  }
 ],
 "metadata": {
  "kernelspec": {
   "display_name": "Python 3 (ipykernel)",
   "language": "python",
   "name": "python3"
  },
  "language_info": {
   "codemirror_mode": {
    "name": "ipython",
    "version": 3
   },
   "file_extension": ".py",
   "mimetype": "text/x-python",
   "name": "python",
   "nbconvert_exporter": "python",
   "pygments_lexer": "ipython3",
   "version": "3.9.7"
  }
 },
 "nbformat": 4,
 "nbformat_minor": 5
}
