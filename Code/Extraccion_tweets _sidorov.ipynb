{
 "cells": [
  {
   "cell_type": "code",
   "execution_count": null,
   "id": "caa14792-6d03-4eb4-ab93-33941f2b1452",
   "metadata": {},
   "outputs": [],
   "source": [
    "import tweepy\n",
    "import pandas as pd"
   ]
  },
  {
   "cell_type": "code",
   "execution_count": null,
   "id": "7225f07d-3841-4a84-a6aa-f9953f759670",
   "metadata": {},
   "outputs": [],
   "source": [
    "client = tweepy.Client(bearer_token = \"AAAAAAAAAAAAAAAAAAAAAKKEcwEAAAAA1VgzT5upnu%2B5POQ3dbdUx0%2B5vfA%3DdslAW6ut31gZhQD9SjNKJ4scCFd8bHgbevp8eGcJprbd2LTrGf\", wait_on_rate_limit = True)"
   ]
  },
  {
   "cell_type": "code",
   "execution_count": null,
   "id": "8b1d4cc1-cd32-46af-ad37-8e5202915f37",
   "metadata": {},
   "outputs": [],
   "source": [
    "ids_df = pd.read_csv('../Data/corpus_marcado6emociones.txt', sep=' ',skiprows=19, header=None, names = ['id','Emocion']).apply(lambda s:s.str.replace(\"'\", \"\"))"
   ]
  },
  {
   "cell_type": "code",
   "execution_count": null,
   "id": "6fa30b95-6fc0-4390-9945-8ad9ad6c2d00",
   "metadata": {},
   "outputs": [],
   "source": [
    "inicio = 0\n",
    "ids_list = []\n",
    "emocion_list = pd.Series(dtype=str)\n",
    "text_list = []\n",
    "for i in list(range(100,len(ids_df),100)) + [len(ids_df)]:\n",
    "    ids_list_temp = list(ids_df['id'][inicio:i])\n",
    "    data = client.get_tweets(ids = ids_list_temp).data\n",
    "    if data != None:\n",
    "        text_list = text_list + [j.text for j in data ]\n",
    "        ids_list_filtr = [str(i.id) for i in data ]\n",
    "        emocion_list = emocion_list.append(ids_df[inicio:i][ids_df['id'][inicio:i].isin(ids_list_filtr)]['Emocion'].reset_index(drop = True))\n",
    "        ids_list = ids_list + ids_list_filtr\n",
    "    inicio = i\n",
    "    print(i)\n",
    "emociones_tweets_df = pd.DataFrame({'id':ids_list, 'text':text_list, 'emocion': emocion_list.reset_index(drop = True) })"
   ]
  },
  {
   "cell_type": "code",
   "execution_count": null,
   "id": "04d5f587-a00d-4ce6-8691-6d4ce90f2c0e",
   "metadata": {},
   "outputs": [],
   "source": [
    "emociones_tweets_df.to_csv('../Data/Sidorov/corpus_marcado6emociones_extracted.csv', index=False)  "
   ]
  }
 ],
 "metadata": {
  "kernelspec": {
   "display_name": "Python 3 (ipykernel)",
   "language": "python",
   "name": "python3"
  },
  "language_info": {
   "codemirror_mode": {
    "name": "ipython",
    "version": 3
   },
   "file_extension": ".py",
   "mimetype": "text/x-python",
   "name": "python",
   "nbconvert_exporter": "python",
   "pygments_lexer": "ipython3",
   "version": "3.9.7"
  }
 },
 "nbformat": 4,
 "nbformat_minor": 5
}
